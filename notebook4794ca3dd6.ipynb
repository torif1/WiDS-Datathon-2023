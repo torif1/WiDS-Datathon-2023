{
 "cells": [
  {
   "cell_type": "markdown",
   "id": "9af17def",
   "metadata": {
    "papermill": {
     "duration": 0.007488,
     "end_time": "2023-02-18T00:57:23.871893",
     "exception": false,
     "start_time": "2023-02-18T00:57:23.864405",
     "status": "completed"
    },
    "tags": []
   },
   "source": [
    "# Plan\n",
    "Ok, so my plan is basically just to break the dataset specifically the date time into different catagorical values. Specifically two new coluns, first the year, a numerical value in order to account for the possibility of a raising or lowering of avg temperachure over a few years, and a second a value 1-356 that gives which day of the specified year it is. I think that by doing it this way the model will be able to diferentiate between the different times of the year without having to deal with wierd time series and all that crazy stuff. Basically I just need to find a model that will train off of that data based on the individual values."
   ]
  },
  {
   "cell_type": "code",
   "execution_count": 1,
   "id": "2b300481",
   "metadata": {
    "_cell_guid": "b1076dfc-b9ad-4769-8c92-a6c4dae69d19",
    "_uuid": "8f2839f25d086af736a60e9eeb907d3b93b6e0e5",
    "execution": {
     "iopub.execute_input": "2023-02-18T00:57:23.886772Z",
     "iopub.status.busy": "2023-02-18T00:57:23.886024Z",
     "iopub.status.idle": "2023-02-18T00:57:23.905918Z",
     "shell.execute_reply": "2023-02-18T00:57:23.905175Z"
    },
    "papermill": {
     "duration": 0.030253,
     "end_time": "2023-02-18T00:57:23.908418",
     "exception": false,
     "start_time": "2023-02-18T00:57:23.878165",
     "status": "completed"
    },
    "tags": []
   },
   "outputs": [
    {
     "name": "stdout",
     "output_type": "stream",
     "text": [
      "/kaggle/input/wids-all-datasets/train_data.csv\n",
      "/kaggle/input/wids-all-datasets/test_data.csv\n",
      "/kaggle/input/wids-all-datasets/sample_solution.csv\n"
     ]
    }
   ],
   "source": [
    "# This Python 3 environment comes with many helpful analytics libraries installed\n",
    "# It is defined by the kaggle/python Docker image: https://github.com/kaggle/docker-python\n",
    "# For example, here's several helpful packages to load\n",
    "\n",
    "import numpy as np # linear algebra\n",
    "import pandas as pd # data processing, CSV file I/O (e.g. pd.read_csv)\n",
    "\n",
    "# Input data files are available in the read-only \"../input/\" directory\n",
    "# For example, running this (by clicking run or pressing Shift+Enter) will list all files under the input directory\n",
    "\n",
    "import os\n",
    "for dirname, _, filenames in os.walk('/kaggle/input'):\n",
    "    for filename in filenames:\n",
    "        print(os.path.join(dirname, filename))\n",
    "\n",
    "# You can write up to 20GB to the current directory (/kaggle/working/) that gets preserved as output when you create a version using \"Save & Run All\" \n",
    "# You can also write temporary files to /kaggle/temp/, but they won't be saved outside of the current session"
   ]
  },
  {
   "cell_type": "code",
   "execution_count": 2,
   "id": "911c3c8e",
   "metadata": {
    "execution": {
     "iopub.execute_input": "2023-02-18T00:57:23.922663Z",
     "iopub.status.busy": "2023-02-18T00:57:23.922036Z",
     "iopub.status.idle": "2023-02-18T00:57:48.754275Z",
     "shell.execute_reply": "2023-02-18T00:57:48.753051Z"
    },
    "papermill": {
     "duration": 24.842803,
     "end_time": "2023-02-18T00:57:48.757509",
     "exception": false,
     "start_time": "2023-02-18T00:57:23.914706",
     "status": "completed"
    },
    "tags": []
   },
   "outputs": [],
   "source": [
    "df=pd.read_csv('/kaggle/input/wids-all-datasets/train_data.csv')\n",
    "df=df.dropna(axis=1)"
   ]
  },
  {
   "cell_type": "code",
   "execution_count": 3,
   "id": "c1ed380b",
   "metadata": {
    "execution": {
     "iopub.execute_input": "2023-02-18T00:57:48.772724Z",
     "iopub.status.busy": "2023-02-18T00:57:48.771622Z",
     "iopub.status.idle": "2023-02-18T00:57:48.776257Z",
     "shell.execute_reply": "2023-02-18T00:57:48.775538Z"
    },
    "papermill": {
     "duration": 0.014386,
     "end_time": "2023-02-18T00:57:48.778271",
     "exception": false,
     "start_time": "2023-02-18T00:57:48.763885",
     "status": "completed"
    },
    "tags": []
   },
   "outputs": [],
   "source": [
    "#Make the dataframe shorter\n",
    "df=df[0:100]"
   ]
  },
  {
   "cell_type": "code",
   "execution_count": 4,
   "id": "7d4d4f3b",
   "metadata": {
    "execution": {
     "iopub.execute_input": "2023-02-18T00:57:48.792295Z",
     "iopub.status.busy": "2023-02-18T00:57:48.791893Z",
     "iopub.status.idle": "2023-02-18T00:57:48.798966Z",
     "shell.execute_reply": "2023-02-18T00:57:48.797989Z"
    },
    "papermill": {
     "duration": 0.016595,
     "end_time": "2023-02-18T00:57:48.801110",
     "exception": false,
     "start_time": "2023-02-18T00:57:48.784515",
     "status": "completed"
    },
    "tags": []
   },
   "outputs": [],
   "source": [
    "#Function to convert dataframe to prefered format.\n",
    "def df_format_neumerical(df):\n",
    "    df['dayofyear']=0\n",
    "    df['year']=0\n",
    "    i=0\n",
    "    while i<len(df):\n",
    "        day=df['startdate'][i]\n",
    "        period=pd.Period(day, freq='D')\n",
    "        df['dayofyear'][i]=int(period.day_of_year)\n",
    "        df['year'][i]=int(period.year)\n",
    "        i+=1\n",
    "    df.pop('startdate')\n",
    "    neumerical_df=df[:]\n",
    "    neumerical_df.pop('climateregions__climateregion')\n",
    "    return df,neumerical_df"
   ]
  },
  {
   "cell_type": "code",
   "execution_count": 5,
   "id": "2d62b7e6",
   "metadata": {
    "execution": {
     "iopub.execute_input": "2023-02-18T00:57:48.815155Z",
     "iopub.status.busy": "2023-02-18T00:57:48.814785Z",
     "iopub.status.idle": "2023-02-18T00:57:48.931386Z",
     "shell.execute_reply": "2023-02-18T00:57:48.930561Z"
    },
    "papermill": {
     "duration": 0.126607,
     "end_time": "2023-02-18T00:57:48.934246",
     "exception": false,
     "start_time": "2023-02-18T00:57:48.807639",
     "status": "completed"
    },
    "tags": []
   },
   "outputs": [
    {
     "name": "stderr",
     "output_type": "stream",
     "text": [
      "/opt/conda/lib/python3.7/site-packages/ipykernel_launcher.py:9: SettingWithCopyWarning: \n",
      "A value is trying to be set on a copy of a slice from a DataFrame\n",
      "\n",
      "See the caveats in the documentation: https://pandas.pydata.org/pandas-docs/stable/user_guide/indexing.html#returning-a-view-versus-a-copy\n",
      "  if __name__ == \"__main__\":\n",
      "/opt/conda/lib/python3.7/site-packages/ipykernel_launcher.py:10: SettingWithCopyWarning: \n",
      "A value is trying to be set on a copy of a slice from a DataFrame\n",
      "\n",
      "See the caveats in the documentation: https://pandas.pydata.org/pandas-docs/stable/user_guide/indexing.html#returning-a-view-versus-a-copy\n",
      "  # Remove the CWD from sys.path while we load stuff.\n"
     ]
    }
   ],
   "source": [
    "df,neumerical_df=df_format_neumerical(df)"
   ]
  },
  {
   "cell_type": "markdown",
   "id": "d2e03a82",
   "metadata": {
    "papermill": {
     "duration": 0.005833,
     "end_time": "2023-02-18T00:57:48.946350",
     "exception": false,
     "start_time": "2023-02-18T00:57:48.940517",
     "status": "completed"
    },
    "tags": []
   },
   "source": [
    "Ok, so I think that with that I am ready to actually start on the model that I am trying to train."
   ]
  },
  {
   "cell_type": "code",
   "execution_count": 6,
   "id": "683fe17b",
   "metadata": {
    "execution": {
     "iopub.execute_input": "2023-02-18T00:57:48.960771Z",
     "iopub.status.busy": "2023-02-18T00:57:48.959978Z",
     "iopub.status.idle": "2023-02-18T00:57:48.964507Z",
     "shell.execute_reply": "2023-02-18T00:57:48.963471Z"
    },
    "papermill": {
     "duration": 0.014174,
     "end_time": "2023-02-18T00:57:48.966726",
     "exception": false,
     "start_time": "2023-02-18T00:57:48.952552",
     "status": "completed"
    },
    "tags": []
   },
   "outputs": [],
   "source": [
    "#df=pd.read_csv('/kaggle/input/wids-all-datasets/train_data.csv')\n",
    "#df.dropna()"
   ]
  },
  {
   "cell_type": "markdown",
   "id": "dab4bbfb",
   "metadata": {
    "papermill": {
     "duration": 0.005936,
     "end_time": "2023-02-18T00:57:48.978766",
     "exception": false,
     "start_time": "2023-02-18T00:57:48.972830",
     "status": "completed"
    },
    "tags": []
   },
   "source": [
    "Tuturial I am going to use:https://machinelearninggeek.com/multi-layer-perceptron-neural-network-using-python/"
   ]
  },
  {
   "cell_type": "code",
   "execution_count": 7,
   "id": "72fafde6",
   "metadata": {
    "execution": {
     "iopub.execute_input": "2023-02-18T00:57:48.992988Z",
     "iopub.status.busy": "2023-02-18T00:57:48.992567Z",
     "iopub.status.idle": "2023-02-18T00:57:49.907064Z",
     "shell.execute_reply": "2023-02-18T00:57:49.905672Z"
    },
    "papermill": {
     "duration": 0.924855,
     "end_time": "2023-02-18T00:57:49.909886",
     "exception": false,
     "start_time": "2023-02-18T00:57:48.985031",
     "status": "completed"
    },
    "tags": []
   },
   "outputs": [],
   "source": [
    "# Import LabelEncoder\n",
    "from sklearn import preprocessing\n",
    "\n",
    "# Creating labelEncoder\n",
    "le = preprocessing.LabelEncoder()\n",
    "\n",
    "# Converting string labels into numbers.\n",
    "df['climateregions__climateregion']=le.fit_transform(df['climateregions__climateregion'])"
   ]
  },
  {
   "cell_type": "code",
   "execution_count": 8,
   "id": "f148af55",
   "metadata": {
    "execution": {
     "iopub.execute_input": "2023-02-18T00:57:49.925209Z",
     "iopub.status.busy": "2023-02-18T00:57:49.924138Z",
     "iopub.status.idle": "2023-02-18T00:57:49.931960Z",
     "shell.execute_reply": "2023-02-18T00:57:49.930841Z"
    },
    "papermill": {
     "duration": 0.018211,
     "end_time": "2023-02-18T00:57:49.934668",
     "exception": false,
     "start_time": "2023-02-18T00:57:49.916457",
     "status": "completed"
    },
    "tags": []
   },
   "outputs": [],
   "source": [
    "#Sepperate dataframe into test and neumerical data\n",
    "def seperate_train(df):\n",
    "    seventy_cutoff=int(.7*len(df))\n",
    "    ninty_cutoff=int(len(df)-(.1*len(df)))\n",
    "    train_neumerical_df=neumerical_df[:seventy_cutoff]\n",
    "    test_neumerical_df=neumerical_df[ninty_cutoff:len(df)]\n",
    "    return train_neumerical_df, test_neumerical_df"
   ]
  },
  {
   "cell_type": "code",
   "execution_count": 9,
   "id": "0a65f130",
   "metadata": {
    "execution": {
     "iopub.execute_input": "2023-02-18T00:57:49.949677Z",
     "iopub.status.busy": "2023-02-18T00:57:49.948596Z",
     "iopub.status.idle": "2023-02-18T00:57:49.953976Z",
     "shell.execute_reply": "2023-02-18T00:57:49.953153Z"
    },
    "papermill": {
     "duration": 0.015119,
     "end_time": "2023-02-18T00:57:49.956033",
     "exception": false,
     "start_time": "2023-02-18T00:57:49.940914",
     "status": "completed"
    },
    "tags": []
   },
   "outputs": [],
   "source": [
    "train_neumerical_df,test_neumerical_df=seperate_train(df)"
   ]
  },
  {
   "cell_type": "code",
   "execution_count": 10,
   "id": "84c06b7b",
   "metadata": {
    "execution": {
     "iopub.execute_input": "2023-02-18T00:57:49.970736Z",
     "iopub.status.busy": "2023-02-18T00:57:49.970012Z",
     "iopub.status.idle": "2023-02-18T00:57:49.974554Z",
     "shell.execute_reply": "2023-02-18T00:57:49.973803Z"
    },
    "papermill": {
     "duration": 0.014409,
     "end_time": "2023-02-18T00:57:49.976638",
     "exception": false,
     "start_time": "2023-02-18T00:57:49.962229",
     "status": "completed"
    },
    "tags": []
   },
   "outputs": [],
   "source": [
    "def df_seperate_y(df):\n",
    "    y_df=df['contest-tmp2m-14d__tmp2m']\n",
    "    X_df=df.drop('contest-tmp2m-14d__tmp2m',axis=1)\n",
    "    return y_df,X_df"
   ]
  },
  {
   "cell_type": "code",
   "execution_count": 11,
   "id": "647415b1",
   "metadata": {
    "execution": {
     "iopub.execute_input": "2023-02-18T00:57:49.991881Z",
     "iopub.status.busy": "2023-02-18T00:57:49.991098Z",
     "iopub.status.idle": "2023-02-18T00:57:49.998569Z",
     "shell.execute_reply": "2023-02-18T00:57:49.997715Z"
    },
    "papermill": {
     "duration": 0.01776,
     "end_time": "2023-02-18T00:57:50.000839",
     "exception": false,
     "start_time": "2023-02-18T00:57:49.983079",
     "status": "completed"
    },
    "tags": []
   },
   "outputs": [],
   "source": [
    "y_train_neumerical_df,X_train_neumerical_df=df_seperate_y(train_neumerical_df)\n",
    "y_test_neumerical_df, X_test_neumerical_df=df_seperate_y(test_neumerical_df)"
   ]
  },
  {
   "cell_type": "code",
   "execution_count": null,
   "id": "16b73a28",
   "metadata": {
    "papermill": {
     "duration": 0.006168,
     "end_time": "2023-02-18T00:57:50.013352",
     "exception": false,
     "start_time": "2023-02-18T00:57:50.007184",
     "status": "completed"
    },
    "tags": []
   },
   "outputs": [],
   "source": []
  },
  {
   "cell_type": "code",
   "execution_count": 12,
   "id": "d273c6a1",
   "metadata": {
    "execution": {
     "iopub.execute_input": "2023-02-18T00:57:50.027816Z",
     "iopub.status.busy": "2023-02-18T00:57:50.027380Z",
     "iopub.status.idle": "2023-02-18T00:57:50.032236Z",
     "shell.execute_reply": "2023-02-18T00:57:50.031385Z"
    },
    "papermill": {
     "duration": 0.014634,
     "end_time": "2023-02-18T00:57:50.034284",
     "exception": false,
     "start_time": "2023-02-18T00:57:50.019650",
     "status": "completed"
    },
    "tags": []
   },
   "outputs": [],
   "source": [
    "y_train_neumerical_df=y_train_neumerical_df.astype('int')"
   ]
  },
  {
   "cell_type": "code",
   "execution_count": 13,
   "id": "37da51c7",
   "metadata": {
    "execution": {
     "iopub.execute_input": "2023-02-18T00:57:50.048970Z",
     "iopub.status.busy": "2023-02-18T00:57:50.048555Z",
     "iopub.status.idle": "2023-02-18T00:57:56.227501Z",
     "shell.execute_reply": "2023-02-18T00:57:56.226198Z"
    },
    "papermill": {
     "duration": 6.189079,
     "end_time": "2023-02-18T00:57:56.229842",
     "exception": false,
     "start_time": "2023-02-18T00:57:50.040763",
     "status": "completed"
    },
    "tags": []
   },
   "outputs": [
    {
     "name": "stdout",
     "output_type": "stream",
     "text": [
      "Iteration 1, loss = 36.04554292\n",
      "Iteration 2, loss = 31.41144482\n",
      "Iteration 3, loss = 29.86684693\n",
      "Iteration 4, loss = 32.95647399\n",
      "Iteration 5, loss = 32.44176963\n",
      "Iteration 6, loss = 33.47181934\n",
      "Iteration 7, loss = 30.11383640\n",
      "Iteration 8, loss = 30.68588066\n",
      "Iteration 9, loss = 30.59076686\n",
      "Iteration 10, loss = 26.86793416\n",
      "Iteration 11, loss = 25.06656038\n",
      "Iteration 12, loss = 14.83838039\n",
      "Iteration 13, loss = 24.04033936\n",
      "Iteration 14, loss = 24.20545381\n",
      "Iteration 15, loss = 31.93552661\n",
      "Iteration 16, loss = 25.23572924\n",
      "Iteration 17, loss = 29.87013253\n",
      "Iteration 18, loss = 26.26598428\n",
      "Iteration 19, loss = 29.35566005\n",
      "Iteration 20, loss = 24.72170211\n",
      "Iteration 21, loss = 28.50115653\n",
      "Iteration 22, loss = 21.88945549\n",
      "Iteration 23, loss = 23.92582466\n",
      "Training loss did not improve more than tol=0.000100 for 10 consecutive epochs. Stopping.\n"
     ]
    },
    {
     "data": {
      "text/plain": [
       "MLPClassifier(hidden_layer_sizes=(2400, 2000), learning_rate_init=0.01,\n",
       "              random_state=100, verbose=True)"
      ]
     },
     "execution_count": 13,
     "metadata": {},
     "output_type": "execute_result"
    }
   ],
   "source": [
    "# Import MLPClassifer \n",
    "from sklearn.neural_network import MLPClassifier\n",
    "\n",
    "# Create model object\n",
    "clf = MLPClassifier(hidden_layer_sizes=(2400,2000),\n",
    "                    random_state=100,\n",
    "                    verbose=True,\n",
    "                    learning_rate_init=0.01)\n",
    "\n",
    "# Fit data onto the model\n",
    "clf.fit(X_train_neumerical_df,y_train_neumerical_df)"
   ]
  },
  {
   "cell_type": "code",
   "execution_count": 14,
   "id": "01ed85cd",
   "metadata": {
    "execution": {
     "iopub.execute_input": "2023-02-18T00:57:56.247954Z",
     "iopub.status.busy": "2023-02-18T00:57:56.247199Z",
     "iopub.status.idle": "2023-02-18T00:57:56.252406Z",
     "shell.execute_reply": "2023-02-18T00:57:56.251104Z"
    },
    "papermill": {
     "duration": 0.017193,
     "end_time": "2023-02-18T00:57:56.254824",
     "exception": false,
     "start_time": "2023-02-18T00:57:56.237631",
     "status": "completed"
    },
    "tags": []
   },
   "outputs": [],
   "source": [
    "y_test_neumerical_df=y_test_neumerical_df.astype('int')"
   ]
  },
  {
   "cell_type": "code",
   "execution_count": 15,
   "id": "5125250d",
   "metadata": {
    "execution": {
     "iopub.execute_input": "2023-02-18T00:57:56.272221Z",
     "iopub.status.busy": "2023-02-18T00:57:56.271819Z",
     "iopub.status.idle": "2023-02-18T00:57:56.303387Z",
     "shell.execute_reply": "2023-02-18T00:57:56.301866Z"
    },
    "papermill": {
     "duration": 0.044904,
     "end_time": "2023-02-18T00:57:56.307643",
     "exception": false,
     "start_time": "2023-02-18T00:57:56.262739",
     "status": "completed"
    },
    "tags": []
   },
   "outputs": [
    {
     "data": {
      "text/plain": [
       "0.0"
      ]
     },
     "execution_count": 15,
     "metadata": {},
     "output_type": "execute_result"
    }
   ],
   "source": [
    "ypred=clf.predict(X_test_neumerical_df)\n",
    "\n",
    "# Import accuracy score \n",
    "from sklearn.metrics import accuracy_score\n",
    "\n",
    "# Calcuate accuracy\n",
    "accuracy_score(y_test_neumerical_df,ypred)\n",
    "#I'll have to make a specialized function to do this"
   ]
  },
  {
   "cell_type": "code",
   "execution_count": 16,
   "id": "ac9cf0ef",
   "metadata": {
    "execution": {
     "iopub.execute_input": "2023-02-18T00:57:56.351392Z",
     "iopub.status.busy": "2023-02-18T00:57:56.350598Z",
     "iopub.status.idle": "2023-02-18T00:57:56.361498Z",
     "shell.execute_reply": "2023-02-18T00:57:56.360067Z"
    },
    "papermill": {
     "duration": 0.037299,
     "end_time": "2023-02-18T00:57:56.365647",
     "exception": false,
     "start_time": "2023-02-18T00:57:56.328348",
     "status": "completed"
    },
    "tags": []
   },
   "outputs": [
    {
     "data": {
      "text/plain": [
       "array([15, 15, 15, 15, 15, 15, 15, 15, 15, 15])"
      ]
     },
     "execution_count": 16,
     "metadata": {},
     "output_type": "execute_result"
    }
   ],
   "source": [
    "ypred"
   ]
  },
  {
   "cell_type": "code",
   "execution_count": 17,
   "id": "d41ccdfd",
   "metadata": {
    "execution": {
     "iopub.execute_input": "2023-02-18T00:57:56.408801Z",
     "iopub.status.busy": "2023-02-18T00:57:56.408111Z",
     "iopub.status.idle": "2023-02-18T00:57:56.418392Z",
     "shell.execute_reply": "2023-02-18T00:57:56.417648Z"
    },
    "papermill": {
     "duration": 0.034161,
     "end_time": "2023-02-18T00:57:56.420411",
     "exception": false,
     "start_time": "2023-02-18T00:57:56.386250",
     "status": "completed"
    },
    "tags": []
   },
   "outputs": [
    {
     "data": {
      "text/plain": [
       "90    18\n",
       "91    18\n",
       "92    18\n",
       "93    18\n",
       "94    18\n",
       "95    18\n",
       "96    18\n",
       "97    17\n",
       "98    17\n",
       "99    18\n",
       "Name: contest-tmp2m-14d__tmp2m, dtype: int64"
      ]
     },
     "execution_count": 17,
     "metadata": {},
     "output_type": "execute_result"
    }
   ],
   "source": [
    "y_test_neumerical_df"
   ]
  },
  {
   "cell_type": "code",
   "execution_count": 18,
   "id": "625db3a9",
   "metadata": {
    "execution": {
     "iopub.execute_input": "2023-02-18T00:57:56.439091Z",
     "iopub.status.busy": "2023-02-18T00:57:56.438119Z",
     "iopub.status.idle": "2023-02-18T00:57:56.456954Z",
     "shell.execute_reply": "2023-02-18T00:57:56.456200Z"
    },
    "papermill": {
     "duration": 0.030672,
     "end_time": "2023-02-18T00:57:56.458929",
     "exception": false,
     "start_time": "2023-02-18T00:57:56.428257",
     "status": "completed"
    },
    "tags": []
   },
   "outputs": [
    {
     "data": {
      "text/html": [
       "<div>\n",
       "<style scoped>\n",
       "    .dataframe tbody tr th:only-of-type {\n",
       "        vertical-align: middle;\n",
       "    }\n",
       "\n",
       "    .dataframe tbody tr th {\n",
       "        vertical-align: top;\n",
       "    }\n",
       "\n",
       "    .dataframe thead th {\n",
       "        text-align: right;\n",
       "    }\n",
       "</style>\n",
       "<table border=\"1\" class=\"dataframe\">\n",
       "  <thead>\n",
       "    <tr style=\"text-align: right;\">\n",
       "      <th></th>\n",
       "      <th>contest-tmp2m-14d__tmp2m</th>\n",
       "      <th># index</th>\n",
       "    </tr>\n",
       "  </thead>\n",
       "  <tbody>\n",
       "    <tr>\n",
       "      <th>0</th>\n",
       "      <td>15</td>\n",
       "      <td>90</td>\n",
       "    </tr>\n",
       "    <tr>\n",
       "      <th>1</th>\n",
       "      <td>15</td>\n",
       "      <td>91</td>\n",
       "    </tr>\n",
       "    <tr>\n",
       "      <th>2</th>\n",
       "      <td>15</td>\n",
       "      <td>92</td>\n",
       "    </tr>\n",
       "    <tr>\n",
       "      <th>3</th>\n",
       "      <td>15</td>\n",
       "      <td>93</td>\n",
       "    </tr>\n",
       "    <tr>\n",
       "      <th>4</th>\n",
       "      <td>15</td>\n",
       "      <td>94</td>\n",
       "    </tr>\n",
       "    <tr>\n",
       "      <th>5</th>\n",
       "      <td>15</td>\n",
       "      <td>95</td>\n",
       "    </tr>\n",
       "    <tr>\n",
       "      <th>6</th>\n",
       "      <td>15</td>\n",
       "      <td>96</td>\n",
       "    </tr>\n",
       "    <tr>\n",
       "      <th>7</th>\n",
       "      <td>15</td>\n",
       "      <td>97</td>\n",
       "    </tr>\n",
       "    <tr>\n",
       "      <th>8</th>\n",
       "      <td>15</td>\n",
       "      <td>98</td>\n",
       "    </tr>\n",
       "    <tr>\n",
       "      <th>9</th>\n",
       "      <td>15</td>\n",
       "      <td>99</td>\n",
       "    </tr>\n",
       "  </tbody>\n",
       "</table>\n",
       "</div>"
      ],
      "text/plain": [
       "   contest-tmp2m-14d__tmp2m  # index\n",
       "0                        15       90\n",
       "1                        15       91\n",
       "2                        15       92\n",
       "3                        15       93\n",
       "4                        15       94\n",
       "5                        15       95\n",
       "6                        15       96\n",
       "7                        15       97\n",
       "8                        15       98\n",
       "9                        15       99"
      ]
     },
     "execution_count": 18,
     "metadata": {},
     "output_type": "execute_result"
    }
   ],
   "source": [
    "#Trying to create a final \n",
    "final=pd.DataFrame()\n",
    "final['contest-tmp2m-14d__tmp2m']=ypred\n",
    "final['# index']=0\n",
    "i=len(neumerical_df)-len(X_test_neumerical_df)\n",
    "while i<len(df):\n",
    "    final['# index'][i-(len(neumerical_df)-len(X_test_neumerical_df))]=i\n",
    "    i+=1\n",
    "final"
   ]
  },
  {
   "cell_type": "code",
   "execution_count": 19,
   "id": "4a30dd77",
   "metadata": {
    "execution": {
     "iopub.execute_input": "2023-02-18T00:57:56.477079Z",
     "iopub.status.busy": "2023-02-18T00:57:56.476670Z",
     "iopub.status.idle": "2023-02-18T00:57:56.484377Z",
     "shell.execute_reply": "2023-02-18T00:57:56.483458Z"
    },
    "papermill": {
     "duration": 0.019434,
     "end_time": "2023-02-18T00:57:56.486507",
     "exception": false,
     "start_time": "2023-02-18T00:57:56.467073",
     "status": "completed"
    },
    "tags": []
   },
   "outputs": [],
   "source": [
    "final.to_csv('testfinal.csv',index=False)"
   ]
  },
  {
   "cell_type": "code",
   "execution_count": 20,
   "id": "06bda80a",
   "metadata": {
    "execution": {
     "iopub.execute_input": "2023-02-18T00:57:56.505117Z",
     "iopub.status.busy": "2023-02-18T00:57:56.504369Z",
     "iopub.status.idle": "2023-02-18T00:57:56.513289Z",
     "shell.execute_reply": "2023-02-18T00:57:56.512083Z"
    },
    "papermill": {
     "duration": 0.02069,
     "end_time": "2023-02-18T00:57:56.515566",
     "exception": false,
     "start_time": "2023-02-18T00:57:56.494876",
     "status": "completed"
    },
    "tags": []
   },
   "outputs": [
    {
     "data": {
      "text/html": [
       "<div>\n",
       "<style scoped>\n",
       "    .dataframe tbody tr th:only-of-type {\n",
       "        vertical-align: middle;\n",
       "    }\n",
       "\n",
       "    .dataframe tbody tr th {\n",
       "        vertical-align: top;\n",
       "    }\n",
       "\n",
       "    .dataframe thead th {\n",
       "        text-align: right;\n",
       "    }\n",
       "</style>\n",
       "<table border=\"1\" class=\"dataframe\">\n",
       "  <thead>\n",
       "    <tr style=\"text-align: right;\">\n",
       "      <th></th>\n",
       "      <th>contest-tmp2m-14d__tmp2m</th>\n",
       "      <th># index</th>\n",
       "    </tr>\n",
       "  </thead>\n",
       "  <tbody>\n",
       "    <tr>\n",
       "      <th>0</th>\n",
       "      <td>15</td>\n",
       "      <td>90</td>\n",
       "    </tr>\n",
       "    <tr>\n",
       "      <th>1</th>\n",
       "      <td>15</td>\n",
       "      <td>91</td>\n",
       "    </tr>\n",
       "    <tr>\n",
       "      <th>2</th>\n",
       "      <td>15</td>\n",
       "      <td>92</td>\n",
       "    </tr>\n",
       "    <tr>\n",
       "      <th>3</th>\n",
       "      <td>15</td>\n",
       "      <td>93</td>\n",
       "    </tr>\n",
       "    <tr>\n",
       "      <th>4</th>\n",
       "      <td>15</td>\n",
       "      <td>94</td>\n",
       "    </tr>\n",
       "    <tr>\n",
       "      <th>5</th>\n",
       "      <td>15</td>\n",
       "      <td>95</td>\n",
       "    </tr>\n",
       "    <tr>\n",
       "      <th>6</th>\n",
       "      <td>15</td>\n",
       "      <td>96</td>\n",
       "    </tr>\n",
       "    <tr>\n",
       "      <th>7</th>\n",
       "      <td>15</td>\n",
       "      <td>97</td>\n",
       "    </tr>\n",
       "    <tr>\n",
       "      <th>8</th>\n",
       "      <td>15</td>\n",
       "      <td>98</td>\n",
       "    </tr>\n",
       "    <tr>\n",
       "      <th>9</th>\n",
       "      <td>15</td>\n",
       "      <td>99</td>\n",
       "    </tr>\n",
       "  </tbody>\n",
       "</table>\n",
       "</div>"
      ],
      "text/plain": [
       "   contest-tmp2m-14d__tmp2m  # index\n",
       "0                        15       90\n",
       "1                        15       91\n",
       "2                        15       92\n",
       "3                        15       93\n",
       "4                        15       94\n",
       "5                        15       95\n",
       "6                        15       96\n",
       "7                        15       97\n",
       "8                        15       98\n",
       "9                        15       99"
      ]
     },
     "execution_count": 20,
     "metadata": {},
     "output_type": "execute_result"
    }
   ],
   "source": [
    "final"
   ]
  },
  {
   "cell_type": "code",
   "execution_count": null,
   "id": "0768cce4",
   "metadata": {
    "papermill": {
     "duration": 0.008235,
     "end_time": "2023-02-18T00:57:56.532165",
     "exception": false,
     "start_time": "2023-02-18T00:57:56.523930",
     "status": "completed"
    },
    "tags": []
   },
   "outputs": [],
   "source": []
  }
 ],
 "metadata": {
  "kernelspec": {
   "display_name": "Python 3",
   "language": "python",
   "name": "python3"
  },
  "language_info": {
   "codemirror_mode": {
    "name": "ipython",
    "version": 3
   },
   "file_extension": ".py",
   "mimetype": "text/x-python",
   "name": "python",
   "nbconvert_exporter": "python",
   "pygments_lexer": "ipython3",
   "version": "3.7.12"
  },
  "papermill": {
   "default_parameters": {},
   "duration": 41.706943,
   "end_time": "2023-02-18T00:57:57.363643",
   "environment_variables": {},
   "exception": null,
   "input_path": "__notebook__.ipynb",
   "output_path": "__notebook__.ipynb",
   "parameters": {},
   "start_time": "2023-02-18T00:57:15.656700",
   "version": "2.3.4"
  }
 },
 "nbformat": 4,
 "nbformat_minor": 5
}
