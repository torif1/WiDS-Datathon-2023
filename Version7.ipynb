{
 "cells": [
  {
   "cell_type": "markdown",
   "id": "786b872b",
   "metadata": {
    "papermill": {
     "duration": 0.008126,
     "end_time": "2023-02-19T18:56:58.206429",
     "exception": false,
     "start_time": "2023-02-19T18:56:58.198303",
     "status": "completed"
    },
    "tags": []
   },
   "source": [
    "I heavily relied on the tutorial:https://machinelearninggeek.com/multi-layer-perceptron-neural-network-using-python/\n"
   ]
  },
  {
   "cell_type": "markdown",
   "id": "40e9797b",
   "metadata": {
    "papermill": {
     "duration": 0.004462,
     "end_time": "2023-02-19T18:56:58.215555",
     "exception": false,
     "start_time": "2023-02-19T18:56:58.211093",
     "status": "completed"
    },
    "tags": []
   },
   "source": [
    "# Imports"
   ]
  },
  {
   "cell_type": "code",
   "execution_count": 1,
   "id": "75a662d0",
   "metadata": {
    "_cell_guid": "b1076dfc-b9ad-4769-8c92-a6c4dae69d19",
    "_uuid": "8f2839f25d086af736a60e9eeb907d3b93b6e0e5",
    "execution": {
     "iopub.execute_input": "2023-02-19T18:56:58.227076Z",
     "iopub.status.busy": "2023-02-19T18:56:58.226326Z",
     "iopub.status.idle": "2023-02-19T18:56:59.250087Z",
     "shell.execute_reply": "2023-02-19T18:56:59.248933Z"
    },
    "papermill": {
     "duration": 1.034892,
     "end_time": "2023-02-19T18:56:59.255114",
     "exception": false,
     "start_time": "2023-02-19T18:56:58.220222",
     "status": "completed"
    },
    "tags": []
   },
   "outputs": [
    {
     "name": "stdout",
     "output_type": "stream",
     "text": [
      "/kaggle/input/wids-all-datasets/train_data.csv\n",
      "/kaggle/input/wids-all-datasets/test_data.csv\n",
      "/kaggle/input/wids-all-datasets/sample_solution.csv\n"
     ]
    }
   ],
   "source": [
    "import numpy as np # linear algebra\n",
    "import pandas as pd # data processing, CSV file I/O (e.g. pd.read_csv)\n",
    "from sklearn import preprocessing #Convert categorical data to neumeric values\n",
    "from sklearn.neural_network import MLPClassifier #Model being used\n",
    "\n",
    "import os\n",
    "for dirname, _, filenames in os.walk('/kaggle/input'):\n",
    "    for filename in filenames:\n",
    "        print(os.path.join(dirname, filename))\n",
    "\n",
    "# You can write up to 20GB to the current directory (/kaggle/working/) that gets preserved as output when you create a version using \"Save & Run All\" \n",
    "# You can also write temporary files to /kaggle/temp/, but they won't be saved outside of the current session"
   ]
  },
  {
   "cell_type": "markdown",
   "id": "0049ea14",
   "metadata": {
    "papermill": {
     "duration": 0.004979,
     "end_time": "2023-02-19T18:56:59.267460",
     "exception": false,
     "start_time": "2023-02-19T18:56:59.262481",
     "status": "completed"
    },
    "tags": []
   },
   "source": [
    "# Functions\n",
    "Basic functions for specific operations on dataset."
   ]
  },
  {
   "cell_type": "code",
   "execution_count": 2,
   "id": "c4476769",
   "metadata": {
    "execution": {
     "iopub.execute_input": "2023-02-19T18:56:59.280365Z",
     "iopub.status.busy": "2023-02-19T18:56:59.279965Z",
     "iopub.status.idle": "2023-02-19T18:56:59.286239Z",
     "shell.execute_reply": "2023-02-19T18:56:59.285036Z"
    },
    "papermill": {
     "duration": 0.015058,
     "end_time": "2023-02-19T18:56:59.288592",
     "exception": false,
     "start_time": "2023-02-19T18:56:59.273534",
     "status": "completed"
    },
    "tags": []
   },
   "outputs": [],
   "source": [
    "def seperate_monthly(df):\n",
    "    df[['month','day','year']]=df.startdate.str.split('/',expand=True)\n",
    "    df=df.drop('day', axis=1)\n",
    "    df=df.drop('startdate',axis=1)\n",
    "    return df"
   ]
  },
  {
   "cell_type": "code",
   "execution_count": 3,
   "id": "17faf0fa",
   "metadata": {
    "execution": {
     "iopub.execute_input": "2023-02-19T18:56:59.300571Z",
     "iopub.status.busy": "2023-02-19T18:56:59.299496Z",
     "iopub.status.idle": "2023-02-19T18:56:59.304685Z",
     "shell.execute_reply": "2023-02-19T18:56:59.303835Z"
    },
    "papermill": {
     "duration": 0.013714,
     "end_time": "2023-02-19T18:56:59.307206",
     "exception": false,
     "start_time": "2023-02-19T18:56:59.293492",
     "status": "completed"
    },
    "tags": []
   },
   "outputs": [],
   "source": [
    "def df_seperate_y(df):\n",
    "    y_df=df['contest-tmp2m-14d__tmp2m']\n",
    "    X_df=df.drop('contest-tmp2m-14d__tmp2m',axis=1)\n",
    "    return y_df,X_df"
   ]
  },
  {
   "cell_type": "markdown",
   "id": "80bc54fd",
   "metadata": {
    "papermill": {
     "duration": 0.004299,
     "end_time": "2023-02-19T18:56:59.316516",
     "exception": false,
     "start_time": "2023-02-19T18:56:59.312217",
     "status": "completed"
    },
    "tags": []
   },
   "source": [
    "# Load and Prepare Data"
   ]
  },
  {
   "cell_type": "code",
   "execution_count": 4,
   "id": "1de1120f",
   "metadata": {
    "execution": {
     "iopub.execute_input": "2023-02-19T18:56:59.327774Z",
     "iopub.status.busy": "2023-02-19T18:56:59.327064Z",
     "iopub.status.idle": "2023-02-19T18:57:24.966179Z",
     "shell.execute_reply": "2023-02-19T18:57:24.964942Z"
    },
    "papermill": {
     "duration": 25.647954,
     "end_time": "2023-02-19T18:57:24.969135",
     "exception": false,
     "start_time": "2023-02-19T18:56:59.321181",
     "status": "completed"
    },
    "tags": []
   },
   "outputs": [],
   "source": [
    "train_df=pd.read_csv('/kaggle/input/wids-all-datasets/train_data.csv')\n",
    "train_df=train_df.dropna(axis=0)\n",
    "test_df=pd.read_csv('/kaggle/input/wids-all-datasets/test_data.csv')\n",
    "test_df=test_df.dropna(axis=0)"
   ]
  },
  {
   "cell_type": "code",
   "execution_count": 5,
   "id": "d196920d",
   "metadata": {
    "execution": {
     "iopub.execute_input": "2023-02-19T18:57:24.980003Z",
     "iopub.status.busy": "2023-02-19T18:57:24.979614Z",
     "iopub.status.idle": "2023-02-19T18:57:26.548587Z",
     "shell.execute_reply": "2023-02-19T18:57:26.547224Z"
    },
    "papermill": {
     "duration": 1.577704,
     "end_time": "2023-02-19T18:57:26.551400",
     "exception": false,
     "start_time": "2023-02-19T18:57:24.973696",
     "status": "completed"
    },
    "tags": []
   },
   "outputs": [],
   "source": [
    "train_neumerical_df=seperate_monthly(train_df)\n",
    "test_neumerical_df=seperate_monthly(test_df)"
   ]
  },
  {
   "cell_type": "code",
   "execution_count": 6,
   "id": "64868df5",
   "metadata": {
    "execution": {
     "iopub.execute_input": "2023-02-19T18:57:26.565348Z",
     "iopub.status.busy": "2023-02-19T18:57:26.564447Z",
     "iopub.status.idle": "2023-02-19T18:57:26.685563Z",
     "shell.execute_reply": "2023-02-19T18:57:26.684422Z"
    },
    "papermill": {
     "duration": 0.132902,
     "end_time": "2023-02-19T18:57:26.689102",
     "exception": false,
     "start_time": "2023-02-19T18:57:26.556200",
     "status": "completed"
    },
    "tags": []
   },
   "outputs": [],
   "source": [
    "# Creating labelEncoder\n",
    "le = preprocessing.LabelEncoder()\n",
    "\n",
    "# Converting string labels into numbers.\n",
    "train_neumerical_df['climateregions__climateregion']=le.fit_transform(train_df['climateregions__climateregion'])\n",
    "test_neumerical_df['climateregions__climateregion']=le.fit_transform(test_df['climateregions__climateregion'])"
   ]
  },
  {
   "cell_type": "code",
   "execution_count": 7,
   "id": "00f648dd",
   "metadata": {
    "execution": {
     "iopub.execute_input": "2023-02-19T18:57:26.702453Z",
     "iopub.status.busy": "2023-02-19T18:57:26.702027Z",
     "iopub.status.idle": "2023-02-19T18:57:26.926749Z",
     "shell.execute_reply": "2023-02-19T18:57:26.925508Z"
    },
    "papermill": {
     "duration": 0.234252,
     "end_time": "2023-02-19T18:57:26.930352",
     "exception": false,
     "start_time": "2023-02-19T18:57:26.696100",
     "status": "completed"
    },
    "tags": []
   },
   "outputs": [],
   "source": [
    "y_train_neumerical_df,X_train_neumerical_df=df_seperate_y(train_neumerical_df)"
   ]
  },
  {
   "cell_type": "code",
   "execution_count": 8,
   "id": "9d60955c",
   "metadata": {
    "execution": {
     "iopub.execute_input": "2023-02-19T18:57:26.948328Z",
     "iopub.status.busy": "2023-02-19T18:57:26.947319Z",
     "iopub.status.idle": "2023-02-19T18:57:26.954506Z",
     "shell.execute_reply": "2023-02-19T18:57:26.953250Z"
    },
    "papermill": {
     "duration": 0.020013,
     "end_time": "2023-02-19T18:57:26.958432",
     "exception": false,
     "start_time": "2023-02-19T18:57:26.938419",
     "status": "completed"
    },
    "tags": []
   },
   "outputs": [],
   "source": [
    "y_train_neumerical_df=y_train_neumerical_df.astype('int')"
   ]
  },
  {
   "cell_type": "markdown",
   "id": "41bf73e0",
   "metadata": {
    "papermill": {
     "duration": 0.004318,
     "end_time": "2023-02-19T18:57:26.969494",
     "exception": false,
     "start_time": "2023-02-19T18:57:26.965176",
     "status": "completed"
    },
    "tags": []
   },
   "source": [
    "# Training Model"
   ]
  },
  {
   "cell_type": "code",
   "execution_count": 9,
   "id": "41ad984d",
   "metadata": {
    "execution": {
     "iopub.execute_input": "2023-02-19T18:57:26.980104Z",
     "iopub.status.busy": "2023-02-19T18:57:26.979714Z",
     "iopub.status.idle": "2023-02-19T19:19:33.794577Z",
     "shell.execute_reply": "2023-02-19T19:19:33.792212Z"
    },
    "papermill": {
     "duration": 1326.843268,
     "end_time": "2023-02-19T19:19:33.817352",
     "exception": false,
     "start_time": "2023-02-19T18:57:26.974084",
     "status": "completed"
    },
    "tags": []
   },
   "outputs": [
    {
     "name": "stdout",
     "output_type": "stream",
     "text": [
      "Iteration 1, loss = 3.89202206\n",
      "Iteration 2, loss = 3.66839653\n",
      "Iteration 3, loss = 3.66774244\n",
      "Iteration 4, loss = 3.66747284\n",
      "Iteration 5, loss = 3.66726440\n",
      "Iteration 6, loss = 3.66717967\n",
      "Iteration 7, loss = 3.66720962\n",
      "Iteration 8, loss = 3.66709504\n",
      "Iteration 9, loss = 3.66686359\n",
      "Iteration 10, loss = 3.66665115\n",
      "Iteration 11, loss = 3.66650879\n",
      "Iteration 12, loss = 3.66640158\n",
      "Iteration 13, loss = 3.66634674\n",
      "Iteration 14, loss = 3.66635556\n",
      "Iteration 15, loss = 3.66632965\n",
      "Iteration 16, loss = 3.66631762\n",
      "Iteration 17, loss = 3.66633129\n",
      "Iteration 18, loss = 3.66623848\n",
      "Iteration 19, loss = 3.66627056\n",
      "Iteration 20, loss = 3.66629738\n",
      "Iteration 21, loss = 3.66629494\n",
      "Iteration 22, loss = 3.66629248\n",
      "Iteration 23, loss = 3.66623063\n",
      "Training loss did not improve more than tol=0.000100 for 10 consecutive epochs. Stopping.\n"
     ]
    },
    {
     "data": {
      "text/plain": [
       "MLPClassifier(hidden_layer_sizes=(60, 1000), learning_rate_init=0.01,\n",
       "              random_state=100, verbose=True)"
      ]
     },
     "execution_count": 9,
     "metadata": {},
     "output_type": "execute_result"
    }
   ],
   "source": [
    "# Create model object\n",
    "clf = MLPClassifier(hidden_layer_sizes=(60,1000),\n",
    "                    random_state=100,\n",
    "                    verbose=True,\n",
    "                    learning_rate_init=0.01)\n",
    "\n",
    "# Fit data onto the model\n",
    "clf.fit(X_train_neumerical_df,y_train_neumerical_df)"
   ]
  },
  {
   "cell_type": "code",
   "execution_count": 10,
   "id": "59783c68",
   "metadata": {
    "execution": {
     "iopub.execute_input": "2023-02-19T19:19:33.855984Z",
     "iopub.status.busy": "2023-02-19T19:19:33.853667Z",
     "iopub.status.idle": "2023-02-19T19:19:38.499879Z",
     "shell.execute_reply": "2023-02-19T19:19:38.498174Z"
    },
    "papermill": {
     "duration": 4.671572,
     "end_time": "2023-02-19T19:19:38.505106",
     "exception": false,
     "start_time": "2023-02-19T19:19:33.833534",
     "status": "completed"
    },
    "tags": []
   },
   "outputs": [],
   "source": [
    "ypred=clf.predict(test_neumerical_df)"
   ]
  },
  {
   "cell_type": "code",
   "execution_count": 11,
   "id": "eb9b3e04",
   "metadata": {
    "execution": {
     "iopub.execute_input": "2023-02-19T19:19:38.534319Z",
     "iopub.status.busy": "2023-02-19T19:19:38.533934Z",
     "iopub.status.idle": "2023-02-19T19:19:38.558808Z",
     "shell.execute_reply": "2023-02-19T19:19:38.557608Z"
    },
    "papermill": {
     "duration": 0.039992,
     "end_time": "2023-02-19T19:19:38.561398",
     "exception": false,
     "start_time": "2023-02-19T19:19:38.521406",
     "status": "completed"
    },
    "tags": []
   },
   "outputs": [
    {
     "data": {
      "text/html": [
       "<div>\n",
       "<style scoped>\n",
       "    .dataframe tbody tr th:only-of-type {\n",
       "        vertical-align: middle;\n",
       "    }\n",
       "\n",
       "    .dataframe tbody tr th {\n",
       "        vertical-align: top;\n",
       "    }\n",
       "\n",
       "    .dataframe thead th {\n",
       "        text-align: right;\n",
       "    }\n",
       "</style>\n",
       "<table border=\"1\" class=\"dataframe\">\n",
       "  <thead>\n",
       "    <tr style=\"text-align: right;\">\n",
       "      <th></th>\n",
       "      <th>contest-tmp2m-14d__tmp2m</th>\n",
       "      <th># index</th>\n",
       "    </tr>\n",
       "  </thead>\n",
       "  <tbody>\n",
       "    <tr>\n",
       "      <th>0</th>\n",
       "      <td>0</td>\n",
       "      <td>0</td>\n",
       "    </tr>\n",
       "    <tr>\n",
       "      <th>1</th>\n",
       "      <td>0</td>\n",
       "      <td>0</td>\n",
       "    </tr>\n",
       "    <tr>\n",
       "      <th>2</th>\n",
       "      <td>0</td>\n",
       "      <td>0</td>\n",
       "    </tr>\n",
       "    <tr>\n",
       "      <th>3</th>\n",
       "      <td>0</td>\n",
       "      <td>0</td>\n",
       "    </tr>\n",
       "    <tr>\n",
       "      <th>4</th>\n",
       "      <td>0</td>\n",
       "      <td>0</td>\n",
       "    </tr>\n",
       "    <tr>\n",
       "      <th>...</th>\n",
       "      <td>...</td>\n",
       "      <td>...</td>\n",
       "    </tr>\n",
       "    <tr>\n",
       "      <th>31349</th>\n",
       "      <td>0</td>\n",
       "      <td>0</td>\n",
       "    </tr>\n",
       "    <tr>\n",
       "      <th>31350</th>\n",
       "      <td>0</td>\n",
       "      <td>0</td>\n",
       "    </tr>\n",
       "    <tr>\n",
       "      <th>31351</th>\n",
       "      <td>0</td>\n",
       "      <td>0</td>\n",
       "    </tr>\n",
       "    <tr>\n",
       "      <th>31352</th>\n",
       "      <td>0</td>\n",
       "      <td>0</td>\n",
       "    </tr>\n",
       "    <tr>\n",
       "      <th>31353</th>\n",
       "      <td>0</td>\n",
       "      <td>0</td>\n",
       "    </tr>\n",
       "  </tbody>\n",
       "</table>\n",
       "<p>31354 rows × 2 columns</p>\n",
       "</div>"
      ],
      "text/plain": [
       "       contest-tmp2m-14d__tmp2m  # index\n",
       "0                             0        0\n",
       "1                             0        0\n",
       "2                             0        0\n",
       "3                             0        0\n",
       "4                             0        0\n",
       "...                         ...      ...\n",
       "31349                         0        0\n",
       "31350                         0        0\n",
       "31351                         0        0\n",
       "31352                         0        0\n",
       "31353                         0        0\n",
       "\n",
       "[31354 rows x 2 columns]"
      ]
     },
     "execution_count": 11,
     "metadata": {},
     "output_type": "execute_result"
    }
   ],
   "source": [
    "#Trying to create a final \n",
    "final=pd.DataFrame()\n",
    "final['contest-tmp2m-14d__tmp2m']=ypred\n",
    "final['# index']=0\n",
    "i=len(train_df) #Legnth of train_data.csv\n",
    "while i<len(train_df):\n",
    "    final['# index'][i-len(train_df)]=i\n",
    "    i+=1\n",
    "final\n",
    "\n",
    "#I basically need to count up from len(train_data.csv+1)\n",
    "#to len(test_data.csv)+len(train_data.csv)"
   ]
  },
  {
   "cell_type": "code",
   "execution_count": 12,
   "id": "aad1c250",
   "metadata": {
    "execution": {
     "iopub.execute_input": "2023-02-19T19:19:38.577811Z",
     "iopub.status.busy": "2023-02-19T19:19:38.577430Z",
     "iopub.status.idle": "2023-02-19T19:19:38.611868Z",
     "shell.execute_reply": "2023-02-19T19:19:38.610580Z"
    },
    "papermill": {
     "duration": 0.046935,
     "end_time": "2023-02-19T19:19:38.614982",
     "exception": false,
     "start_time": "2023-02-19T19:19:38.568047",
     "status": "completed"
    },
    "tags": []
   },
   "outputs": [],
   "source": [
    "final.to_csv('finalV1.csv',index=False)"
   ]
  },
  {
   "cell_type": "code",
   "execution_count": 13,
   "id": "bef03b6f",
   "metadata": {
    "execution": {
     "iopub.execute_input": "2023-02-19T19:19:38.630825Z",
     "iopub.status.busy": "2023-02-19T19:19:38.629572Z",
     "iopub.status.idle": "2023-02-19T19:19:38.642964Z",
     "shell.execute_reply": "2023-02-19T19:19:38.641609Z"
    },
    "papermill": {
     "duration": 0.023967,
     "end_time": "2023-02-19T19:19:38.645693",
     "exception": false,
     "start_time": "2023-02-19T19:19:38.621726",
     "status": "completed"
    },
    "tags": []
   },
   "outputs": [
    {
     "data": {
      "text/html": [
       "<div>\n",
       "<style scoped>\n",
       "    .dataframe tbody tr th:only-of-type {\n",
       "        vertical-align: middle;\n",
       "    }\n",
       "\n",
       "    .dataframe tbody tr th {\n",
       "        vertical-align: top;\n",
       "    }\n",
       "\n",
       "    .dataframe thead th {\n",
       "        text-align: right;\n",
       "    }\n",
       "</style>\n",
       "<table border=\"1\" class=\"dataframe\">\n",
       "  <thead>\n",
       "    <tr style=\"text-align: right;\">\n",
       "      <th></th>\n",
       "      <th>contest-tmp2m-14d__tmp2m</th>\n",
       "      <th># index</th>\n",
       "    </tr>\n",
       "  </thead>\n",
       "  <tbody>\n",
       "    <tr>\n",
       "      <th>0</th>\n",
       "      <td>0</td>\n",
       "      <td>0</td>\n",
       "    </tr>\n",
       "    <tr>\n",
       "      <th>1</th>\n",
       "      <td>0</td>\n",
       "      <td>0</td>\n",
       "    </tr>\n",
       "    <tr>\n",
       "      <th>2</th>\n",
       "      <td>0</td>\n",
       "      <td>0</td>\n",
       "    </tr>\n",
       "    <tr>\n",
       "      <th>3</th>\n",
       "      <td>0</td>\n",
       "      <td>0</td>\n",
       "    </tr>\n",
       "    <tr>\n",
       "      <th>4</th>\n",
       "      <td>0</td>\n",
       "      <td>0</td>\n",
       "    </tr>\n",
       "    <tr>\n",
       "      <th>...</th>\n",
       "      <td>...</td>\n",
       "      <td>...</td>\n",
       "    </tr>\n",
       "    <tr>\n",
       "      <th>31349</th>\n",
       "      <td>0</td>\n",
       "      <td>0</td>\n",
       "    </tr>\n",
       "    <tr>\n",
       "      <th>31350</th>\n",
       "      <td>0</td>\n",
       "      <td>0</td>\n",
       "    </tr>\n",
       "    <tr>\n",
       "      <th>31351</th>\n",
       "      <td>0</td>\n",
       "      <td>0</td>\n",
       "    </tr>\n",
       "    <tr>\n",
       "      <th>31352</th>\n",
       "      <td>0</td>\n",
       "      <td>0</td>\n",
       "    </tr>\n",
       "    <tr>\n",
       "      <th>31353</th>\n",
       "      <td>0</td>\n",
       "      <td>0</td>\n",
       "    </tr>\n",
       "  </tbody>\n",
       "</table>\n",
       "<p>31354 rows × 2 columns</p>\n",
       "</div>"
      ],
      "text/plain": [
       "       contest-tmp2m-14d__tmp2m  # index\n",
       "0                             0        0\n",
       "1                             0        0\n",
       "2                             0        0\n",
       "3                             0        0\n",
       "4                             0        0\n",
       "...                         ...      ...\n",
       "31349                         0        0\n",
       "31350                         0        0\n",
       "31351                         0        0\n",
       "31352                         0        0\n",
       "31353                         0        0\n",
       "\n",
       "[31354 rows x 2 columns]"
      ]
     },
     "execution_count": 13,
     "metadata": {},
     "output_type": "execute_result"
    }
   ],
   "source": [
    "final #Print submission for dataframe"
   ]
  }
 ],
 "metadata": {
  "kernelspec": {
   "display_name": "Python 3",
   "language": "python",
   "name": "python3"
  },
  "language_info": {
   "codemirror_mode": {
    "name": "ipython",
    "version": 3
   },
   "file_extension": ".py",
   "mimetype": "text/x-python",
   "name": "python",
   "nbconvert_exporter": "python",
   "pygments_lexer": "ipython3",
   "version": "3.7.12"
  },
  "papermill": {
   "default_parameters": {},
   "duration": 1369.849477,
   "end_time": "2023-02-19T19:19:39.480445",
   "environment_variables": {},
   "exception": null,
   "input_path": "__notebook__.ipynb",
   "output_path": "__notebook__.ipynb",
   "parameters": {},
   "start_time": "2023-02-19T18:56:49.630968",
   "version": "2.3.4"
  }
 },
 "nbformat": 4,
 "nbformat_minor": 5
}
