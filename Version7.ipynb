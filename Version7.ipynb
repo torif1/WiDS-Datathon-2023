{
 "cells": [
  {
   "cell_type": "markdown",
   "id": "507edabf",
   "metadata": {
    "papermill": {
     "duration": 0.010538,
     "end_time": "2023-02-19T19:32:47.615648",
     "exception": false,
     "start_time": "2023-02-19T19:32:47.605110",
     "status": "completed"
    },
    "tags": []
   },
   "source": [
    "I heavily relied on the tutorial:https://machinelearninggeek.com/multi-layer-perceptron-neural-network-using-python/\n"
   ]
  },
  {
   "cell_type": "markdown",
   "id": "663c0c11",
   "metadata": {
    "papermill": {
     "duration": 0.007105,
     "end_time": "2023-02-19T19:32:47.628939",
     "exception": false,
     "start_time": "2023-02-19T19:32:47.621834",
     "status": "completed"
    },
    "tags": []
   },
   "source": [
    "# Imports"
   ]
  },
  {
   "cell_type": "code",
   "execution_count": 1,
   "id": "6f07d05b",
   "metadata": {
    "_cell_guid": "b1076dfc-b9ad-4769-8c92-a6c4dae69d19",
    "_uuid": "8f2839f25d086af736a60e9eeb907d3b93b6e0e5",
    "execution": {
     "iopub.execute_input": "2023-02-19T19:32:47.644069Z",
     "iopub.status.busy": "2023-02-19T19:32:47.643051Z",
     "iopub.status.idle": "2023-02-19T19:32:48.836169Z",
     "shell.execute_reply": "2023-02-19T19:32:48.834930Z"
    },
    "papermill": {
     "duration": 1.203811,
     "end_time": "2023-02-19T19:32:48.839626",
     "exception": false,
     "start_time": "2023-02-19T19:32:47.635815",
     "status": "completed"
    },
    "tags": []
   },
   "outputs": [
    {
     "name": "stdout",
     "output_type": "stream",
     "text": [
      "/kaggle/input/wids-all-datasets/train_data.csv\n",
      "/kaggle/input/wids-all-datasets/test_data.csv\n",
      "/kaggle/input/wids-all-datasets/sample_solution.csv\n"
     ]
    }
   ],
   "source": [
    "import numpy as np # linear algebra\n",
    "import pandas as pd # data processing, CSV file I/O (e.g. pd.read_csv)\n",
    "from sklearn import preprocessing #Convert categorical data to neumeric values\n",
    "from sklearn.neural_network import MLPClassifier #Model being used\n",
    "\n",
    "import os\n",
    "for dirname, _, filenames in os.walk('/kaggle/input'):\n",
    "    for filename in filenames:\n",
    "        print(os.path.join(dirname, filename))\n",
    "\n",
    "# You can write up to 20GB to the current directory (/kaggle/working/) that gets preserved as output when you create a version using \"Save & Run All\" \n",
    "# You can also write temporary files to /kaggle/temp/, but they won't be saved outside of the current session"
   ]
  },
  {
   "cell_type": "markdown",
   "id": "063d9dca",
   "metadata": {
    "papermill": {
     "duration": 0.004483,
     "end_time": "2023-02-19T19:32:48.849454",
     "exception": false,
     "start_time": "2023-02-19T19:32:48.844971",
     "status": "completed"
    },
    "tags": []
   },
   "source": [
    "# Functions\n",
    "Basic functions for specific operations on dataset."
   ]
  },
  {
   "cell_type": "code",
   "execution_count": 2,
   "id": "b84f0366",
   "metadata": {
    "execution": {
     "iopub.execute_input": "2023-02-19T19:32:48.861015Z",
     "iopub.status.busy": "2023-02-19T19:32:48.860599Z",
     "iopub.status.idle": "2023-02-19T19:32:48.866796Z",
     "shell.execute_reply": "2023-02-19T19:32:48.865619Z"
    },
    "papermill": {
     "duration": 0.014361,
     "end_time": "2023-02-19T19:32:48.868973",
     "exception": false,
     "start_time": "2023-02-19T19:32:48.854612",
     "status": "completed"
    },
    "tags": []
   },
   "outputs": [],
   "source": [
    "def seperate_monthly(df):\n",
    "    df[['month','day','year']]=df.startdate.str.split('/',expand=True)\n",
    "    df=df.drop('day', axis=1)\n",
    "    df=df.drop('startdate',axis=1)\n",
    "    return df"
   ]
  },
  {
   "cell_type": "code",
   "execution_count": 3,
   "id": "84932362",
   "metadata": {
    "execution": {
     "iopub.execute_input": "2023-02-19T19:32:48.880073Z",
     "iopub.status.busy": "2023-02-19T19:32:48.879686Z",
     "iopub.status.idle": "2023-02-19T19:32:48.885196Z",
     "shell.execute_reply": "2023-02-19T19:32:48.884080Z"
    },
    "papermill": {
     "duration": 0.01366,
     "end_time": "2023-02-19T19:32:48.887386",
     "exception": false,
     "start_time": "2023-02-19T19:32:48.873726",
     "status": "completed"
    },
    "tags": []
   },
   "outputs": [],
   "source": [
    "def df_seperate_y(df):\n",
    "    y_df=df['contest-tmp2m-14d__tmp2m']\n",
    "    X_df=df.drop('contest-tmp2m-14d__tmp2m',axis=1)\n",
    "    return y_df,X_df"
   ]
  },
  {
   "cell_type": "markdown",
   "id": "e5398b70",
   "metadata": {
    "papermill": {
     "duration": 0.004503,
     "end_time": "2023-02-19T19:32:48.896699",
     "exception": false,
     "start_time": "2023-02-19T19:32:48.892196",
     "status": "completed"
    },
    "tags": []
   },
   "source": [
    "# Load and Prepare Data"
   ]
  },
  {
   "cell_type": "code",
   "execution_count": 4,
   "id": "9fcbc290",
   "metadata": {
    "execution": {
     "iopub.execute_input": "2023-02-19T19:32:48.908614Z",
     "iopub.status.busy": "2023-02-19T19:32:48.907536Z",
     "iopub.status.idle": "2023-02-19T19:33:15.684288Z",
     "shell.execute_reply": "2023-02-19T19:33:15.682830Z"
    },
    "papermill": {
     "duration": 26.786192,
     "end_time": "2023-02-19T19:33:15.687720",
     "exception": false,
     "start_time": "2023-02-19T19:32:48.901528",
     "status": "completed"
    },
    "tags": []
   },
   "outputs": [],
   "source": [
    "train_df=pd.read_csv('/kaggle/input/wids-all-datasets/train_data.csv')\n",
    "train_df=train_df.dropna(axis=0)\n",
    "test_df=pd.read_csv('/kaggle/input/wids-all-datasets/test_data.csv')\n",
    "test_df=test_df.dropna(axis=0)"
   ]
  },
  {
   "cell_type": "code",
   "execution_count": 5,
   "id": "ee8c4239",
   "metadata": {
    "execution": {
     "iopub.execute_input": "2023-02-19T19:33:15.700288Z",
     "iopub.status.busy": "2023-02-19T19:33:15.699833Z",
     "iopub.status.idle": "2023-02-19T19:33:17.314187Z",
     "shell.execute_reply": "2023-02-19T19:33:17.312869Z"
    },
    "papermill": {
     "duration": 1.623657,
     "end_time": "2023-02-19T19:33:17.317048",
     "exception": false,
     "start_time": "2023-02-19T19:33:15.693391",
     "status": "completed"
    },
    "tags": []
   },
   "outputs": [],
   "source": [
    "train_neumerical_df=seperate_monthly(train_df)\n",
    "test_neumerical_df=seperate_monthly(test_df)"
   ]
  },
  {
   "cell_type": "code",
   "execution_count": 6,
   "id": "b597fe1a",
   "metadata": {
    "execution": {
     "iopub.execute_input": "2023-02-19T19:33:17.328454Z",
     "iopub.status.busy": "2023-02-19T19:33:17.328077Z",
     "iopub.status.idle": "2023-02-19T19:33:17.442859Z",
     "shell.execute_reply": "2023-02-19T19:33:17.441569Z"
    },
    "papermill": {
     "duration": 0.123747,
     "end_time": "2023-02-19T19:33:17.445668",
     "exception": false,
     "start_time": "2023-02-19T19:33:17.321921",
     "status": "completed"
    },
    "tags": []
   },
   "outputs": [],
   "source": [
    "# Creating labelEncoder\n",
    "le = preprocessing.LabelEncoder()\n",
    "\n",
    "# Converting string labels into numbers.\n",
    "train_neumerical_df['climateregions__climateregion']=le.fit_transform(train_df['climateregions__climateregion'])\n",
    "test_neumerical_df['climateregions__climateregion']=le.fit_transform(test_df['climateregions__climateregion'])"
   ]
  },
  {
   "cell_type": "code",
   "execution_count": 7,
   "id": "737274c8",
   "metadata": {
    "execution": {
     "iopub.execute_input": "2023-02-19T19:33:17.457552Z",
     "iopub.status.busy": "2023-02-19T19:33:17.457112Z",
     "iopub.status.idle": "2023-02-19T19:33:17.681862Z",
     "shell.execute_reply": "2023-02-19T19:33:17.680648Z"
    },
    "papermill": {
     "duration": 0.234058,
     "end_time": "2023-02-19T19:33:17.684638",
     "exception": false,
     "start_time": "2023-02-19T19:33:17.450580",
     "status": "completed"
    },
    "tags": []
   },
   "outputs": [],
   "source": [
    "y_train_neumerical_df,X_train_neumerical_df=df_seperate_y(train_neumerical_df)"
   ]
  },
  {
   "cell_type": "code",
   "execution_count": 8,
   "id": "5ac2c732",
   "metadata": {
    "execution": {
     "iopub.execute_input": "2023-02-19T19:33:17.696486Z",
     "iopub.status.busy": "2023-02-19T19:33:17.695506Z",
     "iopub.status.idle": "2023-02-19T19:33:17.702050Z",
     "shell.execute_reply": "2023-02-19T19:33:17.700867Z"
    },
    "papermill": {
     "duration": 0.015116,
     "end_time": "2023-02-19T19:33:17.704570",
     "exception": false,
     "start_time": "2023-02-19T19:33:17.689454",
     "status": "completed"
    },
    "tags": []
   },
   "outputs": [],
   "source": [
    "y_train_neumerical_df=y_train_neumerical_df.astype('int')"
   ]
  },
  {
   "cell_type": "markdown",
   "id": "983bc3d6",
   "metadata": {
    "papermill": {
     "duration": 0.004811,
     "end_time": "2023-02-19T19:33:17.714486",
     "exception": false,
     "start_time": "2023-02-19T19:33:17.709675",
     "status": "completed"
    },
    "tags": []
   },
   "source": [
    "# Training Model"
   ]
  },
  {
   "cell_type": "code",
   "execution_count": 9,
   "id": "aaab0be7",
   "metadata": {
    "execution": {
     "iopub.execute_input": "2023-02-19T19:33:17.725717Z",
     "iopub.status.busy": "2023-02-19T19:33:17.725275Z",
     "iopub.status.idle": "2023-02-19T19:55:31.468143Z",
     "shell.execute_reply": "2023-02-19T19:55:31.466519Z"
    },
    "papermill": {
     "duration": 1333.770974,
     "end_time": "2023-02-19T19:55:31.490224",
     "exception": false,
     "start_time": "2023-02-19T19:33:17.719250",
     "status": "completed"
    },
    "tags": []
   },
   "outputs": [
    {
     "name": "stdout",
     "output_type": "stream",
     "text": [
      "Iteration 1, loss = 3.89202206\n",
      "Iteration 2, loss = 3.66839653\n",
      "Iteration 3, loss = 3.66774244\n",
      "Iteration 4, loss = 3.66747284\n",
      "Iteration 5, loss = 3.66726440\n",
      "Iteration 6, loss = 3.66717967\n",
      "Iteration 7, loss = 3.66720962\n",
      "Iteration 8, loss = 3.66709504\n",
      "Iteration 9, loss = 3.66686359\n",
      "Iteration 10, loss = 3.66665115\n",
      "Iteration 11, loss = 3.66650879\n",
      "Iteration 12, loss = 3.66640158\n",
      "Iteration 13, loss = 3.66634674\n",
      "Iteration 14, loss = 3.66635556\n",
      "Iteration 15, loss = 3.66632965\n",
      "Iteration 16, loss = 3.66631762\n",
      "Iteration 17, loss = 3.66633129\n",
      "Iteration 18, loss = 3.66623848\n",
      "Iteration 19, loss = 3.66627056\n",
      "Iteration 20, loss = 3.66629738\n",
      "Iteration 21, loss = 3.66629494\n",
      "Iteration 22, loss = 3.66629248\n",
      "Iteration 23, loss = 3.66623063\n",
      "Training loss did not improve more than tol=0.000100 for 10 consecutive epochs. Stopping.\n"
     ]
    },
    {
     "data": {
      "text/plain": [
       "MLPClassifier(hidden_layer_sizes=(60, 1000), learning_rate_init=0.01,\n",
       "              random_state=100, verbose=True)"
      ]
     },
     "execution_count": 9,
     "metadata": {},
     "output_type": "execute_result"
    }
   ],
   "source": [
    "# Create model object\n",
    "clf = MLPClassifier(hidden_layer_sizes=(60,1000),\n",
    "                    random_state=100,\n",
    "                    verbose=True,\n",
    "                    learning_rate_init=0.01)\n",
    "\n",
    "# Fit data onto the model\n",
    "clf.fit(X_train_neumerical_df,y_train_neumerical_df)"
   ]
  },
  {
   "cell_type": "code",
   "execution_count": 10,
   "id": "457d3107",
   "metadata": {
    "execution": {
     "iopub.execute_input": "2023-02-19T19:55:31.525990Z",
     "iopub.status.busy": "2023-02-19T19:55:31.525270Z",
     "iopub.status.idle": "2023-02-19T19:55:35.959135Z",
     "shell.execute_reply": "2023-02-19T19:55:35.957449Z"
    },
    "papermill": {
     "duration": 4.457585,
     "end_time": "2023-02-19T19:55:35.963939",
     "exception": false,
     "start_time": "2023-02-19T19:55:31.506354",
     "status": "completed"
    },
    "tags": []
   },
   "outputs": [],
   "source": [
    "ypred=clf.predict(test_neumerical_df)"
   ]
  },
  {
   "cell_type": "code",
   "execution_count": 11,
   "id": "7527903d",
   "metadata": {
    "execution": {
     "iopub.execute_input": "2023-02-19T19:55:35.991884Z",
     "iopub.status.busy": "2023-02-19T19:55:35.991504Z",
     "iopub.status.idle": "2023-02-19T19:55:43.550383Z",
     "shell.execute_reply": "2023-02-19T19:55:43.549011Z"
    },
    "papermill": {
     "duration": 7.572686,
     "end_time": "2023-02-19T19:55:43.552874",
     "exception": false,
     "start_time": "2023-02-19T19:55:35.980188",
     "status": "completed"
    },
    "tags": []
   },
   "outputs": [
    {
     "data": {
      "text/html": [
       "<div>\n",
       "<style scoped>\n",
       "    .dataframe tbody tr th:only-of-type {\n",
       "        vertical-align: middle;\n",
       "    }\n",
       "\n",
       "    .dataframe tbody tr th {\n",
       "        vertical-align: top;\n",
       "    }\n",
       "\n",
       "    .dataframe thead th {\n",
       "        text-align: right;\n",
       "    }\n",
       "</style>\n",
       "<table border=\"1\" class=\"dataframe\">\n",
       "  <thead>\n",
       "    <tr style=\"text-align: right;\">\n",
       "      <th></th>\n",
       "      <th>contest-tmp2m-14d__tmp2m</th>\n",
       "      <th># index</th>\n",
       "    </tr>\n",
       "  </thead>\n",
       "  <tbody>\n",
       "    <tr>\n",
       "      <th>0</th>\n",
       "      <td>0</td>\n",
       "      <td>352604</td>\n",
       "    </tr>\n",
       "    <tr>\n",
       "      <th>1</th>\n",
       "      <td>0</td>\n",
       "      <td>352605</td>\n",
       "    </tr>\n",
       "    <tr>\n",
       "      <th>2</th>\n",
       "      <td>0</td>\n",
       "      <td>352606</td>\n",
       "    </tr>\n",
       "    <tr>\n",
       "      <th>3</th>\n",
       "      <td>0</td>\n",
       "      <td>352607</td>\n",
       "    </tr>\n",
       "    <tr>\n",
       "      <th>4</th>\n",
       "      <td>0</td>\n",
       "      <td>352608</td>\n",
       "    </tr>\n",
       "    <tr>\n",
       "      <th>...</th>\n",
       "      <td>...</td>\n",
       "      <td>...</td>\n",
       "    </tr>\n",
       "    <tr>\n",
       "      <th>31349</th>\n",
       "      <td>0</td>\n",
       "      <td>383953</td>\n",
       "    </tr>\n",
       "    <tr>\n",
       "      <th>31350</th>\n",
       "      <td>0</td>\n",
       "      <td>383954</td>\n",
       "    </tr>\n",
       "    <tr>\n",
       "      <th>31351</th>\n",
       "      <td>0</td>\n",
       "      <td>383955</td>\n",
       "    </tr>\n",
       "    <tr>\n",
       "      <th>31352</th>\n",
       "      <td>0</td>\n",
       "      <td>383956</td>\n",
       "    </tr>\n",
       "    <tr>\n",
       "      <th>31353</th>\n",
       "      <td>0</td>\n",
       "      <td>383957</td>\n",
       "    </tr>\n",
       "  </tbody>\n",
       "</table>\n",
       "<p>31354 rows × 2 columns</p>\n",
       "</div>"
      ],
      "text/plain": [
       "       contest-tmp2m-14d__tmp2m  # index\n",
       "0                             0   352604\n",
       "1                             0   352605\n",
       "2                             0   352606\n",
       "3                             0   352607\n",
       "4                             0   352608\n",
       "...                         ...      ...\n",
       "31349                         0   383953\n",
       "31350                         0   383954\n",
       "31351                         0   383955\n",
       "31352                         0   383956\n",
       "31353                         0   383957\n",
       "\n",
       "[31354 rows x 2 columns]"
      ]
     },
     "execution_count": 11,
     "metadata": {},
     "output_type": "execute_result"
    }
   ],
   "source": [
    "#Trying to create a final \n",
    "final=pd.DataFrame()\n",
    "final['contest-tmp2m-14d__tmp2m']=ypred\n",
    "final['# index']=0\n",
    "i=len(train_df) #Legnth of train_data.csv\n",
    "while i<len(train_df)+len(test_df):\n",
    "    final['# index'][i-len(train_df)]=i\n",
    "    i+=1\n",
    "final\n",
    "\n",
    "#I basically need to count up from len(train_data.csv+1)\n",
    "#to len(test_data.csv)+len(train_data.csv)"
   ]
  },
  {
   "cell_type": "code",
   "execution_count": 12,
   "id": "d6690fa9",
   "metadata": {
    "execution": {
     "iopub.execute_input": "2023-02-19T19:55:43.569014Z",
     "iopub.status.busy": "2023-02-19T19:55:43.568622Z",
     "iopub.status.idle": "2023-02-19T19:55:43.609132Z",
     "shell.execute_reply": "2023-02-19T19:55:43.607761Z"
    },
    "papermill": {
     "duration": 0.05231,
     "end_time": "2023-02-19T19:55:43.611988",
     "exception": false,
     "start_time": "2023-02-19T19:55:43.559678",
     "status": "completed"
    },
    "tags": []
   },
   "outputs": [],
   "source": [
    "final.to_csv('final.csv',index=False)"
   ]
  },
  {
   "cell_type": "code",
   "execution_count": 13,
   "id": "a01b87f4",
   "metadata": {
    "execution": {
     "iopub.execute_input": "2023-02-19T19:55:43.627343Z",
     "iopub.status.busy": "2023-02-19T19:55:43.626943Z",
     "iopub.status.idle": "2023-02-19T19:55:43.639350Z",
     "shell.execute_reply": "2023-02-19T19:55:43.638511Z"
    },
    "papermill": {
     "duration": 0.022831,
     "end_time": "2023-02-19T19:55:43.641591",
     "exception": false,
     "start_time": "2023-02-19T19:55:43.618760",
     "status": "completed"
    },
    "tags": []
   },
   "outputs": [
    {
     "data": {
      "text/html": [
       "<div>\n",
       "<style scoped>\n",
       "    .dataframe tbody tr th:only-of-type {\n",
       "        vertical-align: middle;\n",
       "    }\n",
       "\n",
       "    .dataframe tbody tr th {\n",
       "        vertical-align: top;\n",
       "    }\n",
       "\n",
       "    .dataframe thead th {\n",
       "        text-align: right;\n",
       "    }\n",
       "</style>\n",
       "<table border=\"1\" class=\"dataframe\">\n",
       "  <thead>\n",
       "    <tr style=\"text-align: right;\">\n",
       "      <th></th>\n",
       "      <th>contest-tmp2m-14d__tmp2m</th>\n",
       "      <th># index</th>\n",
       "    </tr>\n",
       "  </thead>\n",
       "  <tbody>\n",
       "    <tr>\n",
       "      <th>0</th>\n",
       "      <td>0</td>\n",
       "      <td>352604</td>\n",
       "    </tr>\n",
       "    <tr>\n",
       "      <th>1</th>\n",
       "      <td>0</td>\n",
       "      <td>352605</td>\n",
       "    </tr>\n",
       "    <tr>\n",
       "      <th>2</th>\n",
       "      <td>0</td>\n",
       "      <td>352606</td>\n",
       "    </tr>\n",
       "    <tr>\n",
       "      <th>3</th>\n",
       "      <td>0</td>\n",
       "      <td>352607</td>\n",
       "    </tr>\n",
       "    <tr>\n",
       "      <th>4</th>\n",
       "      <td>0</td>\n",
       "      <td>352608</td>\n",
       "    </tr>\n",
       "    <tr>\n",
       "      <th>...</th>\n",
       "      <td>...</td>\n",
       "      <td>...</td>\n",
       "    </tr>\n",
       "    <tr>\n",
       "      <th>31349</th>\n",
       "      <td>0</td>\n",
       "      <td>383953</td>\n",
       "    </tr>\n",
       "    <tr>\n",
       "      <th>31350</th>\n",
       "      <td>0</td>\n",
       "      <td>383954</td>\n",
       "    </tr>\n",
       "    <tr>\n",
       "      <th>31351</th>\n",
       "      <td>0</td>\n",
       "      <td>383955</td>\n",
       "    </tr>\n",
       "    <tr>\n",
       "      <th>31352</th>\n",
       "      <td>0</td>\n",
       "      <td>383956</td>\n",
       "    </tr>\n",
       "    <tr>\n",
       "      <th>31353</th>\n",
       "      <td>0</td>\n",
       "      <td>383957</td>\n",
       "    </tr>\n",
       "  </tbody>\n",
       "</table>\n",
       "<p>31354 rows × 2 columns</p>\n",
       "</div>"
      ],
      "text/plain": [
       "       contest-tmp2m-14d__tmp2m  # index\n",
       "0                             0   352604\n",
       "1                             0   352605\n",
       "2                             0   352606\n",
       "3                             0   352607\n",
       "4                             0   352608\n",
       "...                         ...      ...\n",
       "31349                         0   383953\n",
       "31350                         0   383954\n",
       "31351                         0   383955\n",
       "31352                         0   383956\n",
       "31353                         0   383957\n",
       "\n",
       "[31354 rows x 2 columns]"
      ]
     },
     "execution_count": 13,
     "metadata": {},
     "output_type": "execute_result"
    }
   ],
   "source": [
    "final #Print submission for dataframe"
   ]
  }
 ],
 "metadata": {
  "kernelspec": {
   "display_name": "Python 3",
   "language": "python",
   "name": "python3"
  },
  "language_info": {
   "codemirror_mode": {
    "name": "ipython",
    "version": 3
   },
   "file_extension": ".py",
   "mimetype": "text/x-python",
   "name": "python",
   "nbconvert_exporter": "python",
   "pygments_lexer": "ipython3",
   "version": "3.7.12"
  },
  "papermill": {
   "default_parameters": {},
   "duration": 1387.455027,
   "end_time": "2023-02-19T19:55:44.574972",
   "environment_variables": {},
   "exception": null,
   "input_path": "__notebook__.ipynb",
   "output_path": "__notebook__.ipynb",
   "parameters": {},
   "start_time": "2023-02-19T19:32:37.119945",
   "version": "2.3.4"
  }
 },
 "nbformat": 4,
 "nbformat_minor": 5
}
