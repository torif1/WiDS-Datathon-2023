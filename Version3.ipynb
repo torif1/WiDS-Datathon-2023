{
 "cells": [
  {
   "cell_type": "markdown",
   "id": "8028aeda",
   "metadata": {
    "papermill": {
     "duration": 0.011599,
     "end_time": "2023-02-19T07:21:13.298218",
     "exception": false,
     "start_time": "2023-02-19T07:21:13.286619",
     "status": "completed"
    },
    "tags": []
   },
   "source": [
    "# Plan\n",
    "Ok, so my plan is basically just to break the dataset specifically the date time into different catagorical values. Specifically two new coluns, first the year, a numerical value in order to account for the possibility of a raising or lowering of avg temperachure over a few years, and a second a value 1-356 that gives which day of the specified year it is. I think that by doing it this way the model will be able to diferentiate between the different times of the year without having to deal with wierd time series and all that crazy stuff. Basically I just need to find a model that will train off of that data based on the individual values."
   ]
  },
  {
   "cell_type": "markdown",
   "id": "be90491a",
   "metadata": {
    "papermill": {
     "duration": 0.006889,
     "end_time": "2023-02-19T07:21:13.313034",
     "exception": false,
     "start_time": "2023-02-19T07:21:13.306145",
     "status": "completed"
    },
    "tags": []
   },
   "source": [
    "Tuturial I am going to use:https://machinelearninggeek.com/multi-layer-perceptron-neural-network-using-python/"
   ]
  },
  {
   "cell_type": "code",
   "execution_count": 1,
   "id": "2ad68c68",
   "metadata": {
    "_cell_guid": "b1076dfc-b9ad-4769-8c92-a6c4dae69d19",
    "_uuid": "8f2839f25d086af736a60e9eeb907d3b93b6e0e5",
    "execution": {
     "iopub.execute_input": "2023-02-19T07:21:13.331218Z",
     "iopub.status.busy": "2023-02-19T07:21:13.329801Z",
     "iopub.status.idle": "2023-02-19T07:21:13.357627Z",
     "shell.execute_reply": "2023-02-19T07:21:13.356181Z"
    },
    "papermill": {
     "duration": 0.04046,
     "end_time": "2023-02-19T07:21:13.360744",
     "exception": false,
     "start_time": "2023-02-19T07:21:13.320284",
     "status": "completed"
    },
    "tags": []
   },
   "outputs": [
    {
     "name": "stdout",
     "output_type": "stream",
     "text": [
      "/kaggle/input/wids-all-datasets/train_data.csv\n",
      "/kaggle/input/wids-all-datasets/test_data.csv\n",
      "/kaggle/input/wids-all-datasets/sample_solution.csv\n"
     ]
    }
   ],
   "source": [
    "# This Python 3 environment comes with many helpful analytics libraries installed\n",
    "# It is defined by the kaggle/python Docker image: https://github.com/kaggle/docker-python\n",
    "# For example, here's several helpful packages to load\n",
    "\n",
    "import numpy as np # linear algebra\n",
    "import pandas as pd # data processing, CSV file I/O (e.g. pd.read_csv)\n",
    "\n",
    "# Input data files are available in the read-only \"../input/\" directory\n",
    "# For example, running this (by clicking run or pressing Shift+Enter) will list all files under the input directory\n",
    "\n",
    "import os\n",
    "for dirname, _, filenames in os.walk('/kaggle/input'):\n",
    "    for filename in filenames:\n",
    "        print(os.path.join(dirname, filename))\n",
    "\n",
    "# You can write up to 20GB to the current directory (/kaggle/working/) that gets preserved as output when you create a version using \"Save & Run All\" \n",
    "# You can also write temporary files to /kaggle/temp/, but they won't be saved outside of the current session"
   ]
  },
  {
   "cell_type": "markdown",
   "id": "3981ca55",
   "metadata": {
    "papermill": {
     "duration": 0.007103,
     "end_time": "2023-02-19T07:21:13.375761",
     "exception": false,
     "start_time": "2023-02-19T07:21:13.368658",
     "status": "completed"
    },
    "tags": []
   },
   "source": [
    "# Functions\n",
    "The functions that I will be using in the process of training the model"
   ]
  },
  {
   "cell_type": "code",
   "execution_count": 2,
   "id": "f3752b64",
   "metadata": {
    "execution": {
     "iopub.execute_input": "2023-02-19T07:21:13.392707Z",
     "iopub.status.busy": "2023-02-19T07:21:13.391971Z",
     "iopub.status.idle": "2023-02-19T07:21:13.400260Z",
     "shell.execute_reply": "2023-02-19T07:21:13.398703Z"
    },
    "papermill": {
     "duration": 0.020196,
     "end_time": "2023-02-19T07:21:13.403253",
     "exception": false,
     "start_time": "2023-02-19T07:21:13.383057",
     "status": "completed"
    },
    "tags": []
   },
   "outputs": [],
   "source": [
    "#Function to convert dataframe to prefered format.\n",
    "def df_format_neumerical(df):\n",
    "    df['dayofyear']=0\n",
    "    df['year']=0\n",
    "    i=0\n",
    "    for i in df.index.values.tolist():\n",
    "        i=int(i)\n",
    "        period=pd.Period(freq='D')\n",
    "        df['dayofyear'][i]=int(period.day_of_year)\n",
    "        df['year'][i]=int(period.year)\n",
    "        i+=1\n",
    "    df.pop('startdate')\n",
    "    neumerical_df=df[:]\n",
    "    neumerical_df.pop('climateregions__climateregion')\n",
    "    return df,neumerical_df"
   ]
  },
  {
   "cell_type": "code",
   "execution_count": 3,
   "id": "bb692761",
   "metadata": {
    "execution": {
     "iopub.execute_input": "2023-02-19T07:21:13.420032Z",
     "iopub.status.busy": "2023-02-19T07:21:13.419623Z",
     "iopub.status.idle": "2023-02-19T07:21:13.425795Z",
     "shell.execute_reply": "2023-02-19T07:21:13.424410Z"
    },
    "papermill": {
     "duration": 0.018695,
     "end_time": "2023-02-19T07:21:13.429256",
     "exception": false,
     "start_time": "2023-02-19T07:21:13.410561",
     "status": "completed"
    },
    "tags": []
   },
   "outputs": [],
   "source": [
    "#Sepperate dataframe into test and train\n",
    "def seperate_train(df):\n",
    "    seventy_cutoff=int(.7*len(df))\n",
    "    ninty_cutoff=int(len(df)-(.1*len(df)))\n",
    "    train_neumerical_df=neumerical_df[:seventy_cutoff]\n",
    "    test_neumerical_df=neumerical_df[ninty_cutoff:len(df)]\n",
    "    return train_neumerical_df, test_neumerical_df"
   ]
  },
  {
   "cell_type": "code",
   "execution_count": 4,
   "id": "88657363",
   "metadata": {
    "execution": {
     "iopub.execute_input": "2023-02-19T07:21:13.446943Z",
     "iopub.status.busy": "2023-02-19T07:21:13.446523Z",
     "iopub.status.idle": "2023-02-19T07:21:13.452967Z",
     "shell.execute_reply": "2023-02-19T07:21:13.451397Z"
    },
    "papermill": {
     "duration": 0.018247,
     "end_time": "2023-02-19T07:21:13.455766",
     "exception": false,
     "start_time": "2023-02-19T07:21:13.437519",
     "status": "completed"
    },
    "tags": []
   },
   "outputs": [],
   "source": [
    "def df_seperate_y(df):\n",
    "    y_df=df['contest-tmp2m-14d__tmp2m']\n",
    "    X_df=df.drop('contest-tmp2m-14d__tmp2m',axis=1)\n",
    "    return y_df,X_df"
   ]
  },
  {
   "cell_type": "code",
   "execution_count": null,
   "id": "41ac6fc9",
   "metadata": {
    "papermill": {
     "duration": 0.007729,
     "end_time": "2023-02-19T07:21:13.470924",
     "exception": false,
     "start_time": "2023-02-19T07:21:13.463195",
     "status": "completed"
    },
    "tags": []
   },
   "outputs": [],
   "source": []
  },
  {
   "cell_type": "code",
   "execution_count": 5,
   "id": "7367cd77",
   "metadata": {
    "execution": {
     "iopub.execute_input": "2023-02-19T07:21:13.488133Z",
     "iopub.status.busy": "2023-02-19T07:21:13.486914Z",
     "iopub.status.idle": "2023-02-19T07:21:42.335668Z",
     "shell.execute_reply": "2023-02-19T07:21:42.334503Z"
    },
    "papermill": {
     "duration": 28.860281,
     "end_time": "2023-02-19T07:21:42.338478",
     "exception": false,
     "start_time": "2023-02-19T07:21:13.478197",
     "status": "completed"
    },
    "tags": []
   },
   "outputs": [],
   "source": [
    "train_df=pd.read_csv('/kaggle/input/wids-all-datasets/train_data.csv')\n",
    "train_df=train_df.dropna(axis=0)\n",
    "test_df=pd.read_csv('/kaggle/input/wids-all-datasets/test_data.csv')\n",
    "test_df=test_df.dropna(axis=0)"
   ]
  },
  {
   "cell_type": "code",
   "execution_count": null,
   "id": "f10ff044",
   "metadata": {
    "execution": {
     "iopub.execute_input": "2023-02-19T07:16:12.181066Z",
     "iopub.status.busy": "2023-02-19T07:16:12.180634Z",
     "iopub.status.idle": "2023-02-19T07:16:12.186881Z",
     "shell.execute_reply": "2023-02-19T07:16:12.185428Z",
     "shell.execute_reply.started": "2023-02-19T07:16:12.181033Z"
    },
    "papermill": {
     "duration": 0.006965,
     "end_time": "2023-02-19T07:21:42.353045",
     "exception": false,
     "start_time": "2023-02-19T07:21:42.346080",
     "status": "completed"
    },
    "tags": []
   },
   "outputs": [],
   "source": []
  },
  {
   "cell_type": "code",
   "execution_count": 6,
   "id": "1f887d97",
   "metadata": {
    "execution": {
     "iopub.execute_input": "2023-02-19T07:21:42.369521Z",
     "iopub.status.busy": "2023-02-19T07:21:42.369068Z",
     "iopub.status.idle": "2023-02-19T07:21:42.400774Z",
     "shell.execute_reply": "2023-02-19T07:21:42.399498Z"
    },
    "papermill": {
     "duration": 0.042814,
     "end_time": "2023-02-19T07:21:42.403200",
     "exception": false,
     "start_time": "2023-02-19T07:21:42.360386",
     "status": "completed"
    },
    "tags": []
   },
   "outputs": [
    {
     "name": "stdout",
     "output_type": "stream",
     "text": [
      "<class 'pandas.core.frame.DataFrame'>\n",
      "Int64Index: 352604 entries, 0 to 375733\n",
      "Columns: 246 entries, index to wind-vwnd-925-2010-20\n",
      "dtypes: float64(240), int64(4), object(2)\n",
      "memory usage: 664.5+ MB\n"
     ]
    }
   ],
   "source": [
    "train_df.info()"
   ]
  },
  {
   "cell_type": "code",
   "execution_count": 7,
   "id": "c0b5d62f",
   "metadata": {
    "execution": {
     "iopub.execute_input": "2023-02-19T07:21:42.420794Z",
     "iopub.status.busy": "2023-02-19T07:21:42.419573Z",
     "iopub.status.idle": "2023-02-19T07:21:42.425178Z",
     "shell.execute_reply": "2023-02-19T07:21:42.423873Z"
    },
    "papermill": {
     "duration": 0.017614,
     "end_time": "2023-02-19T07:21:42.428285",
     "exception": false,
     "start_time": "2023-02-19T07:21:42.410671",
     "status": "completed"
    },
    "tags": []
   },
   "outputs": [],
   "source": [
    "#train_df,train_neumerical_df=df_format_neumerical(train_df)\n",
    "#test_df, test_neumerical_df=df_format_neumerical(test_df)"
   ]
  },
  {
   "cell_type": "code",
   "execution_count": 8,
   "id": "6171f2e2",
   "metadata": {
    "execution": {
     "iopub.execute_input": "2023-02-19T07:21:42.445882Z",
     "iopub.status.busy": "2023-02-19T07:21:42.445444Z",
     "iopub.status.idle": "2023-02-19T07:21:42.451346Z",
     "shell.execute_reply": "2023-02-19T07:21:42.449874Z"
    },
    "papermill": {
     "duration": 0.017718,
     "end_time": "2023-02-19T07:21:42.453992",
     "exception": false,
     "start_time": "2023-02-19T07:21:42.436274",
     "status": "completed"
    },
    "tags": []
   },
   "outputs": [],
   "source": [
    "train_neumerical_df=train_df\n",
    "test_neumerical_df=test_df"
   ]
  },
  {
   "cell_type": "code",
   "execution_count": 9,
   "id": "b8426a43",
   "metadata": {
    "execution": {
     "iopub.execute_input": "2023-02-19T07:21:42.470575Z",
     "iopub.status.busy": "2023-02-19T07:21:42.470122Z",
     "iopub.status.idle": "2023-02-19T07:21:42.818076Z",
     "shell.execute_reply": "2023-02-19T07:21:42.816838Z"
    },
    "papermill": {
     "duration": 0.359311,
     "end_time": "2023-02-19T07:21:42.820738",
     "exception": false,
     "start_time": "2023-02-19T07:21:42.461427",
     "status": "completed"
    },
    "tags": []
   },
   "outputs": [],
   "source": [
    "train_neumerical_df=train_neumerical_df.drop(['startdate','climateregions__climateregion'], axis=1)\n",
    "test_neumerical_df=test_neumerical_df.drop(['startdate','climateregions__climateregion'],axis=1)\n"
   ]
  },
  {
   "cell_type": "markdown",
   "id": "6c248154",
   "metadata": {
    "papermill": {
     "duration": 0.006858,
     "end_time": "2023-02-19T07:21:42.834921",
     "exception": false,
     "start_time": "2023-02-19T07:21:42.828063",
     "status": "completed"
    },
    "tags": []
   },
   "source": [
    "Ok, so I think that with that I am ready to actually start on the model that I am trying to train."
   ]
  },
  {
   "cell_type": "code",
   "execution_count": 10,
   "id": "3b610c12",
   "metadata": {
    "execution": {
     "iopub.execute_input": "2023-02-19T07:21:42.851446Z",
     "iopub.status.busy": "2023-02-19T07:21:42.850974Z",
     "iopub.status.idle": "2023-02-19T07:21:42.856315Z",
     "shell.execute_reply": "2023-02-19T07:21:42.854910Z"
    },
    "papermill": {
     "duration": 0.016563,
     "end_time": "2023-02-19T07:21:42.858855",
     "exception": false,
     "start_time": "2023-02-19T07:21:42.842292",
     "status": "completed"
    },
    "tags": []
   },
   "outputs": [],
   "source": [
    "#df=pd.read_csv('/kaggle/input/wids-all-datasets/train_data.csv')\n",
    "#df.dropna()"
   ]
  },
  {
   "cell_type": "code",
   "execution_count": 11,
   "id": "42b5cf31",
   "metadata": {
    "execution": {
     "iopub.execute_input": "2023-02-19T07:21:42.875354Z",
     "iopub.status.busy": "2023-02-19T07:21:42.874910Z",
     "iopub.status.idle": "2023-02-19T07:21:43.929236Z",
     "shell.execute_reply": "2023-02-19T07:21:43.928005Z"
    },
    "papermill": {
     "duration": 1.066144,
     "end_time": "2023-02-19T07:21:43.932242",
     "exception": false,
     "start_time": "2023-02-19T07:21:42.866098",
     "status": "completed"
    },
    "tags": []
   },
   "outputs": [],
   "source": [
    "# Import LabelEncoder\n",
    "from sklearn import preprocessing\n",
    "\n",
    "# Creating labelEncoder\n",
    "le = preprocessing.LabelEncoder()\n",
    "\n",
    "# Converting string labels into numbers.\n",
    "train_df['climateregions__climateregion']=le.fit_transform(train_df['climateregions__climateregion'])\n",
    "test_df['climateregions__climateregion']=le.fit_transform(test_df['climateregions__climateregion'])"
   ]
  },
  {
   "cell_type": "code",
   "execution_count": null,
   "id": "dfe222f9",
   "metadata": {
    "papermill": {
     "duration": 0.006917,
     "end_time": "2023-02-19T07:21:43.946536",
     "exception": false,
     "start_time": "2023-02-19T07:21:43.939619",
     "status": "completed"
    },
    "tags": []
   },
   "outputs": [],
   "source": []
  },
  {
   "cell_type": "code",
   "execution_count": 12,
   "id": "42325cf5",
   "metadata": {
    "execution": {
     "iopub.execute_input": "2023-02-19T07:21:43.962757Z",
     "iopub.status.busy": "2023-02-19T07:21:43.962297Z",
     "iopub.status.idle": "2023-02-19T07:21:44.271519Z",
     "shell.execute_reply": "2023-02-19T07:21:44.270190Z"
    },
    "papermill": {
     "duration": 0.320517,
     "end_time": "2023-02-19T07:21:44.274223",
     "exception": false,
     "start_time": "2023-02-19T07:21:43.953706",
     "status": "completed"
    },
    "tags": []
   },
   "outputs": [],
   "source": [
    "y_train_neumerical_df,X_train_neumerical_df=df_seperate_y(train_neumerical_df)"
   ]
  },
  {
   "cell_type": "code",
   "execution_count": 13,
   "id": "cde8bb91",
   "metadata": {
    "execution": {
     "iopub.execute_input": "2023-02-19T07:21:44.291094Z",
     "iopub.status.busy": "2023-02-19T07:21:44.290530Z",
     "iopub.status.idle": "2023-02-19T07:21:44.296941Z",
     "shell.execute_reply": "2023-02-19T07:21:44.295741Z"
    },
    "papermill": {
     "duration": 0.0177,
     "end_time": "2023-02-19T07:21:44.299585",
     "exception": false,
     "start_time": "2023-02-19T07:21:44.281885",
     "status": "completed"
    },
    "tags": []
   },
   "outputs": [],
   "source": [
    "y_train_neumerical_df=y_train_neumerical_df.astype('int')"
   ]
  },
  {
   "cell_type": "code",
   "execution_count": 14,
   "id": "180502aa",
   "metadata": {
    "execution": {
     "iopub.execute_input": "2023-02-19T07:21:44.315844Z",
     "iopub.status.busy": "2023-02-19T07:21:44.315412Z",
     "iopub.status.idle": "2023-02-19T15:15:41.505474Z",
     "shell.execute_reply": "2023-02-19T15:15:41.504214Z"
    },
    "papermill": {
     "duration": 28437.210439,
     "end_time": "2023-02-19T15:15:41.517264",
     "exception": false,
     "start_time": "2023-02-19T07:21:44.306825",
     "status": "completed"
    },
    "tags": []
   },
   "outputs": [
    {
     "name": "stdout",
     "output_type": "stream",
     "text": [
      "Iteration 1, loss = 4.16668728\n",
      "Iteration 2, loss = 3.67217139\n",
      "Iteration 3, loss = 3.67199293\n",
      "Iteration 4, loss = 3.67174124\n",
      "Iteration 5, loss = 3.67145683\n",
      "Iteration 6, loss = 3.67108475\n",
      "Iteration 7, loss = 3.67070933\n",
      "Iteration 8, loss = 3.68666733\n",
      "Iteration 9, loss = 3.69620857\n",
      "Iteration 10, loss = 3.72155545\n",
      "Iteration 11, loss = 3.66907586\n",
      "Iteration 12, loss = 3.81971894\n",
      "Iteration 13, loss = 4.19255440\n",
      "Iteration 14, loss = 3.55345499\n",
      "Iteration 15, loss = 3.66173617\n",
      "Iteration 16, loss = 3.77667385\n",
      "Iteration 17, loss = 3.67044564\n",
      "Iteration 18, loss = 3.67036133\n",
      "Iteration 19, loss = 3.67000650\n",
      "Iteration 20, loss = 3.66987696\n",
      "Iteration 21, loss = 3.66959355\n",
      "Iteration 22, loss = 3.66941406\n",
      "Iteration 23, loss = 3.66907086\n",
      "Iteration 24, loss = 3.66868492\n",
      "Iteration 25, loss = 3.66820459\n",
      "Training loss did not improve more than tol=0.000100 for 10 consecutive epochs. Stopping.\n"
     ]
    },
    {
     "data": {
      "text/plain": [
       "MLPClassifier(hidden_layer_sizes=(2400, 2000), learning_rate_init=0.01,\n",
       "              random_state=100, verbose=True)"
      ]
     },
     "execution_count": 14,
     "metadata": {},
     "output_type": "execute_result"
    }
   ],
   "source": [
    "# Import MLPClassifer \n",
    "from sklearn.neural_network import MLPClassifier\n",
    "\n",
    "# Create model object\n",
    "clf = MLPClassifier(hidden_layer_sizes=(2400,2000),\n",
    "                    random_state=100,\n",
    "                    verbose=True,\n",
    "                    learning_rate_init=0.01)\n",
    "\n",
    "# Fit data onto the model\n",
    "clf.fit(X_train_neumerical_df,y_train_neumerical_df)"
   ]
  },
  {
   "cell_type": "code",
   "execution_count": 15,
   "id": "9eeec4d2",
   "metadata": {
    "execution": {
     "iopub.execute_input": "2023-02-19T15:15:41.537071Z",
     "iopub.status.busy": "2023-02-19T15:15:41.536670Z",
     "iopub.status.idle": "2023-02-19T15:15:41.562662Z",
     "shell.execute_reply": "2023-02-19T15:15:41.561654Z"
    },
    "papermill": {
     "duration": 0.039046,
     "end_time": "2023-02-19T15:15:41.565318",
     "exception": false,
     "start_time": "2023-02-19T15:15:41.526272",
     "status": "completed"
    },
    "tags": []
   },
   "outputs": [
    {
     "name": "stdout",
     "output_type": "stream",
     "text": [
      "<class 'pandas.core.frame.DataFrame'>\n",
      "Int64Index: 352604 entries, 0 to 375733\n",
      "Columns: 243 entries, index to wind-vwnd-925-2010-20\n",
      "dtypes: float64(239), int64(4)\n",
      "memory usage: 656.4 MB\n"
     ]
    }
   ],
   "source": [
    "X_train_neumerical_df.info()"
   ]
  },
  {
   "cell_type": "code",
   "execution_count": 16,
   "id": "4d84b42e",
   "metadata": {
    "execution": {
     "iopub.execute_input": "2023-02-19T15:15:41.586345Z",
     "iopub.status.busy": "2023-02-19T15:15:41.585879Z",
     "iopub.status.idle": "2023-02-19T15:15:41.610224Z",
     "shell.execute_reply": "2023-02-19T15:15:41.608605Z"
    },
    "papermill": {
     "duration": 0.037938,
     "end_time": "2023-02-19T15:15:41.612706",
     "exception": false,
     "start_time": "2023-02-19T15:15:41.574768",
     "status": "completed"
    },
    "tags": []
   },
   "outputs": [
    {
     "name": "stdout",
     "output_type": "stream",
     "text": [
      "<class 'pandas.core.frame.DataFrame'>\n",
      "Int64Index: 31354 entries, 0 to 31353\n",
      "Columns: 243 entries, index to wind-vwnd-925-2010-20\n",
      "dtypes: float64(241), int64(2)\n",
      "memory usage: 58.4 MB\n"
     ]
    }
   ],
   "source": [
    "test_neumerical_df.info()"
   ]
  },
  {
   "cell_type": "code",
   "execution_count": 17,
   "id": "18a926fc",
   "metadata": {
    "execution": {
     "iopub.execute_input": "2023-02-19T15:15:41.633032Z",
     "iopub.status.busy": "2023-02-19T15:15:41.632621Z",
     "iopub.status.idle": "2023-02-19T15:16:59.882016Z",
     "shell.execute_reply": "2023-02-19T15:16:59.880795Z"
    },
    "papermill": {
     "duration": 78.263069,
     "end_time": "2023-02-19T15:16:59.884842",
     "exception": false,
     "start_time": "2023-02-19T15:15:41.621773",
     "status": "completed"
    },
    "tags": []
   },
   "outputs": [],
   "source": [
    "ypred=clf.predict(test_neumerical_df)"
   ]
  },
  {
   "cell_type": "code",
   "execution_count": 18,
   "id": "3a492c2c",
   "metadata": {
    "execution": {
     "iopub.execute_input": "2023-02-19T15:16:59.905213Z",
     "iopub.status.busy": "2023-02-19T15:16:59.904808Z",
     "iopub.status.idle": "2023-02-19T15:16:59.912623Z",
     "shell.execute_reply": "2023-02-19T15:16:59.911216Z"
    },
    "papermill": {
     "duration": 0.02124,
     "end_time": "2023-02-19T15:16:59.915191",
     "exception": false,
     "start_time": "2023-02-19T15:16:59.893951",
     "status": "completed"
    },
    "tags": []
   },
   "outputs": [
    {
     "data": {
      "text/plain": [
       "array([0, 0, 0, ..., 0, 0, 0])"
      ]
     },
     "execution_count": 18,
     "metadata": {},
     "output_type": "execute_result"
    }
   ],
   "source": [
    "ypred"
   ]
  },
  {
   "cell_type": "code",
   "execution_count": null,
   "id": "3c80b23b",
   "metadata": {
    "papermill": {
     "duration": 0.009744,
     "end_time": "2023-02-19T15:16:59.934151",
     "exception": false,
     "start_time": "2023-02-19T15:16:59.924407",
     "status": "completed"
    },
    "tags": []
   },
   "outputs": [],
   "source": []
  },
  {
   "cell_type": "code",
   "execution_count": 19,
   "id": "269b151b",
   "metadata": {
    "execution": {
     "iopub.execute_input": "2023-02-19T15:16:59.955329Z",
     "iopub.status.busy": "2023-02-19T15:16:59.954921Z",
     "iopub.status.idle": "2023-02-19T15:16:59.981744Z",
     "shell.execute_reply": "2023-02-19T15:16:59.980421Z"
    },
    "papermill": {
     "duration": 0.040646,
     "end_time": "2023-02-19T15:16:59.984271",
     "exception": false,
     "start_time": "2023-02-19T15:16:59.943625",
     "status": "completed"
    },
    "tags": []
   },
   "outputs": [
    {
     "data": {
      "text/html": [
       "<div>\n",
       "<style scoped>\n",
       "    .dataframe tbody tr th:only-of-type {\n",
       "        vertical-align: middle;\n",
       "    }\n",
       "\n",
       "    .dataframe tbody tr th {\n",
       "        vertical-align: top;\n",
       "    }\n",
       "\n",
       "    .dataframe thead th {\n",
       "        text-align: right;\n",
       "    }\n",
       "</style>\n",
       "<table border=\"1\" class=\"dataframe\">\n",
       "  <thead>\n",
       "    <tr style=\"text-align: right;\">\n",
       "      <th></th>\n",
       "      <th>contest-tmp2m-14d__tmp2m</th>\n",
       "      <th># index</th>\n",
       "    </tr>\n",
       "  </thead>\n",
       "  <tbody>\n",
       "    <tr>\n",
       "      <th>0</th>\n",
       "      <td>0</td>\n",
       "      <td>0</td>\n",
       "    </tr>\n",
       "    <tr>\n",
       "      <th>1</th>\n",
       "      <td>0</td>\n",
       "      <td>0</td>\n",
       "    </tr>\n",
       "    <tr>\n",
       "      <th>2</th>\n",
       "      <td>0</td>\n",
       "      <td>0</td>\n",
       "    </tr>\n",
       "    <tr>\n",
       "      <th>3</th>\n",
       "      <td>0</td>\n",
       "      <td>0</td>\n",
       "    </tr>\n",
       "    <tr>\n",
       "      <th>4</th>\n",
       "      <td>0</td>\n",
       "      <td>0</td>\n",
       "    </tr>\n",
       "    <tr>\n",
       "      <th>...</th>\n",
       "      <td>...</td>\n",
       "      <td>...</td>\n",
       "    </tr>\n",
       "    <tr>\n",
       "      <th>31349</th>\n",
       "      <td>0</td>\n",
       "      <td>0</td>\n",
       "    </tr>\n",
       "    <tr>\n",
       "      <th>31350</th>\n",
       "      <td>0</td>\n",
       "      <td>0</td>\n",
       "    </tr>\n",
       "    <tr>\n",
       "      <th>31351</th>\n",
       "      <td>0</td>\n",
       "      <td>0</td>\n",
       "    </tr>\n",
       "    <tr>\n",
       "      <th>31352</th>\n",
       "      <td>0</td>\n",
       "      <td>0</td>\n",
       "    </tr>\n",
       "    <tr>\n",
       "      <th>31353</th>\n",
       "      <td>0</td>\n",
       "      <td>0</td>\n",
       "    </tr>\n",
       "  </tbody>\n",
       "</table>\n",
       "<p>31354 rows × 2 columns</p>\n",
       "</div>"
      ],
      "text/plain": [
       "       contest-tmp2m-14d__tmp2m  # index\n",
       "0                             0        0\n",
       "1                             0        0\n",
       "2                             0        0\n",
       "3                             0        0\n",
       "4                             0        0\n",
       "...                         ...      ...\n",
       "31349                         0        0\n",
       "31350                         0        0\n",
       "31351                         0        0\n",
       "31352                         0        0\n",
       "31353                         0        0\n",
       "\n",
       "[31354 rows x 2 columns]"
      ]
     },
     "execution_count": 19,
     "metadata": {},
     "output_type": "execute_result"
    }
   ],
   "source": [
    "#Trying to create a final \n",
    "final=pd.DataFrame()\n",
    "final['contest-tmp2m-14d__tmp2m']=ypred\n",
    "final['# index']=0\n",
    "i=len(train_df) #Legnth of train_data.csv\n",
    "while i<len(train_df):\n",
    "    final['# index'][i-len(train_df)]=i\n",
    "    i+=1\n",
    "final\n",
    "\n",
    "#I basically need to count up from len(train_data.csv+1)\n",
    "#to len(test_data.csv)+len(train_data.csv)"
   ]
  },
  {
   "cell_type": "code",
   "execution_count": 20,
   "id": "c7e1e771",
   "metadata": {
    "execution": {
     "iopub.execute_input": "2023-02-19T15:17:00.006115Z",
     "iopub.status.busy": "2023-02-19T15:17:00.005711Z",
     "iopub.status.idle": "2023-02-19T15:17:00.041896Z",
     "shell.execute_reply": "2023-02-19T15:17:00.040595Z"
    },
    "papermill": {
     "duration": 0.051059,
     "end_time": "2023-02-19T15:17:00.044788",
     "exception": false,
     "start_time": "2023-02-19T15:16:59.993729",
     "status": "completed"
    },
    "tags": []
   },
   "outputs": [],
   "source": [
    "final.to_csv('finalV1.csv',index=False)"
   ]
  },
  {
   "cell_type": "code",
   "execution_count": 21,
   "id": "f35e5465",
   "metadata": {
    "execution": {
     "iopub.execute_input": "2023-02-19T15:17:00.065391Z",
     "iopub.status.busy": "2023-02-19T15:17:00.064952Z",
     "iopub.status.idle": "2023-02-19T15:17:00.079998Z",
     "shell.execute_reply": "2023-02-19T15:17:00.078725Z"
    },
    "papermill": {
     "duration": 0.028373,
     "end_time": "2023-02-19T15:17:00.082544",
     "exception": false,
     "start_time": "2023-02-19T15:17:00.054171",
     "status": "completed"
    },
    "tags": []
   },
   "outputs": [
    {
     "data": {
      "text/html": [
       "<div>\n",
       "<style scoped>\n",
       "    .dataframe tbody tr th:only-of-type {\n",
       "        vertical-align: middle;\n",
       "    }\n",
       "\n",
       "    .dataframe tbody tr th {\n",
       "        vertical-align: top;\n",
       "    }\n",
       "\n",
       "    .dataframe thead th {\n",
       "        text-align: right;\n",
       "    }\n",
       "</style>\n",
       "<table border=\"1\" class=\"dataframe\">\n",
       "  <thead>\n",
       "    <tr style=\"text-align: right;\">\n",
       "      <th></th>\n",
       "      <th>contest-tmp2m-14d__tmp2m</th>\n",
       "      <th># index</th>\n",
       "    </tr>\n",
       "  </thead>\n",
       "  <tbody>\n",
       "    <tr>\n",
       "      <th>0</th>\n",
       "      <td>0</td>\n",
       "      <td>0</td>\n",
       "    </tr>\n",
       "    <tr>\n",
       "      <th>1</th>\n",
       "      <td>0</td>\n",
       "      <td>0</td>\n",
       "    </tr>\n",
       "    <tr>\n",
       "      <th>2</th>\n",
       "      <td>0</td>\n",
       "      <td>0</td>\n",
       "    </tr>\n",
       "    <tr>\n",
       "      <th>3</th>\n",
       "      <td>0</td>\n",
       "      <td>0</td>\n",
       "    </tr>\n",
       "    <tr>\n",
       "      <th>4</th>\n",
       "      <td>0</td>\n",
       "      <td>0</td>\n",
       "    </tr>\n",
       "    <tr>\n",
       "      <th>...</th>\n",
       "      <td>...</td>\n",
       "      <td>...</td>\n",
       "    </tr>\n",
       "    <tr>\n",
       "      <th>31349</th>\n",
       "      <td>0</td>\n",
       "      <td>0</td>\n",
       "    </tr>\n",
       "    <tr>\n",
       "      <th>31350</th>\n",
       "      <td>0</td>\n",
       "      <td>0</td>\n",
       "    </tr>\n",
       "    <tr>\n",
       "      <th>31351</th>\n",
       "      <td>0</td>\n",
       "      <td>0</td>\n",
       "    </tr>\n",
       "    <tr>\n",
       "      <th>31352</th>\n",
       "      <td>0</td>\n",
       "      <td>0</td>\n",
       "    </tr>\n",
       "    <tr>\n",
       "      <th>31353</th>\n",
       "      <td>0</td>\n",
       "      <td>0</td>\n",
       "    </tr>\n",
       "  </tbody>\n",
       "</table>\n",
       "<p>31354 rows × 2 columns</p>\n",
       "</div>"
      ],
      "text/plain": [
       "       contest-tmp2m-14d__tmp2m  # index\n",
       "0                             0        0\n",
       "1                             0        0\n",
       "2                             0        0\n",
       "3                             0        0\n",
       "4                             0        0\n",
       "...                         ...      ...\n",
       "31349                         0        0\n",
       "31350                         0        0\n",
       "31351                         0        0\n",
       "31352                         0        0\n",
       "31353                         0        0\n",
       "\n",
       "[31354 rows x 2 columns]"
      ]
     },
     "execution_count": 21,
     "metadata": {},
     "output_type": "execute_result"
    }
   ],
   "source": [
    "final"
   ]
  },
  {
   "cell_type": "code",
   "execution_count": null,
   "id": "6eea9cd8",
   "metadata": {
    "papermill": {
     "duration": 0.009585,
     "end_time": "2023-02-19T15:17:00.101858",
     "exception": false,
     "start_time": "2023-02-19T15:17:00.092273",
     "status": "completed"
    },
    "tags": []
   },
   "outputs": [],
   "source": []
  }
 ],
 "metadata": {
  "kernelspec": {
   "display_name": "Python 3",
   "language": "python",
   "name": "python3"
  },
  "language_info": {
   "codemirror_mode": {
    "name": "ipython",
    "version": 3
   },
   "file_extension": ".py",
   "mimetype": "text/x-python",
   "name": "python",
   "nbconvert_exporter": "python",
   "pygments_lexer": "ipython3",
   "version": "3.7.12"
  },
  "papermill": {
   "default_parameters": {},
   "duration": 28558.003773,
   "end_time": "2023-02-19T15:17:01.186678",
   "environment_variables": {},
   "exception": null,
   "input_path": "__notebook__.ipynb",
   "output_path": "__notebook__.ipynb",
   "parameters": {},
   "start_time": "2023-02-19T07:21:03.182905",
   "version": "2.3.4"
  }
 },
 "nbformat": 4,
 "nbformat_minor": 5
}
