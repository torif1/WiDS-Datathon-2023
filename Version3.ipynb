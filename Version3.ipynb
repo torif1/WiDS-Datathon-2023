{
 "cells": [
  {
   "cell_type": "markdown",
   "id": "ad419ead",
   "metadata": {
    "papermill": {
     "duration": 0.010726,
     "end_time": "2023-02-19T15:51:08.030424",
     "exception": false,
     "start_time": "2023-02-19T15:51:08.019698",
     "status": "completed"
    },
    "tags": []
   },
   "source": [
    "# Plan\n",
    "Ok, so my plan is basically just to break the dataset specifically the date time into different catagorical values. Specifically two new coluns, first the year, a numerical value in order to account for the possibility of a raising or lowering of avg temperachure over a few years, and a second a value 1-356 that gives which day of the specified year it is. I think that by doing it this way the model will be able to diferentiate between the different times of the year without having to deal with wierd time series and all that crazy stuff. Basically I just need to find a model that will train off of that data based on the individual values."
   ]
  },
  {
   "cell_type": "markdown",
   "id": "ce52fd58",
   "metadata": {
    "papermill": {
     "duration": 0.006648,
     "end_time": "2023-02-19T15:51:08.044133",
     "exception": false,
     "start_time": "2023-02-19T15:51:08.037485",
     "status": "completed"
    },
    "tags": []
   },
   "source": [
    "Tuturial I am going to use:https://machinelearninggeek.com/multi-layer-perceptron-neural-network-using-python/"
   ]
  },
  {
   "cell_type": "code",
   "execution_count": 1,
   "id": "ce641d85",
   "metadata": {
    "_cell_guid": "b1076dfc-b9ad-4769-8c92-a6c4dae69d19",
    "_uuid": "8f2839f25d086af736a60e9eeb907d3b93b6e0e5",
    "execution": {
     "iopub.execute_input": "2023-02-19T15:51:08.060409Z",
     "iopub.status.busy": "2023-02-19T15:51:08.059529Z",
     "iopub.status.idle": "2023-02-19T15:51:08.080233Z",
     "shell.execute_reply": "2023-02-19T15:51:08.079332Z"
    },
    "papermill": {
     "duration": 0.031988,
     "end_time": "2023-02-19T15:51:08.083015",
     "exception": false,
     "start_time": "2023-02-19T15:51:08.051027",
     "status": "completed"
    },
    "tags": []
   },
   "outputs": [
    {
     "name": "stdout",
     "output_type": "stream",
     "text": [
      "/kaggle/input/wids-all-datasets/train_data.csv\n",
      "/kaggle/input/wids-all-datasets/test_data.csv\n",
      "/kaggle/input/wids-all-datasets/sample_solution.csv\n"
     ]
    }
   ],
   "source": [
    "# This Python 3 environment comes with many helpful analytics libraries installed\n",
    "# It is defined by the kaggle/python Docker image: https://github.com/kaggle/docker-python\n",
    "# For example, here's several helpful packages to load\n",
    "\n",
    "import numpy as np # linear algebra\n",
    "import pandas as pd # data processing, CSV file I/O (e.g. pd.read_csv)\n",
    "\n",
    "# Input data files are available in the read-only \"../input/\" directory\n",
    "# For example, running this (by clicking run or pressing Shift+Enter) will list all files under the input directory\n",
    "\n",
    "import os\n",
    "for dirname, _, filenames in os.walk('/kaggle/input'):\n",
    "    for filename in filenames:\n",
    "        print(os.path.join(dirname, filename))\n",
    "\n",
    "# You can write up to 20GB to the current directory (/kaggle/working/) that gets preserved as output when you create a version using \"Save & Run All\" \n",
    "# You can also write temporary files to /kaggle/temp/, but they won't be saved outside of the current session"
   ]
  },
  {
   "cell_type": "markdown",
   "id": "f42263b1",
   "metadata": {
    "papermill": {
     "duration": 0.006776,
     "end_time": "2023-02-19T15:51:08.096998",
     "exception": false,
     "start_time": "2023-02-19T15:51:08.090222",
     "status": "completed"
    },
    "tags": []
   },
   "source": [
    "# Functions\n",
    "The functions that I will be using in the process of training the model"
   ]
  },
  {
   "cell_type": "code",
   "execution_count": 2,
   "id": "d0286ca8",
   "metadata": {
    "execution": {
     "iopub.execute_input": "2023-02-19T15:51:08.113051Z",
     "iopub.status.busy": "2023-02-19T15:51:08.112639Z",
     "iopub.status.idle": "2023-02-19T15:51:08.119145Z",
     "shell.execute_reply": "2023-02-19T15:51:08.118309Z"
    },
    "papermill": {
     "duration": 0.017325,
     "end_time": "2023-02-19T15:51:08.121339",
     "exception": false,
     "start_time": "2023-02-19T15:51:08.104014",
     "status": "completed"
    },
    "tags": []
   },
   "outputs": [],
   "source": [
    "#Function to convert dataframe to prefered format.\n",
    "def df_format_neumerical(df):\n",
    "    df['dayofyear']=0\n",
    "    df['year']=0\n",
    "    i=0\n",
    "    for i in df.index.values.tolist():\n",
    "        i=int(i)\n",
    "        period=pd.Period(freq='D')\n",
    "        df['dayofyear'][i]=int(period.day_of_year)\n",
    "        df['year'][i]=int(period.year)\n",
    "        i+=1\n",
    "    df.pop('startdate')\n",
    "    neumerical_df=df[:]\n",
    "    neumerical_df.pop('climateregions__climateregion')\n",
    "    return df,neumerical_df"
   ]
  },
  {
   "cell_type": "code",
   "execution_count": 3,
   "id": "85721766",
   "metadata": {
    "execution": {
     "iopub.execute_input": "2023-02-19T15:51:08.137589Z",
     "iopub.status.busy": "2023-02-19T15:51:08.136894Z",
     "iopub.status.idle": "2023-02-19T15:51:08.142041Z",
     "shell.execute_reply": "2023-02-19T15:51:08.141262Z"
    },
    "papermill": {
     "duration": 0.015772,
     "end_time": "2023-02-19T15:51:08.144168",
     "exception": false,
     "start_time": "2023-02-19T15:51:08.128396",
     "status": "completed"
    },
    "tags": []
   },
   "outputs": [],
   "source": [
    "#Sepperate dataframe into test and train\n",
    "def seperate_train(df):\n",
    "    seventy_cutoff=int(.7*len(df))\n",
    "    ninty_cutoff=int(len(df)-(.1*len(df)))\n",
    "    train_neumerical_df=neumerical_df[:seventy_cutoff]\n",
    "    test_neumerical_df=neumerical_df[ninty_cutoff:len(df)]\n",
    "    return train_neumerical_df, test_neumerical_df"
   ]
  },
  {
   "cell_type": "code",
   "execution_count": 4,
   "id": "65b71e52",
   "metadata": {
    "execution": {
     "iopub.execute_input": "2023-02-19T15:51:08.160435Z",
     "iopub.status.busy": "2023-02-19T15:51:08.159856Z",
     "iopub.status.idle": "2023-02-19T15:51:08.164531Z",
     "shell.execute_reply": "2023-02-19T15:51:08.163726Z"
    },
    "papermill": {
     "duration": 0.015334,
     "end_time": "2023-02-19T15:51:08.166543",
     "exception": false,
     "start_time": "2023-02-19T15:51:08.151209",
     "status": "completed"
    },
    "tags": []
   },
   "outputs": [],
   "source": [
    "def df_seperate_y(df):\n",
    "    y_df=df['contest-tmp2m-14d__tmp2m']\n",
    "    X_df=df.drop('contest-tmp2m-14d__tmp2m',axis=1)\n",
    "    return y_df,X_df"
   ]
  },
  {
   "cell_type": "code",
   "execution_count": null,
   "id": "7c4303bb",
   "metadata": {
    "papermill": {
     "duration": 0.006985,
     "end_time": "2023-02-19T15:51:08.180625",
     "exception": false,
     "start_time": "2023-02-19T15:51:08.173640",
     "status": "completed"
    },
    "tags": []
   },
   "outputs": [],
   "source": []
  },
  {
   "cell_type": "code",
   "execution_count": 5,
   "id": "aa617d0c",
   "metadata": {
    "execution": {
     "iopub.execute_input": "2023-02-19T15:51:08.196903Z",
     "iopub.status.busy": "2023-02-19T15:51:08.196231Z",
     "iopub.status.idle": "2023-02-19T15:51:35.394869Z",
     "shell.execute_reply": "2023-02-19T15:51:35.393845Z"
    },
    "papermill": {
     "duration": 27.20968,
     "end_time": "2023-02-19T15:51:35.397331",
     "exception": false,
     "start_time": "2023-02-19T15:51:08.187651",
     "status": "completed"
    },
    "tags": []
   },
   "outputs": [],
   "source": [
    "train_df=pd.read_csv('/kaggle/input/wids-all-datasets/train_data.csv')\n",
    "train_df=train_df.dropna(axis=0)\n",
    "test_df=pd.read_csv('/kaggle/input/wids-all-datasets/test_data.csv')\n",
    "test_df=test_df.dropna(axis=0)"
   ]
  },
  {
   "cell_type": "code",
   "execution_count": 6,
   "id": "32598d4e",
   "metadata": {
    "execution": {
     "iopub.execute_input": "2023-02-19T15:51:35.413337Z",
     "iopub.status.busy": "2023-02-19T15:51:35.412955Z",
     "iopub.status.idle": "2023-02-19T15:51:35.427570Z",
     "shell.execute_reply": "2023-02-19T15:51:35.426385Z"
    },
    "papermill": {
     "duration": 0.025138,
     "end_time": "2023-02-19T15:51:35.429793",
     "exception": false,
     "start_time": "2023-02-19T15:51:35.404655",
     "status": "completed"
    },
    "tags": []
   },
   "outputs": [
    {
     "data": {
      "text/plain": [
       "11.420598423680191"
      ]
     },
     "execution_count": 6,
     "metadata": {},
     "output_type": "execute_result"
    }
   ],
   "source": [
    "train_df['contest-tmp2m-14d__tmp2m'].mean()"
   ]
  },
  {
   "cell_type": "code",
   "execution_count": 7,
   "id": "adcd3a57",
   "metadata": {
    "execution": {
     "iopub.execute_input": "2023-02-19T15:51:35.446692Z",
     "iopub.status.busy": "2023-02-19T15:51:35.445662Z",
     "iopub.status.idle": "2023-02-19T15:51:35.474335Z",
     "shell.execute_reply": "2023-02-19T15:51:35.472961Z"
    },
    "papermill": {
     "duration": 0.039862,
     "end_time": "2023-02-19T15:51:35.477012",
     "exception": false,
     "start_time": "2023-02-19T15:51:35.437150",
     "status": "completed"
    },
    "tags": []
   },
   "outputs": [
    {
     "name": "stdout",
     "output_type": "stream",
     "text": [
      "<class 'pandas.core.frame.DataFrame'>\n",
      "Int64Index: 352604 entries, 0 to 375733\n",
      "Columns: 246 entries, index to wind-vwnd-925-2010-20\n",
      "dtypes: float64(240), int64(4), object(2)\n",
      "memory usage: 664.5+ MB\n"
     ]
    }
   ],
   "source": [
    "train_df.info()"
   ]
  },
  {
   "cell_type": "code",
   "execution_count": 8,
   "id": "f06e8b24",
   "metadata": {
    "execution": {
     "iopub.execute_input": "2023-02-19T15:51:35.495041Z",
     "iopub.status.busy": "2023-02-19T15:51:35.493078Z",
     "iopub.status.idle": "2023-02-19T15:51:35.498472Z",
     "shell.execute_reply": "2023-02-19T15:51:35.497621Z"
    },
    "papermill": {
     "duration": 0.016192,
     "end_time": "2023-02-19T15:51:35.500673",
     "exception": false,
     "start_time": "2023-02-19T15:51:35.484481",
     "status": "completed"
    },
    "tags": []
   },
   "outputs": [],
   "source": [
    "#train_df,train_neumerical_df=df_format_neumerical(train_df)\n",
    "#test_df, test_neumerical_df=df_format_neumerical(test_df)"
   ]
  },
  {
   "cell_type": "code",
   "execution_count": 9,
   "id": "e0a2d7df",
   "metadata": {
    "execution": {
     "iopub.execute_input": "2023-02-19T15:51:35.517561Z",
     "iopub.status.busy": "2023-02-19T15:51:35.516750Z",
     "iopub.status.idle": "2023-02-19T15:51:35.521599Z",
     "shell.execute_reply": "2023-02-19T15:51:35.520844Z"
    },
    "papermill": {
     "duration": 0.015786,
     "end_time": "2023-02-19T15:51:35.523835",
     "exception": false,
     "start_time": "2023-02-19T15:51:35.508049",
     "status": "completed"
    },
    "tags": []
   },
   "outputs": [],
   "source": [
    "train_neumerical_df=train_df\n",
    "test_neumerical_df=test_df"
   ]
  },
  {
   "cell_type": "code",
   "execution_count": 10,
   "id": "d535208a",
   "metadata": {
    "execution": {
     "iopub.execute_input": "2023-02-19T15:51:35.540489Z",
     "iopub.status.busy": "2023-02-19T15:51:35.539692Z",
     "iopub.status.idle": "2023-02-19T15:51:35.761899Z",
     "shell.execute_reply": "2023-02-19T15:51:35.761041Z"
    },
    "papermill": {
     "duration": 0.233296,
     "end_time": "2023-02-19T15:51:35.764386",
     "exception": false,
     "start_time": "2023-02-19T15:51:35.531090",
     "status": "completed"
    },
    "tags": []
   },
   "outputs": [],
   "source": [
    "train_neumerical_df=train_neumerical_df.drop(['startdate','climateregions__climateregion'], axis=1)\n",
    "test_neumerical_df=test_neumerical_df.drop(['startdate','climateregions__climateregion'],axis=1)\n"
   ]
  },
  {
   "cell_type": "markdown",
   "id": "3fe6d8f8",
   "metadata": {
    "papermill": {
     "duration": 0.006906,
     "end_time": "2023-02-19T15:51:35.778947",
     "exception": false,
     "start_time": "2023-02-19T15:51:35.772041",
     "status": "completed"
    },
    "tags": []
   },
   "source": [
    "Ok, so I think that with that I am ready to actually start on the model that I am trying to train."
   ]
  },
  {
   "cell_type": "code",
   "execution_count": 11,
   "id": "72603a45",
   "metadata": {
    "execution": {
     "iopub.execute_input": "2023-02-19T15:51:35.795616Z",
     "iopub.status.busy": "2023-02-19T15:51:35.794917Z",
     "iopub.status.idle": "2023-02-19T15:51:35.799310Z",
     "shell.execute_reply": "2023-02-19T15:51:35.798534Z"
    },
    "papermill": {
     "duration": 0.015294,
     "end_time": "2023-02-19T15:51:35.801535",
     "exception": false,
     "start_time": "2023-02-19T15:51:35.786241",
     "status": "completed"
    },
    "tags": []
   },
   "outputs": [],
   "source": [
    "#df=pd.read_csv('/kaggle/input/wids-all-datasets/train_data.csv')\n",
    "#df.dropna()"
   ]
  },
  {
   "cell_type": "code",
   "execution_count": 12,
   "id": "d7b3f04e",
   "metadata": {
    "execution": {
     "iopub.execute_input": "2023-02-19T15:51:35.818196Z",
     "iopub.status.busy": "2023-02-19T15:51:35.817501Z",
     "iopub.status.idle": "2023-02-19T15:51:36.790351Z",
     "shell.execute_reply": "2023-02-19T15:51:36.789519Z"
    },
    "papermill": {
     "duration": 0.984154,
     "end_time": "2023-02-19T15:51:36.792849",
     "exception": false,
     "start_time": "2023-02-19T15:51:35.808695",
     "status": "completed"
    },
    "tags": []
   },
   "outputs": [],
   "source": [
    "# Import LabelEncoder\n",
    "from sklearn import preprocessing\n",
    "\n",
    "# Creating labelEncoder\n",
    "le = preprocessing.LabelEncoder()\n",
    "\n",
    "# Converting string labels into numbers.\n",
    "train_df['climateregions__climateregion']=le.fit_transform(train_df['climateregions__climateregion'])\n",
    "test_df['climateregions__climateregion']=le.fit_transform(test_df['climateregions__climateregion'])"
   ]
  },
  {
   "cell_type": "code",
   "execution_count": null,
   "id": "83dbd2ad",
   "metadata": {
    "papermill": {
     "duration": 0.006845,
     "end_time": "2023-02-19T15:51:36.807087",
     "exception": false,
     "start_time": "2023-02-19T15:51:36.800242",
     "status": "completed"
    },
    "tags": []
   },
   "outputs": [],
   "source": []
  },
  {
   "cell_type": "code",
   "execution_count": 13,
   "id": "803b7c48",
   "metadata": {
    "execution": {
     "iopub.execute_input": "2023-02-19T15:51:36.823697Z",
     "iopub.status.busy": "2023-02-19T15:51:36.823012Z",
     "iopub.status.idle": "2023-02-19T15:51:37.029598Z",
     "shell.execute_reply": "2023-02-19T15:51:37.028721Z"
    },
    "papermill": {
     "duration": 0.217724,
     "end_time": "2023-02-19T15:51:37.032047",
     "exception": false,
     "start_time": "2023-02-19T15:51:36.814323",
     "status": "completed"
    },
    "tags": []
   },
   "outputs": [],
   "source": [
    "y_train_neumerical_df,X_train_neumerical_df=df_seperate_y(train_neumerical_df)"
   ]
  },
  {
   "cell_type": "code",
   "execution_count": 14,
   "id": "087aa501",
   "metadata": {
    "execution": {
     "iopub.execute_input": "2023-02-19T15:51:37.048490Z",
     "iopub.status.busy": "2023-02-19T15:51:37.048099Z",
     "iopub.status.idle": "2023-02-19T15:51:37.054257Z",
     "shell.execute_reply": "2023-02-19T15:51:37.053404Z"
    },
    "papermill": {
     "duration": 0.017078,
     "end_time": "2023-02-19T15:51:37.056588",
     "exception": false,
     "start_time": "2023-02-19T15:51:37.039510",
     "status": "completed"
    },
    "tags": []
   },
   "outputs": [],
   "source": [
    "y_train_neumerical_df=y_train_neumerical_df.astype('int')"
   ]
  },
  {
   "cell_type": "code",
   "execution_count": 15,
   "id": "d6a5736d",
   "metadata": {
    "execution": {
     "iopub.execute_input": "2023-02-19T15:51:37.073767Z",
     "iopub.status.busy": "2023-02-19T15:51:37.072365Z",
     "iopub.status.idle": "2023-02-19T15:57:11.969554Z",
     "shell.execute_reply": "2023-02-19T15:57:11.967708Z"
    },
    "papermill": {
     "duration": 334.921775,
     "end_time": "2023-02-19T15:57:11.985559",
     "exception": false,
     "start_time": "2023-02-19T15:51:37.063784",
     "status": "completed"
    },
    "tags": []
   },
   "outputs": [
    {
     "name": "stdout",
     "output_type": "stream",
     "text": [
      "Iteration 1, loss = 3.70706131\n",
      "Iteration 2, loss = 3.66814085\n",
      "Iteration 3, loss = 3.66761802\n",
      "Iteration 4, loss = 3.66728540\n",
      "Iteration 5, loss = 3.66709721\n",
      "Iteration 6, loss = 3.66694251\n",
      "Iteration 7, loss = 3.66672226\n",
      "Iteration 8, loss = 3.66651144\n",
      "Iteration 9, loss = 3.66639358\n",
      "Iteration 10, loss = 3.66634917\n",
      "Iteration 11, loss = 3.66630868\n",
      "Iteration 12, loss = 3.66623949\n",
      "Iteration 13, loss = 3.66628048\n",
      "Iteration 14, loss = 3.66622697\n",
      "Iteration 15, loss = 3.66625408\n",
      "Iteration 16, loss = 3.66634540\n",
      "Iteration 17, loss = 3.66633018\n",
      "Iteration 18, loss = 3.66625515\n",
      "Iteration 19, loss = 3.66627269\n",
      "Iteration 20, loss = 3.66629090\n",
      "Training loss did not improve more than tol=0.000100 for 10 consecutive epochs. Stopping.\n"
     ]
    },
    {
     "data": {
      "text/plain": [
       "MLPClassifier(hidden_layer_sizes=(2, 203), learning_rate_init=0.01,\n",
       "              random_state=100, verbose=True)"
      ]
     },
     "execution_count": 15,
     "metadata": {},
     "output_type": "execute_result"
    }
   ],
   "source": [
    "# Import MLPClassifer \n",
    "from sklearn.neural_network import MLPClassifier\n",
    "\n",
    "# Create model object\n",
    "clf = MLPClassifier(hidden_layer_sizes=(2,203),\n",
    "                    random_state=100,\n",
    "                    verbose=True,\n",
    "                    learning_rate_init=0.01)\n",
    "\n",
    "# Fit data onto the model\n",
    "clf.fit(X_train_neumerical_df,y_train_neumerical_df)"
   ]
  },
  {
   "cell_type": "code",
   "execution_count": 16,
   "id": "4f16387d",
   "metadata": {
    "execution": {
     "iopub.execute_input": "2023-02-19T15:57:12.034168Z",
     "iopub.status.busy": "2023-02-19T15:57:12.033260Z",
     "iopub.status.idle": "2023-02-19T15:57:12.066690Z",
     "shell.execute_reply": "2023-02-19T15:57:12.065722Z"
    },
    "papermill": {
     "duration": 0.060625,
     "end_time": "2023-02-19T15:57:12.068978",
     "exception": false,
     "start_time": "2023-02-19T15:57:12.008353",
     "status": "completed"
    },
    "tags": []
   },
   "outputs": [
    {
     "name": "stdout",
     "output_type": "stream",
     "text": [
      "<class 'pandas.core.frame.DataFrame'>\n",
      "Int64Index: 352604 entries, 0 to 375733\n",
      "Columns: 243 entries, index to wind-vwnd-925-2010-20\n",
      "dtypes: float64(239), int64(4)\n",
      "memory usage: 656.4 MB\n"
     ]
    }
   ],
   "source": [
    "X_train_neumerical_df.info()"
   ]
  },
  {
   "cell_type": "code",
   "execution_count": 17,
   "id": "d7962451",
   "metadata": {
    "execution": {
     "iopub.execute_input": "2023-02-19T15:57:12.088949Z",
     "iopub.status.busy": "2023-02-19T15:57:12.088183Z",
     "iopub.status.idle": "2023-02-19T15:57:12.109156Z",
     "shell.execute_reply": "2023-02-19T15:57:12.107881Z"
    },
    "papermill": {
     "duration": 0.033442,
     "end_time": "2023-02-19T15:57:12.111388",
     "exception": false,
     "start_time": "2023-02-19T15:57:12.077946",
     "status": "completed"
    },
    "tags": []
   },
   "outputs": [
    {
     "name": "stdout",
     "output_type": "stream",
     "text": [
      "<class 'pandas.core.frame.DataFrame'>\n",
      "Int64Index: 31354 entries, 0 to 31353\n",
      "Columns: 243 entries, index to wind-vwnd-925-2010-20\n",
      "dtypes: float64(241), int64(2)\n",
      "memory usage: 58.4 MB\n"
     ]
    }
   ],
   "source": [
    "test_neumerical_df.info()"
   ]
  },
  {
   "cell_type": "code",
   "execution_count": 18,
   "id": "45f251e5",
   "metadata": {
    "execution": {
     "iopub.execute_input": "2023-02-19T15:57:12.131649Z",
     "iopub.status.busy": "2023-02-19T15:57:12.130924Z",
     "iopub.status.idle": "2023-02-19T15:57:12.402584Z",
     "shell.execute_reply": "2023-02-19T15:57:12.400851Z"
    },
    "papermill": {
     "duration": 0.286786,
     "end_time": "2023-02-19T15:57:12.407308",
     "exception": false,
     "start_time": "2023-02-19T15:57:12.120522",
     "status": "completed"
    },
    "tags": []
   },
   "outputs": [],
   "source": [
    "ypred=clf.predict(test_neumerical_df)"
   ]
  },
  {
   "cell_type": "code",
   "execution_count": 19,
   "id": "8a9af8d3",
   "metadata": {
    "execution": {
     "iopub.execute_input": "2023-02-19T15:57:12.441258Z",
     "iopub.status.busy": "2023-02-19T15:57:12.440865Z",
     "iopub.status.idle": "2023-02-19T15:57:12.447681Z",
     "shell.execute_reply": "2023-02-19T15:57:12.446630Z"
    },
    "papermill": {
     "duration": 0.020136,
     "end_time": "2023-02-19T15:57:12.450061",
     "exception": false,
     "start_time": "2023-02-19T15:57:12.429925",
     "status": "completed"
    },
    "tags": []
   },
   "outputs": [
    {
     "data": {
      "text/plain": [
       "array([0, 0, 0, ..., 0, 0, 0])"
      ]
     },
     "execution_count": 19,
     "metadata": {},
     "output_type": "execute_result"
    }
   ],
   "source": [
    "ypred"
   ]
  },
  {
   "cell_type": "code",
   "execution_count": null,
   "id": "0ae8a800",
   "metadata": {
    "papermill": {
     "duration": 0.008749,
     "end_time": "2023-02-19T15:57:12.468016",
     "exception": false,
     "start_time": "2023-02-19T15:57:12.459267",
     "status": "completed"
    },
    "tags": []
   },
   "outputs": [],
   "source": []
  },
  {
   "cell_type": "code",
   "execution_count": 20,
   "id": "24685f6e",
   "metadata": {
    "execution": {
     "iopub.execute_input": "2023-02-19T15:57:12.487842Z",
     "iopub.status.busy": "2023-02-19T15:57:12.487401Z",
     "iopub.status.idle": "2023-02-19T15:57:12.511545Z",
     "shell.execute_reply": "2023-02-19T15:57:12.510385Z"
    },
    "papermill": {
     "duration": 0.036969,
     "end_time": "2023-02-19T15:57:12.513951",
     "exception": false,
     "start_time": "2023-02-19T15:57:12.476982",
     "status": "completed"
    },
    "tags": []
   },
   "outputs": [
    {
     "data": {
      "text/html": [
       "<div>\n",
       "<style scoped>\n",
       "    .dataframe tbody tr th:only-of-type {\n",
       "        vertical-align: middle;\n",
       "    }\n",
       "\n",
       "    .dataframe tbody tr th {\n",
       "        vertical-align: top;\n",
       "    }\n",
       "\n",
       "    .dataframe thead th {\n",
       "        text-align: right;\n",
       "    }\n",
       "</style>\n",
       "<table border=\"1\" class=\"dataframe\">\n",
       "  <thead>\n",
       "    <tr style=\"text-align: right;\">\n",
       "      <th></th>\n",
       "      <th>contest-tmp2m-14d__tmp2m</th>\n",
       "      <th># index</th>\n",
       "    </tr>\n",
       "  </thead>\n",
       "  <tbody>\n",
       "    <tr>\n",
       "      <th>0</th>\n",
       "      <td>0</td>\n",
       "      <td>0</td>\n",
       "    </tr>\n",
       "    <tr>\n",
       "      <th>1</th>\n",
       "      <td>0</td>\n",
       "      <td>0</td>\n",
       "    </tr>\n",
       "    <tr>\n",
       "      <th>2</th>\n",
       "      <td>0</td>\n",
       "      <td>0</td>\n",
       "    </tr>\n",
       "    <tr>\n",
       "      <th>3</th>\n",
       "      <td>0</td>\n",
       "      <td>0</td>\n",
       "    </tr>\n",
       "    <tr>\n",
       "      <th>4</th>\n",
       "      <td>0</td>\n",
       "      <td>0</td>\n",
       "    </tr>\n",
       "    <tr>\n",
       "      <th>...</th>\n",
       "      <td>...</td>\n",
       "      <td>...</td>\n",
       "    </tr>\n",
       "    <tr>\n",
       "      <th>31349</th>\n",
       "      <td>0</td>\n",
       "      <td>0</td>\n",
       "    </tr>\n",
       "    <tr>\n",
       "      <th>31350</th>\n",
       "      <td>0</td>\n",
       "      <td>0</td>\n",
       "    </tr>\n",
       "    <tr>\n",
       "      <th>31351</th>\n",
       "      <td>0</td>\n",
       "      <td>0</td>\n",
       "    </tr>\n",
       "    <tr>\n",
       "      <th>31352</th>\n",
       "      <td>0</td>\n",
       "      <td>0</td>\n",
       "    </tr>\n",
       "    <tr>\n",
       "      <th>31353</th>\n",
       "      <td>0</td>\n",
       "      <td>0</td>\n",
       "    </tr>\n",
       "  </tbody>\n",
       "</table>\n",
       "<p>31354 rows × 2 columns</p>\n",
       "</div>"
      ],
      "text/plain": [
       "       contest-tmp2m-14d__tmp2m  # index\n",
       "0                             0        0\n",
       "1                             0        0\n",
       "2                             0        0\n",
       "3                             0        0\n",
       "4                             0        0\n",
       "...                         ...      ...\n",
       "31349                         0        0\n",
       "31350                         0        0\n",
       "31351                         0        0\n",
       "31352                         0        0\n",
       "31353                         0        0\n",
       "\n",
       "[31354 rows x 2 columns]"
      ]
     },
     "execution_count": 20,
     "metadata": {},
     "output_type": "execute_result"
    }
   ],
   "source": [
    "#Trying to create a final \n",
    "final=pd.DataFrame()\n",
    "final['contest-tmp2m-14d__tmp2m']=ypred\n",
    "final['# index']=0\n",
    "i=len(train_df) #Legnth of train_data.csv\n",
    "while i<len(train_df):\n",
    "    final['# index'][i-len(train_df)]=i\n",
    "    i+=1\n",
    "final\n",
    "\n",
    "#I basically need to count up from len(train_data.csv+1)\n",
    "#to len(test_data.csv)+len(train_data.csv)"
   ]
  },
  {
   "cell_type": "code",
   "execution_count": 21,
   "id": "c45048d6",
   "metadata": {
    "execution": {
     "iopub.execute_input": "2023-02-19T15:57:12.534005Z",
     "iopub.status.busy": "2023-02-19T15:57:12.533583Z",
     "iopub.status.idle": "2023-02-19T15:57:12.569384Z",
     "shell.execute_reply": "2023-02-19T15:57:12.568369Z"
    },
    "papermill": {
     "duration": 0.04873,
     "end_time": "2023-02-19T15:57:12.572020",
     "exception": false,
     "start_time": "2023-02-19T15:57:12.523290",
     "status": "completed"
    },
    "tags": []
   },
   "outputs": [],
   "source": [
    "final.to_csv('finalV1.csv',index=False)"
   ]
  },
  {
   "cell_type": "code",
   "execution_count": 22,
   "id": "a937a79c",
   "metadata": {
    "execution": {
     "iopub.execute_input": "2023-02-19T15:57:12.592095Z",
     "iopub.status.busy": "2023-02-19T15:57:12.591686Z",
     "iopub.status.idle": "2023-02-19T15:57:12.604023Z",
     "shell.execute_reply": "2023-02-19T15:57:12.602856Z"
    },
    "papermill": {
     "duration": 0.025096,
     "end_time": "2023-02-19T15:57:12.606372",
     "exception": false,
     "start_time": "2023-02-19T15:57:12.581276",
     "status": "completed"
    },
    "tags": []
   },
   "outputs": [
    {
     "data": {
      "text/html": [
       "<div>\n",
       "<style scoped>\n",
       "    .dataframe tbody tr th:only-of-type {\n",
       "        vertical-align: middle;\n",
       "    }\n",
       "\n",
       "    .dataframe tbody tr th {\n",
       "        vertical-align: top;\n",
       "    }\n",
       "\n",
       "    .dataframe thead th {\n",
       "        text-align: right;\n",
       "    }\n",
       "</style>\n",
       "<table border=\"1\" class=\"dataframe\">\n",
       "  <thead>\n",
       "    <tr style=\"text-align: right;\">\n",
       "      <th></th>\n",
       "      <th>contest-tmp2m-14d__tmp2m</th>\n",
       "      <th># index</th>\n",
       "    </tr>\n",
       "  </thead>\n",
       "  <tbody>\n",
       "    <tr>\n",
       "      <th>0</th>\n",
       "      <td>0</td>\n",
       "      <td>0</td>\n",
       "    </tr>\n",
       "    <tr>\n",
       "      <th>1</th>\n",
       "      <td>0</td>\n",
       "      <td>0</td>\n",
       "    </tr>\n",
       "    <tr>\n",
       "      <th>2</th>\n",
       "      <td>0</td>\n",
       "      <td>0</td>\n",
       "    </tr>\n",
       "    <tr>\n",
       "      <th>3</th>\n",
       "      <td>0</td>\n",
       "      <td>0</td>\n",
       "    </tr>\n",
       "    <tr>\n",
       "      <th>4</th>\n",
       "      <td>0</td>\n",
       "      <td>0</td>\n",
       "    </tr>\n",
       "    <tr>\n",
       "      <th>...</th>\n",
       "      <td>...</td>\n",
       "      <td>...</td>\n",
       "    </tr>\n",
       "    <tr>\n",
       "      <th>31349</th>\n",
       "      <td>0</td>\n",
       "      <td>0</td>\n",
       "    </tr>\n",
       "    <tr>\n",
       "      <th>31350</th>\n",
       "      <td>0</td>\n",
       "      <td>0</td>\n",
       "    </tr>\n",
       "    <tr>\n",
       "      <th>31351</th>\n",
       "      <td>0</td>\n",
       "      <td>0</td>\n",
       "    </tr>\n",
       "    <tr>\n",
       "      <th>31352</th>\n",
       "      <td>0</td>\n",
       "      <td>0</td>\n",
       "    </tr>\n",
       "    <tr>\n",
       "      <th>31353</th>\n",
       "      <td>0</td>\n",
       "      <td>0</td>\n",
       "    </tr>\n",
       "  </tbody>\n",
       "</table>\n",
       "<p>31354 rows × 2 columns</p>\n",
       "</div>"
      ],
      "text/plain": [
       "       contest-tmp2m-14d__tmp2m  # index\n",
       "0                             0        0\n",
       "1                             0        0\n",
       "2                             0        0\n",
       "3                             0        0\n",
       "4                             0        0\n",
       "...                         ...      ...\n",
       "31349                         0        0\n",
       "31350                         0        0\n",
       "31351                         0        0\n",
       "31352                         0        0\n",
       "31353                         0        0\n",
       "\n",
       "[31354 rows x 2 columns]"
      ]
     },
     "execution_count": 22,
     "metadata": {},
     "output_type": "execute_result"
    }
   ],
   "source": [
    "final"
   ]
  },
  {
   "cell_type": "code",
   "execution_count": null,
   "id": "be032479",
   "metadata": {
    "papermill": {
     "duration": 0.009037,
     "end_time": "2023-02-19T15:57:12.624875",
     "exception": false,
     "start_time": "2023-02-19T15:57:12.615838",
     "status": "completed"
    },
    "tags": []
   },
   "outputs": [],
   "source": []
  }
 ],
 "metadata": {
  "kernelspec": {
   "display_name": "Python 3",
   "language": "python",
   "name": "python3"
  },
  "language_info": {
   "codemirror_mode": {
    "name": "ipython",
    "version": 3
   },
   "file_extension": ".py",
   "mimetype": "text/x-python",
   "name": "python",
   "nbconvert_exporter": "python",
   "pygments_lexer": "ipython3",
   "version": "3.7.12"
  },
  "papermill": {
   "default_parameters": {},
   "duration": 373.883583,
   "end_time": "2023-02-19T15:57:13.457247",
   "environment_variables": {},
   "exception": null,
   "input_path": "__notebook__.ipynb",
   "output_path": "__notebook__.ipynb",
   "parameters": {},
   "start_time": "2023-02-19T15:50:59.573664",
   "version": "2.3.4"
  }
 },
 "nbformat": 4,
 "nbformat_minor": 5
}
