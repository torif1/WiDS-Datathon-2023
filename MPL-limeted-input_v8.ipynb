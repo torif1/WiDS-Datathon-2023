{
 "cells": [
  {
   "cell_type": "markdown",
   "id": "333573ab",
   "metadata": {
    "papermill": {
     "duration": 0.010574,
     "end_time": "2023-02-21T05:51:14.424923",
     "exception": false,
     "start_time": "2023-02-21T05:51:14.414349",
     "status": "completed"
    },
    "tags": []
   },
   "source": [
    "Link to another tutorial site that I was using to figure this out:\n",
    "https://towardsdatascience.com/deep-neural-networks-for-regression-problems-81321897ca33"
   ]
  },
  {
   "cell_type": "code",
   "execution_count": 1,
   "id": "e618e9f9",
   "metadata": {
    "_cell_guid": "b1076dfc-b9ad-4769-8c92-a6c4dae69d19",
    "_uuid": "8f2839f25d086af736a60e9eeb907d3b93b6e0e5",
    "execution": {
     "iopub.execute_input": "2023-02-21T05:51:14.440841Z",
     "iopub.status.busy": "2023-02-21T05:51:14.440379Z",
     "iopub.status.idle": "2023-02-21T05:51:23.723632Z",
     "shell.execute_reply": "2023-02-21T05:51:23.722605Z"
    },
    "papermill": {
     "duration": 9.294738,
     "end_time": "2023-02-21T05:51:23.726653",
     "exception": false,
     "start_time": "2023-02-21T05:51:14.431915",
     "status": "completed"
    },
    "tags": []
   },
   "outputs": [
    {
     "name": "stdout",
     "output_type": "stream",
     "text": [
      "/kaggle/input/widsdatathon2023/train_data.csv\n",
      "/kaggle/input/widsdatathon2023/test_data.csv\n",
      "/kaggle/input/widsdatathon2023/sample_solution.csv\n"
     ]
    }
   ],
   "source": [
    "import numpy as np # linear algebra\n",
    "import pandas as pd # data processing, CSV file I/O (e.g. pd.read_csv)\n",
    "from sklearn import preprocessing #Convert categorical data to neumeric values\n",
    "\n",
    "from keras.callbacks import ModelCheckpoint\n",
    "from keras.models import Sequential\n",
    "from keras.layers import Dense, Activation, Flatten\n",
    "from sklearn.model_selection import train_test_split\n",
    "from sklearn.ensemble import RandomForestRegressor\n",
    "from sklearn.metrics import mean_absolute_error \n",
    "from matplotlib import pyplot as plt\n",
    "import seaborn as sb\n",
    "import matplotlib.pyplot as plt\n",
    "import pandas as pd\n",
    "import numpy as np\n",
    "import warnings \n",
    "warnings.filterwarnings('ignore')\n",
    "warnings.filterwarnings('ignore', category=DeprecationWarning)\n",
    "from xgboost import XGBRegressor\n",
    "\n",
    "import os\n",
    "for dirname, _, filenames in os.walk('/kaggle/input'):\n",
    "    for filename in filenames:\n",
    "        print(os.path.join(dirname, filename))"
   ]
  },
  {
   "cell_type": "code",
   "execution_count": 2,
   "id": "66dab954",
   "metadata": {
    "execution": {
     "iopub.execute_input": "2023-02-21T05:51:23.745933Z",
     "iopub.status.busy": "2023-02-21T05:51:23.744343Z",
     "iopub.status.idle": "2023-02-21T05:51:23.750325Z",
     "shell.execute_reply": "2023-02-21T05:51:23.749142Z"
    },
    "papermill": {
     "duration": 0.018067,
     "end_time": "2023-02-21T05:51:23.752916",
     "exception": false,
     "start_time": "2023-02-21T05:51:23.734849",
     "status": "completed"
    },
    "tags": []
   },
   "outputs": [],
   "source": [
    "keep_columns=['lat','month','contest-tmp2m-14d__tmp2m',\n",
    "              'climateregions__climateregion','lon']\n",
    "X_columns=[['lat','month',\n",
    "              'climateregions__climateregion','lon']]"
   ]
  },
  {
   "cell_type": "code",
   "execution_count": 3,
   "id": "5ec6fdee",
   "metadata": {
    "execution": {
     "iopub.execute_input": "2023-02-21T05:51:23.769343Z",
     "iopub.status.busy": "2023-02-21T05:51:23.768912Z",
     "iopub.status.idle": "2023-02-21T05:51:23.774994Z",
     "shell.execute_reply": "2023-02-21T05:51:23.773793Z"
    },
    "papermill": {
     "duration": 0.017523,
     "end_time": "2023-02-21T05:51:23.777588",
     "exception": false,
     "start_time": "2023-02-21T05:51:23.760065",
     "status": "completed"
    },
    "tags": []
   },
   "outputs": [],
   "source": [
    "def seperate_monthly(df):\n",
    "    df[['month','day','year']]=df.startdate.str.split('/',expand=True)\n",
    "    df=df.drop('day', axis=1)\n",
    "    df=df.drop('startdate',axis=1)\n",
    "    return df"
   ]
  },
  {
   "cell_type": "code",
   "execution_count": 4,
   "id": "9ffa9393",
   "metadata": {
    "execution": {
     "iopub.execute_input": "2023-02-21T05:51:23.793873Z",
     "iopub.status.busy": "2023-02-21T05:51:23.793428Z",
     "iopub.status.idle": "2023-02-21T05:51:23.799331Z",
     "shell.execute_reply": "2023-02-21T05:51:23.798119Z"
    },
    "papermill": {
     "duration": 0.016858,
     "end_time": "2023-02-21T05:51:23.801805",
     "exception": false,
     "start_time": "2023-02-21T05:51:23.784947",
     "status": "completed"
    },
    "tags": []
   },
   "outputs": [],
   "source": [
    "def eliminate_columns(df):\n",
    "    for col in df.columns:\n",
    "        if col in keep_columns:\n",
    "            print(col)\n",
    "        else: \n",
    "            df=df.drop(col, axis=1)\n",
    "    return df"
   ]
  },
  {
   "cell_type": "code",
   "execution_count": 5,
   "id": "6f9f2980",
   "metadata": {
    "execution": {
     "iopub.execute_input": "2023-02-21T05:51:23.818443Z",
     "iopub.status.busy": "2023-02-21T05:51:23.818003Z",
     "iopub.status.idle": "2023-02-21T05:51:23.823786Z",
     "shell.execute_reply": "2023-02-21T05:51:23.822580Z"
    },
    "papermill": {
     "duration": 0.01712,
     "end_time": "2023-02-21T05:51:23.826145",
     "exception": false,
     "start_time": "2023-02-21T05:51:23.809025",
     "status": "completed"
    },
    "tags": []
   },
   "outputs": [],
   "source": [
    "#need to come up with a different way to do this, because it is not working\n",
    "def seperate_y(df):\n",
    "    y_df=df['contest-tmp2m-14d__tmp2m']\n",
    "    X_df=df.drop('contest-tmp2m-14d__tmp2m',axis=1)\n",
    "    return y_df,X_df"
   ]
  },
  {
   "cell_type": "code",
   "execution_count": 6,
   "id": "e6a08b6c",
   "metadata": {
    "execution": {
     "iopub.execute_input": "2023-02-21T05:51:23.843163Z",
     "iopub.status.busy": "2023-02-21T05:51:23.842296Z",
     "iopub.status.idle": "2023-02-21T05:51:23.848369Z",
     "shell.execute_reply": "2023-02-21T05:51:23.847318Z"
    },
    "papermill": {
     "duration": 0.017745,
     "end_time": "2023-02-21T05:51:23.851236",
     "exception": false,
     "start_time": "2023-02-21T05:51:23.833491",
     "status": "completed"
    },
    "tags": []
   },
   "outputs": [],
   "source": [
    "def normanlize_data(df,train_df):\n",
    "    for column in df.columns:\n",
    "        df[column] = df[column]  /  train_df[column].abs().max()\n",
    "    return df"
   ]
  },
  {
   "cell_type": "code",
   "execution_count": 7,
   "id": "5462ded1",
   "metadata": {
    "execution": {
     "iopub.execute_input": "2023-02-21T05:51:23.867980Z",
     "iopub.status.busy": "2023-02-21T05:51:23.867126Z",
     "iopub.status.idle": "2023-02-21T05:51:48.812025Z",
     "shell.execute_reply": "2023-02-21T05:51:48.810669Z"
    },
    "papermill": {
     "duration": 24.955985,
     "end_time": "2023-02-21T05:51:48.814523",
     "exception": false,
     "start_time": "2023-02-21T05:51:23.858538",
     "status": "completed"
    },
    "tags": []
   },
   "outputs": [
    {
     "data": {
      "text/html": [
       "<div>\n",
       "<style scoped>\n",
       "    .dataframe tbody tr th:only-of-type {\n",
       "        vertical-align: middle;\n",
       "    }\n",
       "\n",
       "    .dataframe tbody tr th {\n",
       "        vertical-align: top;\n",
       "    }\n",
       "\n",
       "    .dataframe thead th {\n",
       "        text-align: right;\n",
       "    }\n",
       "</style>\n",
       "<table border=\"1\" class=\"dataframe\">\n",
       "  <thead>\n",
       "    <tr style=\"text-align: right;\">\n",
       "      <th></th>\n",
       "      <th>index</th>\n",
       "      <th>lat</th>\n",
       "      <th>lon</th>\n",
       "      <th>startdate</th>\n",
       "      <th>contest-pevpr-sfc-gauss-14d__pevpr</th>\n",
       "      <th>nmme0-tmp2m-34w__cancm30</th>\n",
       "      <th>nmme0-tmp2m-34w__cancm40</th>\n",
       "      <th>nmme0-tmp2m-34w__ccsm30</th>\n",
       "      <th>nmme0-tmp2m-34w__ccsm40</th>\n",
       "      <th>nmme0-tmp2m-34w__cfsv20</th>\n",
       "      <th>...</th>\n",
       "      <th>wind-vwnd-925-2010-11</th>\n",
       "      <th>wind-vwnd-925-2010-12</th>\n",
       "      <th>wind-vwnd-925-2010-13</th>\n",
       "      <th>wind-vwnd-925-2010-14</th>\n",
       "      <th>wind-vwnd-925-2010-15</th>\n",
       "      <th>wind-vwnd-925-2010-16</th>\n",
       "      <th>wind-vwnd-925-2010-17</th>\n",
       "      <th>wind-vwnd-925-2010-18</th>\n",
       "      <th>wind-vwnd-925-2010-19</th>\n",
       "      <th>wind-vwnd-925-2010-20</th>\n",
       "    </tr>\n",
       "  </thead>\n",
       "  <tbody>\n",
       "    <tr>\n",
       "      <th>0</th>\n",
       "      <td>0</td>\n",
       "      <td>0.0</td>\n",
       "      <td>0.833333</td>\n",
       "      <td>9/1/14</td>\n",
       "      <td>237.00</td>\n",
       "      <td>29.02</td>\n",
       "      <td>31.64</td>\n",
       "      <td>29.57</td>\n",
       "      <td>30.73</td>\n",
       "      <td>29.71</td>\n",
       "      <td>...</td>\n",
       "      <td>-27.68</td>\n",
       "      <td>-37.21</td>\n",
       "      <td>8.32</td>\n",
       "      <td>9.56</td>\n",
       "      <td>-2.03</td>\n",
       "      <td>48.13</td>\n",
       "      <td>28.09</td>\n",
       "      <td>-13.50</td>\n",
       "      <td>11.90</td>\n",
       "      <td>4.58</td>\n",
       "    </tr>\n",
       "    <tr>\n",
       "      <th>1</th>\n",
       "      <td>1</td>\n",
       "      <td>0.0</td>\n",
       "      <td>0.833333</td>\n",
       "      <td>9/2/14</td>\n",
       "      <td>228.90</td>\n",
       "      <td>29.02</td>\n",
       "      <td>31.64</td>\n",
       "      <td>29.57</td>\n",
       "      <td>30.73</td>\n",
       "      <td>29.71</td>\n",
       "      <td>...</td>\n",
       "      <td>-21.13</td>\n",
       "      <td>-36.57</td>\n",
       "      <td>8.77</td>\n",
       "      <td>21.17</td>\n",
       "      <td>4.44</td>\n",
       "      <td>48.60</td>\n",
       "      <td>27.41</td>\n",
       "      <td>-23.77</td>\n",
       "      <td>15.44</td>\n",
       "      <td>3.42</td>\n",
       "    </tr>\n",
       "    <tr>\n",
       "      <th>2</th>\n",
       "      <td>2</td>\n",
       "      <td>0.0</td>\n",
       "      <td>0.833333</td>\n",
       "      <td>9/3/14</td>\n",
       "      <td>220.69</td>\n",
       "      <td>29.02</td>\n",
       "      <td>31.64</td>\n",
       "      <td>29.57</td>\n",
       "      <td>30.73</td>\n",
       "      <td>29.71</td>\n",
       "      <td>...</td>\n",
       "      <td>-10.72</td>\n",
       "      <td>-34.16</td>\n",
       "      <td>6.99</td>\n",
       "      <td>32.16</td>\n",
       "      <td>5.01</td>\n",
       "      <td>48.53</td>\n",
       "      <td>19.21</td>\n",
       "      <td>-33.16</td>\n",
       "      <td>15.11</td>\n",
       "      <td>4.82</td>\n",
       "    </tr>\n",
       "    <tr>\n",
       "      <th>3</th>\n",
       "      <td>3</td>\n",
       "      <td>0.0</td>\n",
       "      <td>0.833333</td>\n",
       "      <td>9/4/14</td>\n",
       "      <td>225.28</td>\n",
       "      <td>29.02</td>\n",
       "      <td>31.64</td>\n",
       "      <td>29.57</td>\n",
       "      <td>30.73</td>\n",
       "      <td>29.71</td>\n",
       "      <td>...</td>\n",
       "      <td>0.33</td>\n",
       "      <td>-31.04</td>\n",
       "      <td>6.17</td>\n",
       "      <td>39.66</td>\n",
       "      <td>-1.41</td>\n",
       "      <td>50.59</td>\n",
       "      <td>8.29</td>\n",
       "      <td>-37.22</td>\n",
       "      <td>18.24</td>\n",
       "      <td>9.74</td>\n",
       "    </tr>\n",
       "    <tr>\n",
       "      <th>4</th>\n",
       "      <td>4</td>\n",
       "      <td>0.0</td>\n",
       "      <td>0.833333</td>\n",
       "      <td>9/5/14</td>\n",
       "      <td>237.24</td>\n",
       "      <td>29.02</td>\n",
       "      <td>31.64</td>\n",
       "      <td>29.57</td>\n",
       "      <td>30.73</td>\n",
       "      <td>29.71</td>\n",
       "      <td>...</td>\n",
       "      <td>9.83</td>\n",
       "      <td>-31.80</td>\n",
       "      <td>7.47</td>\n",
       "      <td>38.62</td>\n",
       "      <td>-5.21</td>\n",
       "      <td>54.73</td>\n",
       "      <td>-2.58</td>\n",
       "      <td>-42.30</td>\n",
       "      <td>21.91</td>\n",
       "      <td>10.95</td>\n",
       "    </tr>\n",
       "    <tr>\n",
       "      <th>...</th>\n",
       "      <td>...</td>\n",
       "      <td>...</td>\n",
       "      <td>...</td>\n",
       "      <td>...</td>\n",
       "      <td>...</td>\n",
       "      <td>...</td>\n",
       "      <td>...</td>\n",
       "      <td>...</td>\n",
       "      <td>...</td>\n",
       "      <td>...</td>\n",
       "      <td>...</td>\n",
       "      <td>...</td>\n",
       "      <td>...</td>\n",
       "      <td>...</td>\n",
       "      <td>...</td>\n",
       "      <td>...</td>\n",
       "      <td>...</td>\n",
       "      <td>...</td>\n",
       "      <td>...</td>\n",
       "      <td>...</td>\n",
       "      <td>...</td>\n",
       "    </tr>\n",
       "    <tr>\n",
       "      <th>375729</th>\n",
       "      <td>375729</td>\n",
       "      <td>1.0</td>\n",
       "      <td>0.866667</td>\n",
       "      <td>8/27/16</td>\n",
       "      <td>312.05</td>\n",
       "      <td>23.13</td>\n",
       "      <td>27.20</td>\n",
       "      <td>20.25</td>\n",
       "      <td>24.43</td>\n",
       "      <td>18.35</td>\n",
       "      <td>...</td>\n",
       "      <td>-15.64</td>\n",
       "      <td>-75.68</td>\n",
       "      <td>-3.09</td>\n",
       "      <td>6.93</td>\n",
       "      <td>-16.69</td>\n",
       "      <td>16.98</td>\n",
       "      <td>-13.85</td>\n",
       "      <td>50.25</td>\n",
       "      <td>-31.33</td>\n",
       "      <td>0.77</td>\n",
       "    </tr>\n",
       "    <tr>\n",
       "      <th>375730</th>\n",
       "      <td>375730</td>\n",
       "      <td>1.0</td>\n",
       "      <td>0.866667</td>\n",
       "      <td>8/28/16</td>\n",
       "      <td>305.82</td>\n",
       "      <td>23.13</td>\n",
       "      <td>27.20</td>\n",
       "      <td>20.25</td>\n",
       "      <td>24.43</td>\n",
       "      <td>18.35</td>\n",
       "      <td>...</td>\n",
       "      <td>-7.59</td>\n",
       "      <td>-76.42</td>\n",
       "      <td>-13.55</td>\n",
       "      <td>13.36</td>\n",
       "      <td>-15.96</td>\n",
       "      <td>20.45</td>\n",
       "      <td>-16.36</td>\n",
       "      <td>51.65</td>\n",
       "      <td>-30.73</td>\n",
       "      <td>10.10</td>\n",
       "    </tr>\n",
       "    <tr>\n",
       "      <th>375731</th>\n",
       "      <td>375731</td>\n",
       "      <td>1.0</td>\n",
       "      <td>0.866667</td>\n",
       "      <td>8/29/16</td>\n",
       "      <td>311.62</td>\n",
       "      <td>23.13</td>\n",
       "      <td>27.20</td>\n",
       "      <td>20.25</td>\n",
       "      <td>24.43</td>\n",
       "      <td>18.35</td>\n",
       "      <td>...</td>\n",
       "      <td>-6.25</td>\n",
       "      <td>-70.65</td>\n",
       "      <td>-23.93</td>\n",
       "      <td>22.62</td>\n",
       "      <td>-16.71</td>\n",
       "      <td>20.28</td>\n",
       "      <td>-15.48</td>\n",
       "      <td>48.58</td>\n",
       "      <td>-18.74</td>\n",
       "      <td>9.28</td>\n",
       "    </tr>\n",
       "    <tr>\n",
       "      <th>375732</th>\n",
       "      <td>375732</td>\n",
       "      <td>1.0</td>\n",
       "      <td>0.866667</td>\n",
       "      <td>8/30/16</td>\n",
       "      <td>304.54</td>\n",
       "      <td>23.13</td>\n",
       "      <td>27.20</td>\n",
       "      <td>20.25</td>\n",
       "      <td>24.43</td>\n",
       "      <td>18.35</td>\n",
       "      <td>...</td>\n",
       "      <td>-7.16</td>\n",
       "      <td>-57.67</td>\n",
       "      <td>-33.55</td>\n",
       "      <td>32.06</td>\n",
       "      <td>-16.07</td>\n",
       "      <td>16.60</td>\n",
       "      <td>-20.61</td>\n",
       "      <td>39.23</td>\n",
       "      <td>-16.26</td>\n",
       "      <td>-0.22</td>\n",
       "    </tr>\n",
       "    <tr>\n",
       "      <th>375733</th>\n",
       "      <td>375733</td>\n",
       "      <td>1.0</td>\n",
       "      <td>0.866667</td>\n",
       "      <td>8/31/16</td>\n",
       "      <td>295.29</td>\n",
       "      <td>23.13</td>\n",
       "      <td>27.20</td>\n",
       "      <td>20.25</td>\n",
       "      <td>24.43</td>\n",
       "      <td>18.35</td>\n",
       "      <td>...</td>\n",
       "      <td>-12.36</td>\n",
       "      <td>-44.67</td>\n",
       "      <td>-32.46</td>\n",
       "      <td>36.25</td>\n",
       "      <td>-12.72</td>\n",
       "      <td>15.98</td>\n",
       "      <td>-22.56</td>\n",
       "      <td>32.53</td>\n",
       "      <td>-21.89</td>\n",
       "      <td>-1.20</td>\n",
       "    </tr>\n",
       "  </tbody>\n",
       "</table>\n",
       "<p>352604 rows × 246 columns</p>\n",
       "</div>"
      ],
      "text/plain": [
       "         index  lat       lon startdate  contest-pevpr-sfc-gauss-14d__pevpr  \\\n",
       "0            0  0.0  0.833333    9/1/14                              237.00   \n",
       "1            1  0.0  0.833333    9/2/14                              228.90   \n",
       "2            2  0.0  0.833333    9/3/14                              220.69   \n",
       "3            3  0.0  0.833333    9/4/14                              225.28   \n",
       "4            4  0.0  0.833333    9/5/14                              237.24   \n",
       "...        ...  ...       ...       ...                                 ...   \n",
       "375729  375729  1.0  0.866667   8/27/16                              312.05   \n",
       "375730  375730  1.0  0.866667   8/28/16                              305.82   \n",
       "375731  375731  1.0  0.866667   8/29/16                              311.62   \n",
       "375732  375732  1.0  0.866667   8/30/16                              304.54   \n",
       "375733  375733  1.0  0.866667   8/31/16                              295.29   \n",
       "\n",
       "        nmme0-tmp2m-34w__cancm30  nmme0-tmp2m-34w__cancm40  \\\n",
       "0                          29.02                     31.64   \n",
       "1                          29.02                     31.64   \n",
       "2                          29.02                     31.64   \n",
       "3                          29.02                     31.64   \n",
       "4                          29.02                     31.64   \n",
       "...                          ...                       ...   \n",
       "375729                     23.13                     27.20   \n",
       "375730                     23.13                     27.20   \n",
       "375731                     23.13                     27.20   \n",
       "375732                     23.13                     27.20   \n",
       "375733                     23.13                     27.20   \n",
       "\n",
       "        nmme0-tmp2m-34w__ccsm30  nmme0-tmp2m-34w__ccsm40  \\\n",
       "0                         29.57                    30.73   \n",
       "1                         29.57                    30.73   \n",
       "2                         29.57                    30.73   \n",
       "3                         29.57                    30.73   \n",
       "4                         29.57                    30.73   \n",
       "...                         ...                      ...   \n",
       "375729                    20.25                    24.43   \n",
       "375730                    20.25                    24.43   \n",
       "375731                    20.25                    24.43   \n",
       "375732                    20.25                    24.43   \n",
       "375733                    20.25                    24.43   \n",
       "\n",
       "        nmme0-tmp2m-34w__cfsv20  ...  wind-vwnd-925-2010-11  \\\n",
       "0                         29.71  ...                 -27.68   \n",
       "1                         29.71  ...                 -21.13   \n",
       "2                         29.71  ...                 -10.72   \n",
       "3                         29.71  ...                   0.33   \n",
       "4                         29.71  ...                   9.83   \n",
       "...                         ...  ...                    ...   \n",
       "375729                    18.35  ...                 -15.64   \n",
       "375730                    18.35  ...                  -7.59   \n",
       "375731                    18.35  ...                  -6.25   \n",
       "375732                    18.35  ...                  -7.16   \n",
       "375733                    18.35  ...                 -12.36   \n",
       "\n",
       "        wind-vwnd-925-2010-12  wind-vwnd-925-2010-13  wind-vwnd-925-2010-14  \\\n",
       "0                      -37.21                   8.32                   9.56   \n",
       "1                      -36.57                   8.77                  21.17   \n",
       "2                      -34.16                   6.99                  32.16   \n",
       "3                      -31.04                   6.17                  39.66   \n",
       "4                      -31.80                   7.47                  38.62   \n",
       "...                       ...                    ...                    ...   \n",
       "375729                 -75.68                  -3.09                   6.93   \n",
       "375730                 -76.42                 -13.55                  13.36   \n",
       "375731                 -70.65                 -23.93                  22.62   \n",
       "375732                 -57.67                 -33.55                  32.06   \n",
       "375733                 -44.67                 -32.46                  36.25   \n",
       "\n",
       "        wind-vwnd-925-2010-15  wind-vwnd-925-2010-16  wind-vwnd-925-2010-17  \\\n",
       "0                       -2.03                  48.13                  28.09   \n",
       "1                        4.44                  48.60                  27.41   \n",
       "2                        5.01                  48.53                  19.21   \n",
       "3                       -1.41                  50.59                   8.29   \n",
       "4                       -5.21                  54.73                  -2.58   \n",
       "...                       ...                    ...                    ...   \n",
       "375729                 -16.69                  16.98                 -13.85   \n",
       "375730                 -15.96                  20.45                 -16.36   \n",
       "375731                 -16.71                  20.28                 -15.48   \n",
       "375732                 -16.07                  16.60                 -20.61   \n",
       "375733                 -12.72                  15.98                 -22.56   \n",
       "\n",
       "        wind-vwnd-925-2010-18  wind-vwnd-925-2010-19  wind-vwnd-925-2010-20  \n",
       "0                      -13.50                  11.90                   4.58  \n",
       "1                      -23.77                  15.44                   3.42  \n",
       "2                      -33.16                  15.11                   4.82  \n",
       "3                      -37.22                  18.24                   9.74  \n",
       "4                      -42.30                  21.91                  10.95  \n",
       "...                       ...                    ...                    ...  \n",
       "375729                  50.25                 -31.33                   0.77  \n",
       "375730                  51.65                 -30.73                  10.10  \n",
       "375731                  48.58                 -18.74                   9.28  \n",
       "375732                  39.23                 -16.26                  -0.22  \n",
       "375733                  32.53                 -21.89                  -1.20  \n",
       "\n",
       "[352604 rows x 246 columns]"
      ]
     },
     "execution_count": 7,
     "metadata": {},
     "output_type": "execute_result"
    }
   ],
   "source": [
    "train_df=pd.read_csv('/kaggle/input/widsdatathon2023/train_data.csv')\n",
    "train_df=train_df.dropna(axis=0)\n",
    "test_df=pd.read_csv('/kaggle/input/widsdatathon2023/test_data.csv')\n",
    "test_df=test_df.dropna(axis=0)\n",
    "train_df"
   ]
  },
  {
   "cell_type": "code",
   "execution_count": 8,
   "id": "14becd2f",
   "metadata": {
    "execution": {
     "iopub.execute_input": "2023-02-21T05:51:48.833013Z",
     "iopub.status.busy": "2023-02-21T05:51:48.831730Z",
     "iopub.status.idle": "2023-02-21T05:51:49.636026Z",
     "shell.execute_reply": "2023-02-21T05:51:49.634885Z"
    },
    "papermill": {
     "duration": 0.816406,
     "end_time": "2023-02-21T05:51:49.638765",
     "exception": false,
     "start_time": "2023-02-21T05:51:48.822359",
     "status": "completed"
    },
    "tags": []
   },
   "outputs": [],
   "source": [
    "#Shuffeling the data\n",
    "train_df = train_df.sample(frac = 1)"
   ]
  },
  {
   "cell_type": "code",
   "execution_count": 9,
   "id": "e5b5d192",
   "metadata": {
    "execution": {
     "iopub.execute_input": "2023-02-21T05:51:49.655837Z",
     "iopub.status.busy": "2023-02-21T05:51:49.655367Z",
     "iopub.status.idle": "2023-02-21T05:51:49.772599Z",
     "shell.execute_reply": "2023-02-21T05:51:49.771525Z"
    },
    "papermill": {
     "duration": 0.128975,
     "end_time": "2023-02-21T05:51:49.775261",
     "exception": false,
     "start_time": "2023-02-21T05:51:49.646286",
     "status": "completed"
    },
    "tags": []
   },
   "outputs": [],
   "source": [
    "le = preprocessing.LabelEncoder()\n",
    "\n",
    "# Converting string labels into numbers.\n",
    "train_df['climateregions__climateregion']=le.fit_transform(train_df['climateregions__climateregion'])\n",
    "test_df['climateregions__climateregion']=le.fit_transform(test_df['climateregions__climateregion'])"
   ]
  },
  {
   "cell_type": "code",
   "execution_count": 10,
   "id": "42b07b65",
   "metadata": {
    "execution": {
     "iopub.execute_input": "2023-02-21T05:51:49.792706Z",
     "iopub.status.busy": "2023-02-21T05:51:49.791979Z",
     "iopub.status.idle": "2023-02-21T05:52:24.249165Z",
     "shell.execute_reply": "2023-02-21T05:52:24.247849Z"
    },
    "papermill": {
     "duration": 34.469188,
     "end_time": "2023-02-21T05:52:24.252060",
     "exception": false,
     "start_time": "2023-02-21T05:51:49.782872",
     "status": "completed"
    },
    "tags": []
   },
   "outputs": [
    {
     "name": "stdout",
     "output_type": "stream",
     "text": [
      "training set\n",
      "lat\n",
      "lon\n",
      "contest-tmp2m-14d__tmp2m\n",
      "climateregions__climateregion\n",
      "month\n",
      "test set\n",
      "lat\n",
      "lon\n",
      "climateregions__climateregion\n",
      "month\n"
     ]
    }
   ],
   "source": [
    "print('training set')\n",
    "train_df=seperate_monthly(train_df)\n",
    "train_df=eliminate_columns(train_df)\n",
    "print('test set')\n",
    "test_df=seperate_monthly(test_df)\n",
    "test_df=eliminate_columns(test_df)"
   ]
  },
  {
   "cell_type": "code",
   "execution_count": 11,
   "id": "b05d1011",
   "metadata": {
    "execution": {
     "iopub.execute_input": "2023-02-21T05:52:24.271072Z",
     "iopub.status.busy": "2023-02-21T05:52:24.269803Z",
     "iopub.status.idle": "2023-02-21T05:52:24.285918Z",
     "shell.execute_reply": "2023-02-21T05:52:24.284609Z"
    },
    "papermill": {
     "duration": 0.028227,
     "end_time": "2023-02-21T05:52:24.288631",
     "exception": false,
     "start_time": "2023-02-21T05:52:24.260404",
     "status": "completed"
    },
    "tags": []
   },
   "outputs": [
    {
     "data": {
      "text/html": [
       "<div>\n",
       "<style scoped>\n",
       "    .dataframe tbody tr th:only-of-type {\n",
       "        vertical-align: middle;\n",
       "    }\n",
       "\n",
       "    .dataframe tbody tr th {\n",
       "        vertical-align: top;\n",
       "    }\n",
       "\n",
       "    .dataframe thead th {\n",
       "        text-align: right;\n",
       "    }\n",
       "</style>\n",
       "<table border=\"1\" class=\"dataframe\">\n",
       "  <thead>\n",
       "    <tr style=\"text-align: right;\">\n",
       "      <th></th>\n",
       "      <th>lat</th>\n",
       "      <th>lon</th>\n",
       "      <th>contest-tmp2m-14d__tmp2m</th>\n",
       "      <th>climateregions__climateregion</th>\n",
       "      <th>month</th>\n",
       "    </tr>\n",
       "  </thead>\n",
       "  <tbody>\n",
       "    <tr>\n",
       "      <th>139522</th>\n",
       "      <td>0.500000</td>\n",
       "      <td>0.400000</td>\n",
       "      <td>13.670195</td>\n",
       "      <td>9</td>\n",
       "      <td>5</td>\n",
       "    </tr>\n",
       "    <tr>\n",
       "      <th>276657</th>\n",
       "      <td>0.772727</td>\n",
       "      <td>0.900000</td>\n",
       "      <td>21.962715</td>\n",
       "      <td>8</td>\n",
       "      <td>8</td>\n",
       "    </tr>\n",
       "    <tr>\n",
       "      <th>224174</th>\n",
       "      <td>0.681818</td>\n",
       "      <td>0.366667</td>\n",
       "      <td>-3.850990</td>\n",
       "      <td>9</td>\n",
       "      <td>1</td>\n",
       "    </tr>\n",
       "    <tr>\n",
       "      <th>249296</th>\n",
       "      <td>0.727273</td>\n",
       "      <td>0.600000</td>\n",
       "      <td>11.671896</td>\n",
       "      <td>1</td>\n",
       "      <td>9</td>\n",
       "    </tr>\n",
       "    <tr>\n",
       "      <th>181759</th>\n",
       "      <td>0.590909</td>\n",
       "      <td>0.366667</td>\n",
       "      <td>-3.398897</td>\n",
       "      <td>1</td>\n",
       "      <td>12</td>\n",
       "    </tr>\n",
       "    <tr>\n",
       "      <th>...</th>\n",
       "      <td>...</td>\n",
       "      <td>...</td>\n",
       "      <td>...</td>\n",
       "      <td>...</td>\n",
       "      <td>...</td>\n",
       "    </tr>\n",
       "    <tr>\n",
       "      <th>304597</th>\n",
       "      <td>0.863636</td>\n",
       "      <td>0.333333</td>\n",
       "      <td>-1.765659</td>\n",
       "      <td>9</td>\n",
       "      <td>1</td>\n",
       "    </tr>\n",
       "    <tr>\n",
       "      <th>347177</th>\n",
       "      <td>0.954545</td>\n",
       "      <td>0.400000</td>\n",
       "      <td>19.261928</td>\n",
       "      <td>1</td>\n",
       "      <td>7</td>\n",
       "    </tr>\n",
       "    <tr>\n",
       "      <th>326739</th>\n",
       "      <td>0.909091</td>\n",
       "      <td>0.400000</td>\n",
       "      <td>17.471215</td>\n",
       "      <td>1</td>\n",
       "      <td>8</td>\n",
       "    </tr>\n",
       "    <tr>\n",
       "      <th>171878</th>\n",
       "      <td>0.545455</td>\n",
       "      <td>0.933333</td>\n",
       "      <td>4.605004</td>\n",
       "      <td>4</td>\n",
       "      <td>12</td>\n",
       "    </tr>\n",
       "    <tr>\n",
       "      <th>33892</th>\n",
       "      <td>0.227273</td>\n",
       "      <td>0.800000</td>\n",
       "      <td>23.666520</td>\n",
       "      <td>4</td>\n",
       "      <td>5</td>\n",
       "    </tr>\n",
       "  </tbody>\n",
       "</table>\n",
       "<p>352604 rows × 5 columns</p>\n",
       "</div>"
      ],
      "text/plain": [
       "             lat       lon  contest-tmp2m-14d__tmp2m  \\\n",
       "139522  0.500000  0.400000                 13.670195   \n",
       "276657  0.772727  0.900000                 21.962715   \n",
       "224174  0.681818  0.366667                 -3.850990   \n",
       "249296  0.727273  0.600000                 11.671896   \n",
       "181759  0.590909  0.366667                 -3.398897   \n",
       "...          ...       ...                       ...   \n",
       "304597  0.863636  0.333333                 -1.765659   \n",
       "347177  0.954545  0.400000                 19.261928   \n",
       "326739  0.909091  0.400000                 17.471215   \n",
       "171878  0.545455  0.933333                  4.605004   \n",
       "33892   0.227273  0.800000                 23.666520   \n",
       "\n",
       "        climateregions__climateregion month  \n",
       "139522                              9     5  \n",
       "276657                              8     8  \n",
       "224174                              9     1  \n",
       "249296                              1     9  \n",
       "181759                              1    12  \n",
       "...                               ...   ...  \n",
       "304597                              9     1  \n",
       "347177                              1     7  \n",
       "326739                              1     8  \n",
       "171878                              4    12  \n",
       "33892                               4     5  \n",
       "\n",
       "[352604 rows x 5 columns]"
      ]
     },
     "execution_count": 11,
     "metadata": {},
     "output_type": "execute_result"
    }
   ],
   "source": [
    "train_df"
   ]
  },
  {
   "cell_type": "code",
   "execution_count": 12,
   "id": "31791e43",
   "metadata": {
    "execution": {
     "iopub.execute_input": "2023-02-21T05:52:24.307785Z",
     "iopub.status.busy": "2023-02-21T05:52:24.307352Z",
     "iopub.status.idle": "2023-02-21T05:52:24.324535Z",
     "shell.execute_reply": "2023-02-21T05:52:24.323292Z"
    },
    "papermill": {
     "duration": 0.029666,
     "end_time": "2023-02-21T05:52:24.327237",
     "exception": false,
     "start_time": "2023-02-21T05:52:24.297571",
     "status": "completed"
    },
    "tags": []
   },
   "outputs": [
    {
     "data": {
      "text/html": [
       "<div>\n",
       "<style scoped>\n",
       "    .dataframe tbody tr th:only-of-type {\n",
       "        vertical-align: middle;\n",
       "    }\n",
       "\n",
       "    .dataframe tbody tr th {\n",
       "        vertical-align: top;\n",
       "    }\n",
       "\n",
       "    .dataframe thead th {\n",
       "        text-align: right;\n",
       "    }\n",
       "</style>\n",
       "<table border=\"1\" class=\"dataframe\">\n",
       "  <thead>\n",
       "    <tr style=\"text-align: right;\">\n",
       "      <th></th>\n",
       "      <th>lat</th>\n",
       "      <th>lon</th>\n",
       "      <th>climateregions__climateregion</th>\n",
       "      <th>month</th>\n",
       "    </tr>\n",
       "  </thead>\n",
       "  <tbody>\n",
       "    <tr>\n",
       "      <th>0</th>\n",
       "      <td>0.0</td>\n",
       "      <td>0.833333</td>\n",
       "      <td>0</td>\n",
       "      <td>11</td>\n",
       "    </tr>\n",
       "    <tr>\n",
       "      <th>1</th>\n",
       "      <td>0.0</td>\n",
       "      <td>0.833333</td>\n",
       "      <td>0</td>\n",
       "      <td>11</td>\n",
       "    </tr>\n",
       "    <tr>\n",
       "      <th>2</th>\n",
       "      <td>0.0</td>\n",
       "      <td>0.833333</td>\n",
       "      <td>0</td>\n",
       "      <td>11</td>\n",
       "    </tr>\n",
       "    <tr>\n",
       "      <th>3</th>\n",
       "      <td>0.0</td>\n",
       "      <td>0.833333</td>\n",
       "      <td>0</td>\n",
       "      <td>11</td>\n",
       "    </tr>\n",
       "    <tr>\n",
       "      <th>4</th>\n",
       "      <td>0.0</td>\n",
       "      <td>0.833333</td>\n",
       "      <td>0</td>\n",
       "      <td>11</td>\n",
       "    </tr>\n",
       "    <tr>\n",
       "      <th>...</th>\n",
       "      <td>...</td>\n",
       "      <td>...</td>\n",
       "      <td>...</td>\n",
       "      <td>...</td>\n",
       "    </tr>\n",
       "    <tr>\n",
       "      <th>31349</th>\n",
       "      <td>1.0</td>\n",
       "      <td>0.866667</td>\n",
       "      <td>9</td>\n",
       "      <td>12</td>\n",
       "    </tr>\n",
       "    <tr>\n",
       "      <th>31350</th>\n",
       "      <td>1.0</td>\n",
       "      <td>0.866667</td>\n",
       "      <td>9</td>\n",
       "      <td>12</td>\n",
       "    </tr>\n",
       "    <tr>\n",
       "      <th>31351</th>\n",
       "      <td>1.0</td>\n",
       "      <td>0.866667</td>\n",
       "      <td>9</td>\n",
       "      <td>12</td>\n",
       "    </tr>\n",
       "    <tr>\n",
       "      <th>31352</th>\n",
       "      <td>1.0</td>\n",
       "      <td>0.866667</td>\n",
       "      <td>9</td>\n",
       "      <td>12</td>\n",
       "    </tr>\n",
       "    <tr>\n",
       "      <th>31353</th>\n",
       "      <td>1.0</td>\n",
       "      <td>0.866667</td>\n",
       "      <td>9</td>\n",
       "      <td>12</td>\n",
       "    </tr>\n",
       "  </tbody>\n",
       "</table>\n",
       "<p>31354 rows × 4 columns</p>\n",
       "</div>"
      ],
      "text/plain": [
       "       lat       lon  climateregions__climateregion month\n",
       "0      0.0  0.833333                              0    11\n",
       "1      0.0  0.833333                              0    11\n",
       "2      0.0  0.833333                              0    11\n",
       "3      0.0  0.833333                              0    11\n",
       "4      0.0  0.833333                              0    11\n",
       "...    ...       ...                            ...   ...\n",
       "31349  1.0  0.866667                              9    12\n",
       "31350  1.0  0.866667                              9    12\n",
       "31351  1.0  0.866667                              9    12\n",
       "31352  1.0  0.866667                              9    12\n",
       "31353  1.0  0.866667                              9    12\n",
       "\n",
       "[31354 rows x 4 columns]"
      ]
     },
     "execution_count": 12,
     "metadata": {},
     "output_type": "execute_result"
    }
   ],
   "source": [
    "test_df"
   ]
  },
  {
   "cell_type": "code",
   "execution_count": 13,
   "id": "86c14298",
   "metadata": {
    "execution": {
     "iopub.execute_input": "2023-02-21T05:52:24.346006Z",
     "iopub.status.busy": "2023-02-21T05:52:24.345529Z",
     "iopub.status.idle": "2023-02-21T05:52:24.397098Z",
     "shell.execute_reply": "2023-02-21T05:52:24.395815Z"
    },
    "papermill": {
     "duration": 0.064039,
     "end_time": "2023-02-21T05:52:24.399778",
     "exception": false,
     "start_time": "2023-02-21T05:52:24.335739",
     "status": "completed"
    },
    "tags": []
   },
   "outputs": [],
   "source": [
    "train_df=train_df.astype('float')\n",
    "test_df=test_df.astype('float')"
   ]
  },
  {
   "cell_type": "code",
   "execution_count": 14,
   "id": "87b182c5",
   "metadata": {
    "execution": {
     "iopub.execute_input": "2023-02-21T05:52:24.419495Z",
     "iopub.status.busy": "2023-02-21T05:52:24.419059Z",
     "iopub.status.idle": "2023-02-21T05:52:24.439609Z",
     "shell.execute_reply": "2023-02-21T05:52:24.438345Z"
    },
    "papermill": {
     "duration": 0.033824,
     "end_time": "2023-02-21T05:52:24.442313",
     "exception": false,
     "start_time": "2023-02-21T05:52:24.408489",
     "status": "completed"
    },
    "tags": []
   },
   "outputs": [
    {
     "data": {
      "text/plain": [
       "pandas.core.frame.DataFrame"
      ]
     },
     "execution_count": 14,
     "metadata": {},
     "output_type": "execute_result"
    }
   ],
   "source": [
    "y_train_df=train_df['contest-tmp2m-14d__tmp2m']\n",
    "X_train_df=train_df.drop('contest-tmp2m-14d__tmp2m', axis=1)\n",
    "type(y_train_df)\n",
    "y_train_df=y_train_df.to_frame()\n",
    "type(y_train_df)"
   ]
  },
  {
   "cell_type": "code",
   "execution_count": 15,
   "id": "572e2504",
   "metadata": {
    "execution": {
     "iopub.execute_input": "2023-02-21T05:52:24.461462Z",
     "iopub.status.busy": "2023-02-21T05:52:24.461038Z",
     "iopub.status.idle": "2023-02-21T05:52:24.489609Z",
     "shell.execute_reply": "2023-02-21T05:52:24.488217Z"
    },
    "papermill": {
     "duration": 0.04168,
     "end_time": "2023-02-21T05:52:24.492661",
     "exception": false,
     "start_time": "2023-02-21T05:52:24.450981",
     "status": "completed"
    },
    "tags": []
   },
   "outputs": [],
   "source": [
    "X_train_df=normanlize_data(X_train_df,train_df)\n",
    "test_df=normanlize_data(test_df,train_df)"
   ]
  },
  {
   "cell_type": "code",
   "execution_count": 16,
   "id": "8b9f99c3",
   "metadata": {
    "execution": {
     "iopub.execute_input": "2023-02-21T05:52:24.512084Z",
     "iopub.status.busy": "2023-02-21T05:52:24.511624Z",
     "iopub.status.idle": "2023-02-21T05:52:24.529896Z",
     "shell.execute_reply": "2023-02-21T05:52:24.528240Z"
    },
    "papermill": {
     "duration": 0.033132,
     "end_time": "2023-02-21T05:52:24.534426",
     "exception": false,
     "start_time": "2023-02-21T05:52:24.501294",
     "status": "completed"
    },
    "tags": []
   },
   "outputs": [
    {
     "data": {
      "text/html": [
       "<div>\n",
       "<style scoped>\n",
       "    .dataframe tbody tr th:only-of-type {\n",
       "        vertical-align: middle;\n",
       "    }\n",
       "\n",
       "    .dataframe tbody tr th {\n",
       "        vertical-align: top;\n",
       "    }\n",
       "\n",
       "    .dataframe thead th {\n",
       "        text-align: right;\n",
       "    }\n",
       "</style>\n",
       "<table border=\"1\" class=\"dataframe\">\n",
       "  <thead>\n",
       "    <tr style=\"text-align: right;\">\n",
       "      <th></th>\n",
       "      <th>lat</th>\n",
       "      <th>lon</th>\n",
       "      <th>climateregions__climateregion</th>\n",
       "      <th>month</th>\n",
       "    </tr>\n",
       "  </thead>\n",
       "  <tbody>\n",
       "    <tr>\n",
       "      <th>0</th>\n",
       "      <td>0.0</td>\n",
       "      <td>0.833333</td>\n",
       "      <td>0.000000</td>\n",
       "      <td>0.916667</td>\n",
       "    </tr>\n",
       "    <tr>\n",
       "      <th>1</th>\n",
       "      <td>0.0</td>\n",
       "      <td>0.833333</td>\n",
       "      <td>0.000000</td>\n",
       "      <td>0.916667</td>\n",
       "    </tr>\n",
       "    <tr>\n",
       "      <th>2</th>\n",
       "      <td>0.0</td>\n",
       "      <td>0.833333</td>\n",
       "      <td>0.000000</td>\n",
       "      <td>0.916667</td>\n",
       "    </tr>\n",
       "    <tr>\n",
       "      <th>3</th>\n",
       "      <td>0.0</td>\n",
       "      <td>0.833333</td>\n",
       "      <td>0.000000</td>\n",
       "      <td>0.916667</td>\n",
       "    </tr>\n",
       "    <tr>\n",
       "      <th>4</th>\n",
       "      <td>0.0</td>\n",
       "      <td>0.833333</td>\n",
       "      <td>0.000000</td>\n",
       "      <td>0.916667</td>\n",
       "    </tr>\n",
       "    <tr>\n",
       "      <th>...</th>\n",
       "      <td>...</td>\n",
       "      <td>...</td>\n",
       "      <td>...</td>\n",
       "      <td>...</td>\n",
       "    </tr>\n",
       "    <tr>\n",
       "      <th>31349</th>\n",
       "      <td>1.0</td>\n",
       "      <td>0.866667</td>\n",
       "      <td>0.642857</td>\n",
       "      <td>1.000000</td>\n",
       "    </tr>\n",
       "    <tr>\n",
       "      <th>31350</th>\n",
       "      <td>1.0</td>\n",
       "      <td>0.866667</td>\n",
       "      <td>0.642857</td>\n",
       "      <td>1.000000</td>\n",
       "    </tr>\n",
       "    <tr>\n",
       "      <th>31351</th>\n",
       "      <td>1.0</td>\n",
       "      <td>0.866667</td>\n",
       "      <td>0.642857</td>\n",
       "      <td>1.000000</td>\n",
       "    </tr>\n",
       "    <tr>\n",
       "      <th>31352</th>\n",
       "      <td>1.0</td>\n",
       "      <td>0.866667</td>\n",
       "      <td>0.642857</td>\n",
       "      <td>1.000000</td>\n",
       "    </tr>\n",
       "    <tr>\n",
       "      <th>31353</th>\n",
       "      <td>1.0</td>\n",
       "      <td>0.866667</td>\n",
       "      <td>0.642857</td>\n",
       "      <td>1.000000</td>\n",
       "    </tr>\n",
       "  </tbody>\n",
       "</table>\n",
       "<p>31354 rows × 4 columns</p>\n",
       "</div>"
      ],
      "text/plain": [
       "       lat       lon  climateregions__climateregion     month\n",
       "0      0.0  0.833333                       0.000000  0.916667\n",
       "1      0.0  0.833333                       0.000000  0.916667\n",
       "2      0.0  0.833333                       0.000000  0.916667\n",
       "3      0.0  0.833333                       0.000000  0.916667\n",
       "4      0.0  0.833333                       0.000000  0.916667\n",
       "...    ...       ...                            ...       ...\n",
       "31349  1.0  0.866667                       0.642857  1.000000\n",
       "31350  1.0  0.866667                       0.642857  1.000000\n",
       "31351  1.0  0.866667                       0.642857  1.000000\n",
       "31352  1.0  0.866667                       0.642857  1.000000\n",
       "31353  1.0  0.866667                       0.642857  1.000000\n",
       "\n",
       "[31354 rows x 4 columns]"
      ]
     },
     "execution_count": 16,
     "metadata": {},
     "output_type": "execute_result"
    }
   ],
   "source": [
    "test_df"
   ]
  },
  {
   "cell_type": "markdown",
   "id": "9203b823",
   "metadata": {
    "papermill": {
     "duration": 0.009117,
     "end_time": "2023-02-21T05:52:24.553645",
     "exception": false,
     "start_time": "2023-02-21T05:52:24.544528",
     "status": "completed"
    },
    "tags": []
   },
   "source": [
    "# Model"
   ]
  },
  {
   "cell_type": "code",
   "execution_count": 17,
   "id": "4ba59dd8",
   "metadata": {
    "execution": {
     "iopub.execute_input": "2023-02-21T05:52:24.573440Z",
     "iopub.status.busy": "2023-02-21T05:52:24.573012Z",
     "iopub.status.idle": "2023-02-21T05:52:24.766727Z",
     "shell.execute_reply": "2023-02-21T05:52:24.765783Z"
    },
    "papermill": {
     "duration": 0.211554,
     "end_time": "2023-02-21T05:52:24.774034",
     "exception": false,
     "start_time": "2023-02-21T05:52:24.562480",
     "status": "completed"
    },
    "tags": []
   },
   "outputs": [
    {
     "name": "stdout",
     "output_type": "stream",
     "text": [
      "Model: \"sequential\"\n",
      "_________________________________________________________________\n",
      " Layer (type)                Output Shape              Param #   \n",
      "=================================================================\n",
      " dense (Dense)               (None, 128)               640       \n",
      "                                                                 \n",
      " dense_1 (Dense)             (None, 256)               33024     \n",
      "                                                                 \n",
      " dense_2 (Dense)             (None, 256)               65792     \n",
      "                                                                 \n",
      " dense_3 (Dense)             (None, 256)               65792     \n",
      "                                                                 \n",
      " dense_4 (Dense)             (None, 1)                 257       \n",
      "                                                                 \n",
      "=================================================================\n",
      "Total params: 165,505\n",
      "Trainable params: 165,505\n",
      "Non-trainable params: 0\n",
      "_________________________________________________________________\n"
     ]
    },
    {
     "name": "stderr",
     "output_type": "stream",
     "text": [
      "2023-02-21 05:52:24.606174: W tensorflow/stream_executor/platform/default/dso_loader.cc:64] Could not load dynamic library 'libcuda.so.1'; dlerror: libcuda.so.1: cannot open shared object file: No such file or directory; LD_LIBRARY_PATH: /usr/local/cuda/lib64:/usr/local/cuda/lib:/usr/local/lib/x86_64-linux-gnu:/usr/local/nvidia/lib:/usr/local/nvidia/lib64::/opt/conda/lib\n",
      "2023-02-21 05:52:24.606265: W tensorflow/stream_executor/cuda/cuda_driver.cc:269] failed call to cuInit: UNKNOWN ERROR (303)\n"
     ]
    }
   ],
   "source": [
    "NN_model = Sequential()\n",
    "\n",
    "#I might need to change the input_dim to give the actual dimentions\n",
    "#Instead of being just 1\n",
    "# The Input Layer :\n",
    "NN_model.add(Dense(128, kernel_initializer='normal',input_dim = 4, activation='relu'))\n",
    "\n",
    "# The Hidden Layers :\n",
    "NN_model.add(Dense(256, kernel_initializer='normal',activation='relu'))\n",
    "NN_model.add(Dense(256, kernel_initializer='normal',activation='relu'))\n",
    "NN_model.add(Dense(256, kernel_initializer='normal',activation='relu'))\n",
    "\n",
    "# The Output Layer :\n",
    "NN_model.add(Dense(1, kernel_initializer='normal',activation='linear'))\n",
    "\n",
    "# Compile the network :\n",
    "NN_model.compile(loss='mean_absolute_error', optimizer='adam', metrics=['mean_absolute_error'])\n",
    "NN_model.summary()\n"
   ]
  },
  {
   "cell_type": "code",
   "execution_count": 18,
   "id": "16440549",
   "metadata": {
    "execution": {
     "iopub.execute_input": "2023-02-21T05:52:24.795932Z",
     "iopub.status.busy": "2023-02-21T05:52:24.795505Z",
     "iopub.status.idle": "2023-02-21T05:52:24.801270Z",
     "shell.execute_reply": "2023-02-21T05:52:24.799656Z"
    },
    "papermill": {
     "duration": 0.019937,
     "end_time": "2023-02-21T05:52:24.803899",
     "exception": false,
     "start_time": "2023-02-21T05:52:24.783962",
     "status": "completed"
    },
    "tags": []
   },
   "outputs": [],
   "source": [
    "checkpoint_name = 'Weights--.hdf5' \n",
    "checkpoint = ModelCheckpoint(checkpoint_name, monitor='val_loss', verbose = 1, save_best_only = True, mode ='auto')\n",
    "callbacks_list = [checkpoint]"
   ]
  },
  {
   "cell_type": "code",
   "execution_count": 19,
   "id": "785573cd",
   "metadata": {
    "execution": {
     "iopub.execute_input": "2023-02-21T05:52:24.826744Z",
     "iopub.status.busy": "2023-02-21T05:52:24.826222Z",
     "iopub.status.idle": "2023-02-21T06:04:10.993501Z",
     "shell.execute_reply": "2023-02-21T06:04:10.992246Z"
    },
    "papermill": {
     "duration": 707.025783,
     "end_time": "2023-02-21T06:04:11.840327",
     "exception": false,
     "start_time": "2023-02-21T05:52:24.814544",
     "status": "completed"
    },
    "tags": []
   },
   "outputs": [
    {
     "name": "stdout",
     "output_type": "stream",
     "text": [
      "Epoch 1/20\n",
      "8808/8816 [============================>.] - ETA: 0s - loss: 2.6198 - mean_absolute_error: 2.6198\n",
      "Epoch 1: val_loss improved from inf to 2.25651, saving model to Weights--.hdf5\n",
      "8816/8816 [==============================] - 36s 4ms/step - loss: 2.6197 - mean_absolute_error: 2.6197 - val_loss: 2.2565 - val_mean_absolute_error: 2.2565\n",
      "Epoch 2/20\n",
      "8807/8816 [============================>.] - ETA: 0s - loss: 2.2656 - mean_absolute_error: 2.2656\n",
      "Epoch 2: val_loss improved from 2.25651 to 2.15098, saving model to Weights--.hdf5\n",
      "8816/8816 [==============================] - 36s 4ms/step - loss: 2.2656 - mean_absolute_error: 2.2656 - val_loss: 2.1510 - val_mean_absolute_error: 2.1510\n",
      "Epoch 3/20\n",
      "8808/8816 [============================>.] - ETA: 0s - loss: 2.1701 - mean_absolute_error: 2.1701\n",
      "Epoch 3: val_loss improved from 2.15098 to 2.14915, saving model to Weights--.hdf5\n",
      "8816/8816 [==============================] - 35s 4ms/step - loss: 2.1701 - mean_absolute_error: 2.1701 - val_loss: 2.1492 - val_mean_absolute_error: 2.1492\n",
      "Epoch 4/20\n",
      "8807/8816 [============================>.] - ETA: 0s - loss: 2.1095 - mean_absolute_error: 2.1095\n",
      "Epoch 4: val_loss improved from 2.14915 to 2.11314, saving model to Weights--.hdf5\n",
      "8816/8816 [==============================] - 35s 4ms/step - loss: 2.1097 - mean_absolute_error: 2.1097 - val_loss: 2.1131 - val_mean_absolute_error: 2.1131\n",
      "Epoch 5/20\n",
      "8804/8816 [============================>.] - ETA: 0s - loss: 2.0710 - mean_absolute_error: 2.0710\n",
      "Epoch 5: val_loss improved from 2.11314 to 2.09483, saving model to Weights--.hdf5\n",
      "8816/8816 [==============================] - 36s 4ms/step - loss: 2.0712 - mean_absolute_error: 2.0712 - val_loss: 2.0948 - val_mean_absolute_error: 2.0948\n",
      "Epoch 6/20\n",
      "8811/8816 [============================>.] - ETA: 0s - loss: 2.0361 - mean_absolute_error: 2.0361\n",
      "Epoch 6: val_loss improved from 2.09483 to 2.03832, saving model to Weights--.hdf5\n",
      "8816/8816 [==============================] - 35s 4ms/step - loss: 2.0362 - mean_absolute_error: 2.0362 - val_loss: 2.0383 - val_mean_absolute_error: 2.0383\n",
      "Epoch 7/20\n",
      "8815/8816 [============================>.] - ETA: 0s - loss: 2.0164 - mean_absolute_error: 2.0164\n",
      "Epoch 7: val_loss improved from 2.03832 to 1.98125, saving model to Weights--.hdf5\n",
      "8816/8816 [==============================] - 36s 4ms/step - loss: 2.0163 - mean_absolute_error: 2.0163 - val_loss: 1.9812 - val_mean_absolute_error: 1.9812\n",
      "Epoch 8/20\n",
      "8805/8816 [============================>.] - ETA: 0s - loss: 1.9998 - mean_absolute_error: 1.9998\n",
      "Epoch 8: val_loss did not improve from 1.98125\n",
      "8816/8816 [==============================] - 36s 4ms/step - loss: 1.9999 - mean_absolute_error: 1.9999 - val_loss: 1.9817 - val_mean_absolute_error: 1.9817\n",
      "Epoch 9/20\n",
      "8806/8816 [============================>.] - ETA: 0s - loss: 1.9849 - mean_absolute_error: 1.9849\n",
      "Epoch 9: val_loss improved from 1.98125 to 1.95576, saving model to Weights--.hdf5\n",
      "8816/8816 [==============================] - 35s 4ms/step - loss: 1.9848 - mean_absolute_error: 1.9848 - val_loss: 1.9558 - val_mean_absolute_error: 1.9558\n",
      "Epoch 10/20\n",
      "8802/8816 [============================>.] - ETA: 0s - loss: 1.9736 - mean_absolute_error: 1.9736\n",
      "Epoch 10: val_loss did not improve from 1.95576\n",
      "8816/8816 [==============================] - 36s 4ms/step - loss: 1.9736 - mean_absolute_error: 1.9736 - val_loss: 1.9744 - val_mean_absolute_error: 1.9744\n",
      "Epoch 11/20\n",
      "8808/8816 [============================>.] - ETA: 0s - loss: 1.9660 - mean_absolute_error: 1.9660\n",
      "Epoch 11: val_loss did not improve from 1.95576\n",
      "8816/8816 [==============================] - 34s 4ms/step - loss: 1.9661 - mean_absolute_error: 1.9661 - val_loss: 2.0127 - val_mean_absolute_error: 2.0127\n",
      "Epoch 12/20\n",
      "8808/8816 [============================>.] - ETA: 0s - loss: 1.9566 - mean_absolute_error: 1.9566\n",
      "Epoch 12: val_loss did not improve from 1.95576\n",
      "8816/8816 [==============================] - 36s 4ms/step - loss: 1.9565 - mean_absolute_error: 1.9565 - val_loss: 1.9640 - val_mean_absolute_error: 1.9640\n",
      "Epoch 13/20\n",
      "8806/8816 [============================>.] - ETA: 0s - loss: 1.9523 - mean_absolute_error: 1.9523\n",
      "Epoch 13: val_loss did not improve from 1.95576\n",
      "8816/8816 [==============================] - 33s 4ms/step - loss: 1.9522 - mean_absolute_error: 1.9522 - val_loss: 1.9711 - val_mean_absolute_error: 1.9711\n",
      "Epoch 14/20\n",
      "8811/8816 [============================>.] - ETA: 0s - loss: 1.9447 - mean_absolute_error: 1.9447\n",
      "Epoch 14: val_loss improved from 1.95576 to 1.94336, saving model to Weights--.hdf5\n",
      "8816/8816 [==============================] - 35s 4ms/step - loss: 1.9446 - mean_absolute_error: 1.9446 - val_loss: 1.9434 - val_mean_absolute_error: 1.9434\n",
      "Epoch 15/20\n",
      "8814/8816 [============================>.] - ETA: 0s - loss: 1.9406 - mean_absolute_error: 1.9406\n",
      "Epoch 15: val_loss did not improve from 1.94336\n",
      "8816/8816 [==============================] - 35s 4ms/step - loss: 1.9406 - mean_absolute_error: 1.9406 - val_loss: 1.9492 - val_mean_absolute_error: 1.9492\n",
      "Epoch 16/20\n",
      "8808/8816 [============================>.] - ETA: 0s - loss: 1.9351 - mean_absolute_error: 1.9351\n",
      "Epoch 16: val_loss improved from 1.94336 to 1.91205, saving model to Weights--.hdf5\n",
      "8816/8816 [==============================] - 35s 4ms/step - loss: 1.9350 - mean_absolute_error: 1.9350 - val_loss: 1.9120 - val_mean_absolute_error: 1.9120\n",
      "Epoch 17/20\n",
      "8811/8816 [============================>.] - ETA: 0s - loss: 1.9312 - mean_absolute_error: 1.9312\n",
      "Epoch 17: val_loss did not improve from 1.91205\n",
      "8816/8816 [==============================] - 36s 4ms/step - loss: 1.9313 - mean_absolute_error: 1.9313 - val_loss: 1.9740 - val_mean_absolute_error: 1.9740\n",
      "Epoch 18/20\n",
      "8807/8816 [============================>.] - ETA: 0s - loss: 1.9258 - mean_absolute_error: 1.9258\n",
      "Epoch 18: val_loss did not improve from 1.91205\n",
      "8816/8816 [==============================] - 36s 4ms/step - loss: 1.9258 - mean_absolute_error: 1.9258 - val_loss: 1.9410 - val_mean_absolute_error: 1.9410\n",
      "Epoch 19/20\n",
      "8812/8816 [============================>.] - ETA: 0s - loss: 1.9254 - mean_absolute_error: 1.9254\n",
      "Epoch 19: val_loss did not improve from 1.91205\n",
      "8816/8816 [==============================] - 34s 4ms/step - loss: 1.9253 - mean_absolute_error: 1.9253 - val_loss: 1.9809 - val_mean_absolute_error: 1.9809\n",
      "Epoch 20/20\n",
      "8811/8816 [============================>.] - ETA: 0s - loss: 1.9209 - mean_absolute_error: 1.9209\n",
      "Epoch 20: val_loss did not improve from 1.91205\n",
      "8816/8816 [==============================] - 34s 4ms/step - loss: 1.9211 - mean_absolute_error: 1.9211 - val_loss: 1.9321 - val_mean_absolute_error: 1.9321\n"
     ]
    },
    {
     "data": {
      "text/plain": [
       "<keras.callbacks.History at 0x7fc11ad609d0>"
      ]
     },
     "execution_count": 19,
     "metadata": {},
     "output_type": "execute_result"
    }
   ],
   "source": [
    "NN_model.fit(X_train_df, y_train_df, epochs=20, batch_size=32, validation_split = 0.2, callbacks=callbacks_list)"
   ]
  },
  {
   "cell_type": "code",
   "execution_count": 20,
   "id": "19ede0ed",
   "metadata": {
    "execution": {
     "iopub.execute_input": "2023-02-21T06:04:13.454649Z",
     "iopub.status.busy": "2023-02-21T06:04:13.454247Z",
     "iopub.status.idle": "2023-02-21T06:04:13.476409Z",
     "shell.execute_reply": "2023-02-21T06:04:13.475214Z"
    },
    "papermill": {
     "duration": 0.864592,
     "end_time": "2023-02-21T06:04:13.479066",
     "exception": false,
     "start_time": "2023-02-21T06:04:12.614474",
     "status": "completed"
    },
    "tags": []
   },
   "outputs": [],
   "source": [
    "# Load wights file of the best model :\n",
    "wights_file = f'Weights--.hdf5'  # choose the best checkpoint \n",
    "NN_model.load_weights(wights_file) # load it\n",
    "NN_model.compile(loss='mean_absolute_error', optimizer='adam', metrics=['mean_absolute_error'])"
   ]
  },
  {
   "cell_type": "code",
   "execution_count": 21,
   "id": "1d1b70cb",
   "metadata": {
    "execution": {
     "iopub.execute_input": "2023-02-21T06:04:15.098783Z",
     "iopub.status.busy": "2023-02-21T06:04:15.098091Z",
     "iopub.status.idle": "2023-02-21T06:04:17.032451Z",
     "shell.execute_reply": "2023-02-21T06:04:17.031516Z"
    },
    "papermill": {
     "duration": 2.777923,
     "end_time": "2023-02-21T06:04:17.034966",
     "exception": false,
     "start_time": "2023-02-21T06:04:14.257043",
     "status": "completed"
    },
    "tags": []
   },
   "outputs": [
    {
     "name": "stdout",
     "output_type": "stream",
     "text": [
      "980/980 [==============================] - 2s 2ms/step\n"
     ]
    }
   ],
   "source": [
    "predictions = NN_model.predict(test_df)"
   ]
  },
  {
   "cell_type": "markdown",
   "id": "da2660d1",
   "metadata": {
    "papermill": {
     "duration": 0.838489,
     "end_time": "2023-02-21T06:04:18.686045",
     "exception": false,
     "start_time": "2023-02-21T06:04:17.847556",
     "status": "completed"
    },
    "tags": []
   },
   "source": [
    "# Saving Dataset in correct format"
   ]
  },
  {
   "cell_type": "code",
   "execution_count": 22,
   "id": "14954e3d",
   "metadata": {
    "execution": {
     "iopub.execute_input": "2023-02-21T06:04:20.297169Z",
     "iopub.status.busy": "2023-02-21T06:04:20.296501Z",
     "iopub.status.idle": "2023-02-21T06:04:20.304445Z",
     "shell.execute_reply": "2023-02-21T06:04:20.303357Z"
    },
    "papermill": {
     "duration": 0.849247,
     "end_time": "2023-02-21T06:04:20.308233",
     "exception": false,
     "start_time": "2023-02-21T06:04:19.458986",
     "status": "completed"
    },
    "tags": []
   },
   "outputs": [
    {
     "data": {
      "text/plain": [
       "array([[17.657803 ],\n",
       "       [17.657803 ],\n",
       "       [17.657803 ],\n",
       "       ...,\n",
       "       [-9.617395 ],\n",
       "       [-9.6173935],\n",
       "       [-9.6173935]], dtype=float32)"
      ]
     },
     "execution_count": 22,
     "metadata": {},
     "output_type": "execute_result"
    }
   ],
   "source": [
    "predictions"
   ]
  },
  {
   "cell_type": "code",
   "execution_count": 23,
   "id": "17cad909",
   "metadata": {
    "execution": {
     "iopub.execute_input": "2023-02-21T06:04:21.922782Z",
     "iopub.status.busy": "2023-02-21T06:04:21.921266Z",
     "iopub.status.idle": "2023-02-21T06:04:21.927350Z",
     "shell.execute_reply": "2023-02-21T06:04:21.926390Z"
    },
    "papermill": {
     "duration": 0.846718,
     "end_time": "2023-02-21T06:04:21.929566",
     "exception": false,
     "start_time": "2023-02-21T06:04:21.082848",
     "status": "completed"
    },
    "tags": []
   },
   "outputs": [],
   "source": [
    "final=pd.DataFrame(predictions,columns=['contest-tmp2m-14d__tmp2m'])"
   ]
  },
  {
   "cell_type": "code",
   "execution_count": 24,
   "id": "43f20f79",
   "metadata": {
    "execution": {
     "iopub.execute_input": "2023-02-21T06:04:23.538971Z",
     "iopub.status.busy": "2023-02-21T06:04:23.538276Z",
     "iopub.status.idle": "2023-02-21T06:04:31.439109Z",
     "shell.execute_reply": "2023-02-21T06:04:31.437810Z"
    },
    "papermill": {
     "duration": 8.740098,
     "end_time": "2023-02-21T06:04:31.442082",
     "exception": false,
     "start_time": "2023-02-21T06:04:22.701984",
     "status": "completed"
    },
    "tags": []
   },
   "outputs": [
    {
     "data": {
      "text/html": [
       "<div>\n",
       "<style scoped>\n",
       "    .dataframe tbody tr th:only-of-type {\n",
       "        vertical-align: middle;\n",
       "    }\n",
       "\n",
       "    .dataframe tbody tr th {\n",
       "        vertical-align: top;\n",
       "    }\n",
       "\n",
       "    .dataframe thead th {\n",
       "        text-align: right;\n",
       "    }\n",
       "</style>\n",
       "<table border=\"1\" class=\"dataframe\">\n",
       "  <thead>\n",
       "    <tr style=\"text-align: right;\">\n",
       "      <th></th>\n",
       "      <th>contest-tmp2m-14d__tmp2m</th>\n",
       "      <th>index</th>\n",
       "    </tr>\n",
       "  </thead>\n",
       "  <tbody>\n",
       "    <tr>\n",
       "      <th>0</th>\n",
       "      <td>17.657803</td>\n",
       "      <td>375734</td>\n",
       "    </tr>\n",
       "    <tr>\n",
       "      <th>1</th>\n",
       "      <td>17.657803</td>\n",
       "      <td>375735</td>\n",
       "    </tr>\n",
       "    <tr>\n",
       "      <th>2</th>\n",
       "      <td>17.657803</td>\n",
       "      <td>375736</td>\n",
       "    </tr>\n",
       "    <tr>\n",
       "      <th>3</th>\n",
       "      <td>17.657803</td>\n",
       "      <td>375737</td>\n",
       "    </tr>\n",
       "    <tr>\n",
       "      <th>4</th>\n",
       "      <td>17.657803</td>\n",
       "      <td>375738</td>\n",
       "    </tr>\n",
       "    <tr>\n",
       "      <th>...</th>\n",
       "      <td>...</td>\n",
       "      <td>...</td>\n",
       "    </tr>\n",
       "    <tr>\n",
       "      <th>31349</th>\n",
       "      <td>-9.617395</td>\n",
       "      <td>407083</td>\n",
       "    </tr>\n",
       "    <tr>\n",
       "      <th>31350</th>\n",
       "      <td>-9.617395</td>\n",
       "      <td>407084</td>\n",
       "    </tr>\n",
       "    <tr>\n",
       "      <th>31351</th>\n",
       "      <td>-9.617395</td>\n",
       "      <td>407085</td>\n",
       "    </tr>\n",
       "    <tr>\n",
       "      <th>31352</th>\n",
       "      <td>-9.617393</td>\n",
       "      <td>407086</td>\n",
       "    </tr>\n",
       "    <tr>\n",
       "      <th>31353</th>\n",
       "      <td>-9.617393</td>\n",
       "      <td>407087</td>\n",
       "    </tr>\n",
       "  </tbody>\n",
       "</table>\n",
       "<p>31354 rows × 2 columns</p>\n",
       "</div>"
      ],
      "text/plain": [
       "       contest-tmp2m-14d__tmp2m   index\n",
       "0                     17.657803  375734\n",
       "1                     17.657803  375735\n",
       "2                     17.657803  375736\n",
       "3                     17.657803  375737\n",
       "4                     17.657803  375738\n",
       "...                         ...     ...\n",
       "31349                 -9.617395  407083\n",
       "31350                 -9.617395  407084\n",
       "31351                 -9.617395  407085\n",
       "31352                 -9.617393  407086\n",
       "31353                 -9.617393  407087\n",
       "\n",
       "[31354 rows x 2 columns]"
      ]
     },
     "execution_count": 24,
     "metadata": {},
     "output_type": "execute_result"
    }
   ],
   "source": [
    "i=375734\n",
    "final['index']=0\n",
    "while i<407088:\n",
    "    final['index'][i-375734]=i\n",
    "    i+=1\n",
    "final"
   ]
  },
  {
   "cell_type": "code",
   "execution_count": 25,
   "id": "5806aa00",
   "metadata": {
    "execution": {
     "iopub.execute_input": "2023-02-21T06:04:33.050609Z",
     "iopub.status.busy": "2023-02-21T06:04:33.049596Z",
     "iopub.status.idle": "2023-02-21T06:04:33.109997Z",
     "shell.execute_reply": "2023-02-21T06:04:33.108862Z"
    },
    "papermill": {
     "duration": 0.897634,
     "end_time": "2023-02-21T06:04:33.113001",
     "exception": false,
     "start_time": "2023-02-21T06:04:32.215367",
     "status": "completed"
    },
    "tags": []
   },
   "outputs": [],
   "source": [
    "final.to_csv('/kaggle/working/wetherprediction.csv',index=False)"
   ]
  }
 ],
 "metadata": {
  "kernelspec": {
   "display_name": "Python 3",
   "language": "python",
   "name": "python3"
  },
  "language_info": {
   "codemirror_mode": {
    "name": "ipython",
    "version": 3
   },
   "file_extension": ".py",
   "mimetype": "text/x-python",
   "name": "python",
   "nbconvert_exporter": "python",
   "pygments_lexer": "ipython3",
   "version": "3.7.12"
  },
  "papermill": {
   "default_parameters": {},
   "duration": 811.812529,
   "end_time": "2023-02-21T06:04:37.439299",
   "environment_variables": {},
   "exception": null,
   "input_path": "__notebook__.ipynb",
   "output_path": "__notebook__.ipynb",
   "parameters": {},
   "start_time": "2023-02-21T05:51:05.626770",
   "version": "2.3.4"
  }
 },
 "nbformat": 4,
 "nbformat_minor": 5
}
