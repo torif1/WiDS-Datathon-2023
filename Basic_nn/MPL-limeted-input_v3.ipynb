{
 "cells": [
  {
   "cell_type": "code",
   "execution_count": 1,
   "id": "6170fc26",
   "metadata": {
    "_cell_guid": "b1076dfc-b9ad-4769-8c92-a6c4dae69d19",
    "_uuid": "8f2839f25d086af736a60e9eeb907d3b93b6e0e5",
    "execution": {
     "iopub.execute_input": "2023-02-20T01:10:26.719396Z",
     "iopub.status.busy": "2023-02-20T01:10:26.718973Z",
     "iopub.status.idle": "2023-02-20T01:10:27.788652Z",
     "shell.execute_reply": "2023-02-20T01:10:27.787724Z"
    },
    "papermill": {
     "duration": 1.080545,
     "end_time": "2023-02-20T01:10:27.790783",
     "exception": false,
     "start_time": "2023-02-20T01:10:26.710238",
     "status": "completed"
    },
    "tags": []
   },
   "outputs": [
    {
     "name": "stdout",
     "output_type": "stream",
     "text": [
      "/kaggle/input/widsdatathon2023/train_data.csv\n",
      "/kaggle/input/widsdatathon2023/test_data.csv\n",
      "/kaggle/input/widsdatathon2023/sample_solution.csv\n"
     ]
    }
   ],
   "source": [
    "import numpy as np # linear algebra\n",
    "import pandas as pd # data processing, CSV file I/O (e.g. pd.read_csv)\n",
    "from sklearn import preprocessing #Convert categorical data to neumeric values\n",
    "from sklearn.neural_network import MLPClassifier #Model being used\n",
    "\n",
    "import os\n",
    "for dirname, _, filenames in os.walk('/kaggle/input'):\n",
    "    for filename in filenames:\n",
    "        print(os.path.join(dirname, filename))"
   ]
  },
  {
   "cell_type": "code",
   "execution_count": 2,
   "id": "0f9a6783",
   "metadata": {
    "execution": {
     "iopub.execute_input": "2023-02-20T01:10:27.800654Z",
     "iopub.status.busy": "2023-02-20T01:10:27.800288Z",
     "iopub.status.idle": "2023-02-20T01:10:27.805767Z",
     "shell.execute_reply": "2023-02-20T01:10:27.804355Z"
    },
    "papermill": {
     "duration": 0.013252,
     "end_time": "2023-02-20T01:10:27.808392",
     "exception": false,
     "start_time": "2023-02-20T01:10:27.795140",
     "status": "completed"
    },
    "tags": []
   },
   "outputs": [],
   "source": [
    "keep_columns=['lat','month','contest-tmp2m-14d__tmp2m',\n",
    "              'climateregions__climateregion']"
   ]
  },
  {
   "cell_type": "code",
   "execution_count": 3,
   "id": "cdfb5c60",
   "metadata": {
    "execution": {
     "iopub.execute_input": "2023-02-20T01:10:27.818632Z",
     "iopub.status.busy": "2023-02-20T01:10:27.818232Z",
     "iopub.status.idle": "2023-02-20T01:10:27.824784Z",
     "shell.execute_reply": "2023-02-20T01:10:27.823581Z"
    },
    "papermill": {
     "duration": 0.013998,
     "end_time": "2023-02-20T01:10:27.826789",
     "exception": false,
     "start_time": "2023-02-20T01:10:27.812791",
     "status": "completed"
    },
    "tags": []
   },
   "outputs": [],
   "source": [
    "def seperate_monthly(df):\n",
    "    df[['month','day','year']]=df.startdate.str.split('/',expand=True)\n",
    "    df=df.drop('day', axis=1)\n",
    "    df=df.drop('startdate',axis=1)\n",
    "    return df"
   ]
  },
  {
   "cell_type": "code",
   "execution_count": 4,
   "id": "fc4a9e4b",
   "metadata": {
    "execution": {
     "iopub.execute_input": "2023-02-20T01:10:27.836621Z",
     "iopub.status.busy": "2023-02-20T01:10:27.836297Z",
     "iopub.status.idle": "2023-02-20T01:10:27.842068Z",
     "shell.execute_reply": "2023-02-20T01:10:27.840569Z"
    },
    "papermill": {
     "duration": 0.013895,
     "end_time": "2023-02-20T01:10:27.844947",
     "exception": false,
     "start_time": "2023-02-20T01:10:27.831052",
     "status": "completed"
    },
    "tags": []
   },
   "outputs": [],
   "source": [
    "def eliminate_columns(df):\n",
    "    for col in df.columns:\n",
    "        if col in keep_columns:\n",
    "            print(col)\n",
    "        else: \n",
    "            df=df.drop(col, axis=1)\n",
    "    return df"
   ]
  },
  {
   "cell_type": "code",
   "execution_count": 5,
   "id": "b1821903",
   "metadata": {
    "execution": {
     "iopub.execute_input": "2023-02-20T01:10:27.854698Z",
     "iopub.status.busy": "2023-02-20T01:10:27.854360Z",
     "iopub.status.idle": "2023-02-20T01:10:27.859287Z",
     "shell.execute_reply": "2023-02-20T01:10:27.858288Z"
    },
    "papermill": {
     "duration": 0.012119,
     "end_time": "2023-02-20T01:10:27.861204",
     "exception": false,
     "start_time": "2023-02-20T01:10:27.849085",
     "status": "completed"
    },
    "tags": []
   },
   "outputs": [],
   "source": [
    "def seperate_y(df):\n",
    "    y_df=df['contest-tmp2m-14d__tmp2m']\n",
    "    X_df=df.drop('contest-tmp2m-14d__tmp2m',axis=1)\n",
    "    return y_df,X_df"
   ]
  },
  {
   "cell_type": "code",
   "execution_count": 6,
   "id": "1533d87a",
   "metadata": {
    "execution": {
     "iopub.execute_input": "2023-02-20T01:10:27.870944Z",
     "iopub.status.busy": "2023-02-20T01:10:27.870377Z",
     "iopub.status.idle": "2023-02-20T01:10:46.834303Z",
     "shell.execute_reply": "2023-02-20T01:10:46.833282Z"
    },
    "papermill": {
     "duration": 18.972004,
     "end_time": "2023-02-20T01:10:46.837334",
     "exception": false,
     "start_time": "2023-02-20T01:10:27.865330",
     "status": "completed"
    },
    "tags": []
   },
   "outputs": [],
   "source": [
    "train_df=pd.read_csv('/kaggle/input/widsdatathon2023/train_data.csv')\n",
    "train_df=train_df.dropna(axis=0)\n",
    "test_df=pd.read_csv('/kaggle/input/widsdatathon2023/test_data.csv')\n",
    "test_df=test_df.dropna(axis=0)"
   ]
  },
  {
   "cell_type": "code",
   "execution_count": 7,
   "id": "41dc3df0",
   "metadata": {
    "execution": {
     "iopub.execute_input": "2023-02-20T01:10:46.847259Z",
     "iopub.status.busy": "2023-02-20T01:10:46.846800Z",
     "iopub.status.idle": "2023-02-20T01:10:46.940683Z",
     "shell.execute_reply": "2023-02-20T01:10:46.939164Z"
    },
    "papermill": {
     "duration": 0.101595,
     "end_time": "2023-02-20T01:10:46.943183",
     "exception": false,
     "start_time": "2023-02-20T01:10:46.841588",
     "status": "completed"
    },
    "tags": []
   },
   "outputs": [],
   "source": [
    "le = preprocessing.LabelEncoder()\n",
    "\n",
    "# Converting string labels into numbers.\n",
    "train_df['climateregions__climateregion']=le.fit_transform(train_df['climateregions__climateregion'])\n",
    "test_df['climateregions__climateregion']=le.fit_transform(test_df['climateregions__climateregion'])"
   ]
  },
  {
   "cell_type": "code",
   "execution_count": 8,
   "id": "19bc00c0",
   "metadata": {
    "execution": {
     "iopub.execute_input": "2023-02-20T01:10:46.953702Z",
     "iopub.status.busy": "2023-02-20T01:10:46.952935Z",
     "iopub.status.idle": "2023-02-20T01:11:04.516025Z",
     "shell.execute_reply": "2023-02-20T01:11:04.514703Z"
    },
    "papermill": {
     "duration": 17.570694,
     "end_time": "2023-02-20T01:11:04.518237",
     "exception": false,
     "start_time": "2023-02-20T01:10:46.947543",
     "status": "completed"
    },
    "tags": []
   },
   "outputs": [
    {
     "name": "stdout",
     "output_type": "stream",
     "text": [
      "training set\n",
      "lat\n",
      "contest-tmp2m-14d__tmp2m\n",
      "climateregions__climateregion\n",
      "month\n",
      "test set\n",
      "lat\n",
      "climateregions__climateregion\n",
      "month\n"
     ]
    }
   ],
   "source": [
    "print('training set')\n",
    "train_df=seperate_monthly(train_df)\n",
    "train_df=eliminate_columns(train_df)\n",
    "print('test set')\n",
    "test_df=seperate_monthly(test_df)\n",
    "test_df=eliminate_columns(test_df)"
   ]
  },
  {
   "cell_type": "code",
   "execution_count": 9,
   "id": "71815faf",
   "metadata": {
    "execution": {
     "iopub.execute_input": "2023-02-20T01:11:04.528666Z",
     "iopub.status.busy": "2023-02-20T01:11:04.528302Z",
     "iopub.status.idle": "2023-02-20T01:11:04.548451Z",
     "shell.execute_reply": "2023-02-20T01:11:04.547566Z"
    },
    "papermill": {
     "duration": 0.028269,
     "end_time": "2023-02-20T01:11:04.550964",
     "exception": false,
     "start_time": "2023-02-20T01:11:04.522695",
     "status": "completed"
    },
    "tags": []
   },
   "outputs": [
    {
     "data": {
      "text/html": [
       "<div>\n",
       "<style scoped>\n",
       "    .dataframe tbody tr th:only-of-type {\n",
       "        vertical-align: middle;\n",
       "    }\n",
       "\n",
       "    .dataframe tbody tr th {\n",
       "        vertical-align: top;\n",
       "    }\n",
       "\n",
       "    .dataframe thead th {\n",
       "        text-align: right;\n",
       "    }\n",
       "</style>\n",
       "<table border=\"1\" class=\"dataframe\">\n",
       "  <thead>\n",
       "    <tr style=\"text-align: right;\">\n",
       "      <th></th>\n",
       "      <th>lat</th>\n",
       "      <th>contest-tmp2m-14d__tmp2m</th>\n",
       "      <th>climateregions__climateregion</th>\n",
       "      <th>month</th>\n",
       "    </tr>\n",
       "  </thead>\n",
       "  <tbody>\n",
       "    <tr>\n",
       "      <th>0</th>\n",
       "      <td>0.0</td>\n",
       "      <td>28.744480</td>\n",
       "      <td>0</td>\n",
       "      <td>9</td>\n",
       "    </tr>\n",
       "    <tr>\n",
       "      <th>1</th>\n",
       "      <td>0.0</td>\n",
       "      <td>28.370585</td>\n",
       "      <td>0</td>\n",
       "      <td>9</td>\n",
       "    </tr>\n",
       "    <tr>\n",
       "      <th>2</th>\n",
       "      <td>0.0</td>\n",
       "      <td>28.133059</td>\n",
       "      <td>0</td>\n",
       "      <td>9</td>\n",
       "    </tr>\n",
       "    <tr>\n",
       "      <th>3</th>\n",
       "      <td>0.0</td>\n",
       "      <td>28.256798</td>\n",
       "      <td>0</td>\n",
       "      <td>9</td>\n",
       "    </tr>\n",
       "    <tr>\n",
       "      <th>4</th>\n",
       "      <td>0.0</td>\n",
       "      <td>28.372353</td>\n",
       "      <td>0</td>\n",
       "      <td>9</td>\n",
       "    </tr>\n",
       "    <tr>\n",
       "      <th>...</th>\n",
       "      <td>...</td>\n",
       "      <td>...</td>\n",
       "      <td>...</td>\n",
       "      <td>...</td>\n",
       "    </tr>\n",
       "    <tr>\n",
       "      <th>375729</th>\n",
       "      <td>1.0</td>\n",
       "      <td>17.150954</td>\n",
       "      <td>9</td>\n",
       "      <td>8</td>\n",
       "    </tr>\n",
       "    <tr>\n",
       "      <th>375730</th>\n",
       "      <td>1.0</td>\n",
       "      <td>16.962051</td>\n",
       "      <td>9</td>\n",
       "      <td>8</td>\n",
       "    </tr>\n",
       "    <tr>\n",
       "      <th>375731</th>\n",
       "      <td>1.0</td>\n",
       "      <td>16.915474</td>\n",
       "      <td>9</td>\n",
       "      <td>8</td>\n",
       "    </tr>\n",
       "    <tr>\n",
       "      <th>375732</th>\n",
       "      <td>1.0</td>\n",
       "      <td>16.536761</td>\n",
       "      <td>9</td>\n",
       "      <td>8</td>\n",
       "    </tr>\n",
       "    <tr>\n",
       "      <th>375733</th>\n",
       "      <td>1.0</td>\n",
       "      <td>15.910995</td>\n",
       "      <td>9</td>\n",
       "      <td>8</td>\n",
       "    </tr>\n",
       "  </tbody>\n",
       "</table>\n",
       "<p>352604 rows × 4 columns</p>\n",
       "</div>"
      ],
      "text/plain": [
       "        lat  contest-tmp2m-14d__tmp2m  climateregions__climateregion month\n",
       "0       0.0                 28.744480                              0     9\n",
       "1       0.0                 28.370585                              0     9\n",
       "2       0.0                 28.133059                              0     9\n",
       "3       0.0                 28.256798                              0     9\n",
       "4       0.0                 28.372353                              0     9\n",
       "...     ...                       ...                            ...   ...\n",
       "375729  1.0                 17.150954                              9     8\n",
       "375730  1.0                 16.962051                              9     8\n",
       "375731  1.0                 16.915474                              9     8\n",
       "375732  1.0                 16.536761                              9     8\n",
       "375733  1.0                 15.910995                              9     8\n",
       "\n",
       "[352604 rows x 4 columns]"
      ]
     },
     "execution_count": 9,
     "metadata": {},
     "output_type": "execute_result"
    }
   ],
   "source": [
    "train_df"
   ]
  },
  {
   "cell_type": "code",
   "execution_count": 10,
   "id": "1c852327",
   "metadata": {
    "execution": {
     "iopub.execute_input": "2023-02-20T01:11:04.562347Z",
     "iopub.status.busy": "2023-02-20T01:11:04.561959Z",
     "iopub.status.idle": "2023-02-20T01:11:04.575405Z",
     "shell.execute_reply": "2023-02-20T01:11:04.574032Z"
    },
    "papermill": {
     "duration": 0.022457,
     "end_time": "2023-02-20T01:11:04.578390",
     "exception": false,
     "start_time": "2023-02-20T01:11:04.555933",
     "status": "completed"
    },
    "tags": []
   },
   "outputs": [],
   "source": [
    "y_train_df,X_train_df= seperate_y(train_df)"
   ]
  },
  {
   "cell_type": "code",
   "execution_count": 11,
   "id": "f602d28a",
   "metadata": {
    "execution": {
     "iopub.execute_input": "2023-02-20T01:11:04.589990Z",
     "iopub.status.busy": "2023-02-20T01:11:04.589559Z",
     "iopub.status.idle": "2023-02-20T01:11:04.595645Z",
     "shell.execute_reply": "2023-02-20T01:11:04.594193Z"
    },
    "papermill": {
     "duration": 0.014635,
     "end_time": "2023-02-20T01:11:04.597897",
     "exception": false,
     "start_time": "2023-02-20T01:11:04.583262",
     "status": "completed"
    },
    "tags": []
   },
   "outputs": [],
   "source": [
    "y_train_df=y_train_df.astype('int')"
   ]
  },
  {
   "cell_type": "code",
   "execution_count": 12,
   "id": "56e60e11",
   "metadata": {
    "execution": {
     "iopub.execute_input": "2023-02-20T01:11:04.608856Z",
     "iopub.status.busy": "2023-02-20T01:11:04.608519Z",
     "iopub.status.idle": "2023-02-20T01:12:46.606625Z",
     "shell.execute_reply": "2023-02-20T01:12:46.605471Z"
    },
    "papermill": {
     "duration": 102.006422,
     "end_time": "2023-02-20T01:12:46.609120",
     "exception": false,
     "start_time": "2023-02-20T01:11:04.602698",
     "status": "completed"
    },
    "tags": []
   },
   "outputs": [
    {
     "name": "stdout",
     "output_type": "stream",
     "text": [
      "Iteration 1, loss = 3.40323358\n",
      "Iteration 2, loss = 3.08303248\n",
      "Iteration 3, loss = 2.78333346\n",
      "Iteration 4, loss = 2.76002665\n",
      "Iteration 5, loss = 2.75446410\n",
      "Iteration 6, loss = 2.75055503\n",
      "Iteration 7, loss = 2.75061419\n",
      "Iteration 8, loss = 2.74840022\n",
      "Iteration 9, loss = 2.74691717\n",
      "Iteration 10, loss = 2.74515032\n",
      "Iteration 11, loss = 2.74255324\n",
      "Iteration 12, loss = 2.74060331\n",
      "Iteration 13, loss = 2.73913645\n",
      "Iteration 14, loss = 2.73845771\n",
      "Iteration 15, loss = 2.73705732\n",
      "Iteration 16, loss = 2.73564482\n",
      "Iteration 17, loss = 2.73595621\n",
      "Iteration 18, loss = 2.73578437\n",
      "Iteration 19, loss = 2.73548534\n",
      "Iteration 20, loss = 2.73494189\n",
      "Iteration 21, loss = 2.73427452\n",
      "Iteration 22, loss = 2.73524559\n",
      "Iteration 23, loss = 2.73475280\n",
      "Iteration 24, loss = 2.73420767\n",
      "Iteration 25, loss = 2.73351069\n",
      "Iteration 26, loss = 2.73392183\n",
      "Iteration 27, loss = 2.73271896\n",
      "Iteration 28, loss = 2.73210968\n",
      "Iteration 29, loss = 2.73236539\n",
      "Iteration 30, loss = 2.73213020\n",
      "Iteration 31, loss = 2.73225223\n",
      "Iteration 32, loss = 2.73100298\n",
      "Iteration 33, loss = 2.73092930\n",
      "Iteration 34, loss = 2.73142023\n",
      "Iteration 35, loss = 2.73169021\n",
      "Iteration 36, loss = 2.72942758\n",
      "Iteration 37, loss = 2.73093266\n",
      "Iteration 38, loss = 2.72959869\n",
      "Iteration 39, loss = 2.73015729\n",
      "Iteration 40, loss = 2.72943897\n",
      "Iteration 41, loss = 2.73148520\n",
      "Iteration 42, loss = 2.72889556\n",
      "Iteration 43, loss = 2.72913175\n",
      "Iteration 44, loss = 2.72800812\n",
      "Iteration 45, loss = 2.72891044\n",
      "Iteration 46, loss = 2.72692123\n",
      "Iteration 47, loss = 2.72667006\n",
      "Iteration 48, loss = 2.72510695\n",
      "Iteration 49, loss = 2.72325164\n",
      "Iteration 50, loss = 2.72163272\n",
      "Iteration 51, loss = 2.72073269\n",
      "Iteration 52, loss = 2.71994570\n",
      "Iteration 53, loss = 2.71910959\n",
      "Iteration 54, loss = 2.71856237\n",
      "Iteration 55, loss = 2.71799319\n",
      "Iteration 56, loss = 2.71770608\n",
      "Iteration 57, loss = 2.71824068\n",
      "Iteration 58, loss = 2.71812451\n",
      "Iteration 59, loss = 2.71767936\n",
      "Iteration 60, loss = 2.71746056\n",
      "Iteration 61, loss = 2.71669896\n",
      "Iteration 62, loss = 2.71632910\n",
      "Iteration 63, loss = 2.71601217\n",
      "Iteration 64, loss = 2.71626104\n",
      "Iteration 65, loss = 2.71631338\n",
      "Iteration 66, loss = 2.71466625\n",
      "Iteration 67, loss = 2.71504250\n",
      "Iteration 68, loss = 2.71481070\n",
      "Iteration 69, loss = 2.71523041\n",
      "Iteration 70, loss = 2.71385225\n",
      "Iteration 71, loss = 2.71381809\n",
      "Iteration 72, loss = 2.71412539\n",
      "Iteration 73, loss = 2.71304741\n",
      "Iteration 74, loss = 2.71358072\n",
      "Iteration 75, loss = 2.71300571\n",
      "Iteration 76, loss = 2.71430426\n",
      "Iteration 77, loss = 2.71265940\n",
      "Iteration 78, loss = 2.71237435\n",
      "Iteration 79, loss = 2.71273567\n",
      "Iteration 80, loss = 2.71303569\n",
      "Iteration 81, loss = 2.71363759\n",
      "Iteration 82, loss = 2.71328646\n",
      "Iteration 83, loss = 2.71322240\n",
      "Iteration 84, loss = 2.71305968\n",
      "Iteration 85, loss = 2.71243156\n",
      "Iteration 86, loss = 2.71271404\n",
      "Iteration 87, loss = 2.71286422\n",
      "Iteration 88, loss = 2.71271363\n",
      "Iteration 89, loss = 2.71231680\n",
      "Training loss did not improve more than tol=0.000100 for 10 consecutive epochs. Stopping.\n"
     ]
    },
    {
     "data": {
      "text/plain": [
       "MLPClassifier(hidden_layer_sizes=(2, 10), learning_rate_init=0.01,\n",
       "              random_state=100, verbose=True)"
      ]
     },
     "execution_count": 12,
     "metadata": {},
     "output_type": "execute_result"
    }
   ],
   "source": [
    "clf = MLPClassifier(hidden_layer_sizes=(2,10),\n",
    "                    random_state=100,\n",
    "                    verbose=True,\n",
    "                    learning_rate_init=0.01)\n",
    "\n",
    "# Fit data onto the model\n",
    "clf.fit(X_train_df,y_train_df)"
   ]
  },
  {
   "cell_type": "code",
   "execution_count": 13,
   "id": "51eae09b",
   "metadata": {
    "execution": {
     "iopub.execute_input": "2023-02-20T01:12:46.630251Z",
     "iopub.status.busy": "2023-02-20T01:12:46.629829Z",
     "iopub.status.idle": "2023-02-20T01:12:46.687033Z",
     "shell.execute_reply": "2023-02-20T01:12:46.686049Z"
    },
    "papermill": {
     "duration": 0.07069,
     "end_time": "2023-02-20T01:12:46.689650",
     "exception": false,
     "start_time": "2023-02-20T01:12:46.618960",
     "status": "completed"
    },
    "tags": []
   },
   "outputs": [],
   "source": [
    "ypred=clf.predict(test_df)"
   ]
  },
  {
   "cell_type": "code",
   "execution_count": 14,
   "id": "815bcc41",
   "metadata": {
    "execution": {
     "iopub.execute_input": "2023-02-20T01:12:46.717095Z",
     "iopub.status.busy": "2023-02-20T01:12:46.716218Z",
     "iopub.status.idle": "2023-02-20T01:13:05.638176Z",
     "shell.execute_reply": "2023-02-20T01:13:05.636937Z"
    },
    "papermill": {
     "duration": 18.938029,
     "end_time": "2023-02-20T01:13:05.640813",
     "exception": false,
     "start_time": "2023-02-20T01:12:46.702784",
     "status": "completed"
    },
    "tags": []
   },
   "outputs": [
    {
     "data": {
      "text/html": [
       "<div>\n",
       "<style scoped>\n",
       "    .dataframe tbody tr th:only-of-type {\n",
       "        vertical-align: middle;\n",
       "    }\n",
       "\n",
       "    .dataframe tbody tr th {\n",
       "        vertical-align: top;\n",
       "    }\n",
       "\n",
       "    .dataframe thead th {\n",
       "        text-align: right;\n",
       "    }\n",
       "</style>\n",
       "<table border=\"1\" class=\"dataframe\">\n",
       "  <thead>\n",
       "    <tr style=\"text-align: right;\">\n",
       "      <th></th>\n",
       "      <th>contest-tmp2m-14d__tmp2m</th>\n",
       "      <th>index</th>\n",
       "    </tr>\n",
       "  </thead>\n",
       "  <tbody>\n",
       "    <tr>\n",
       "      <th>0</th>\n",
       "      <td>20</td>\n",
       "      <td>0</td>\n",
       "    </tr>\n",
       "    <tr>\n",
       "      <th>1</th>\n",
       "      <td>20</td>\n",
       "      <td>0</td>\n",
       "    </tr>\n",
       "    <tr>\n",
       "      <th>2</th>\n",
       "      <td>20</td>\n",
       "      <td>0</td>\n",
       "    </tr>\n",
       "    <tr>\n",
       "      <th>3</th>\n",
       "      <td>20</td>\n",
       "      <td>0</td>\n",
       "    </tr>\n",
       "    <tr>\n",
       "      <th>4</th>\n",
       "      <td>20</td>\n",
       "      <td>0</td>\n",
       "    </tr>\n",
       "    <tr>\n",
       "      <th>...</th>\n",
       "      <td>...</td>\n",
       "      <td>...</td>\n",
       "    </tr>\n",
       "    <tr>\n",
       "      <th>31349</th>\n",
       "      <td>0</td>\n",
       "      <td>0</td>\n",
       "    </tr>\n",
       "    <tr>\n",
       "      <th>31350</th>\n",
       "      <td>0</td>\n",
       "      <td>0</td>\n",
       "    </tr>\n",
       "    <tr>\n",
       "      <th>31351</th>\n",
       "      <td>0</td>\n",
       "      <td>0</td>\n",
       "    </tr>\n",
       "    <tr>\n",
       "      <th>31352</th>\n",
       "      <td>0</td>\n",
       "      <td>0</td>\n",
       "    </tr>\n",
       "    <tr>\n",
       "      <th>31353</th>\n",
       "      <td>0</td>\n",
       "      <td>0</td>\n",
       "    </tr>\n",
       "  </tbody>\n",
       "</table>\n",
       "<p>31354 rows × 2 columns</p>\n",
       "</div>"
      ],
      "text/plain": [
       "       contest-tmp2m-14d__tmp2m  index\n",
       "0                            20      0\n",
       "1                            20      0\n",
       "2                            20      0\n",
       "3                            20      0\n",
       "4                            20      0\n",
       "...                         ...    ...\n",
       "31349                         0      0\n",
       "31350                         0      0\n",
       "31351                         0      0\n",
       "31352                         0      0\n",
       "31353                         0      0\n",
       "\n",
       "[31354 rows x 2 columns]"
      ]
     },
     "execution_count": 14,
     "metadata": {},
     "output_type": "execute_result"
    }
   ],
   "source": [
    "#Trying to create a final \n",
    "final=pd.DataFrame()\n",
    "final['contest-tmp2m-14d__tmp2m']=ypred\n",
    "final['index']=0\n",
    "i=375734 #Legnth of train_data.csv\n",
    "while i<407087:\n",
    "    final['index'][i]=i\n",
    "    i+=1\n",
    "final"
   ]
  },
  {
   "cell_type": "code",
   "execution_count": 15,
   "id": "4a568a5e",
   "metadata": {
    "execution": {
     "iopub.execute_input": "2023-02-20T01:13:05.662578Z",
     "iopub.status.busy": "2023-02-20T01:13:05.662153Z",
     "iopub.status.idle": "2023-02-20T01:13:05.692741Z",
     "shell.execute_reply": "2023-02-20T01:13:05.691897Z"
    },
    "papermill": {
     "duration": 0.043959,
     "end_time": "2023-02-20T01:13:05.695143",
     "exception": false,
     "start_time": "2023-02-20T01:13:05.651184",
     "status": "completed"
    },
    "tags": []
   },
   "outputs": [],
   "source": [
    "final.to_csv('final.csv',index=False)"
   ]
  },
  {
   "cell_type": "code",
   "execution_count": 16,
   "id": "44dc78e9",
   "metadata": {
    "execution": {
     "iopub.execute_input": "2023-02-20T01:13:05.717646Z",
     "iopub.status.busy": "2023-02-20T01:13:05.717093Z",
     "iopub.status.idle": "2023-02-20T01:13:05.727368Z",
     "shell.execute_reply": "2023-02-20T01:13:05.726286Z"
    },
    "papermill": {
     "duration": 0.023752,
     "end_time": "2023-02-20T01:13:05.729371",
     "exception": false,
     "start_time": "2023-02-20T01:13:05.705619",
     "status": "completed"
    },
    "tags": []
   },
   "outputs": [
    {
     "data": {
      "text/html": [
       "<div>\n",
       "<style scoped>\n",
       "    .dataframe tbody tr th:only-of-type {\n",
       "        vertical-align: middle;\n",
       "    }\n",
       "\n",
       "    .dataframe tbody tr th {\n",
       "        vertical-align: top;\n",
       "    }\n",
       "\n",
       "    .dataframe thead th {\n",
       "        text-align: right;\n",
       "    }\n",
       "</style>\n",
       "<table border=\"1\" class=\"dataframe\">\n",
       "  <thead>\n",
       "    <tr style=\"text-align: right;\">\n",
       "      <th></th>\n",
       "      <th>contest-tmp2m-14d__tmp2m</th>\n",
       "      <th>index</th>\n",
       "    </tr>\n",
       "  </thead>\n",
       "  <tbody>\n",
       "    <tr>\n",
       "      <th>0</th>\n",
       "      <td>20</td>\n",
       "      <td>0</td>\n",
       "    </tr>\n",
       "    <tr>\n",
       "      <th>1</th>\n",
       "      <td>20</td>\n",
       "      <td>0</td>\n",
       "    </tr>\n",
       "    <tr>\n",
       "      <th>2</th>\n",
       "      <td>20</td>\n",
       "      <td>0</td>\n",
       "    </tr>\n",
       "    <tr>\n",
       "      <th>3</th>\n",
       "      <td>20</td>\n",
       "      <td>0</td>\n",
       "    </tr>\n",
       "    <tr>\n",
       "      <th>4</th>\n",
       "      <td>20</td>\n",
       "      <td>0</td>\n",
       "    </tr>\n",
       "    <tr>\n",
       "      <th>...</th>\n",
       "      <td>...</td>\n",
       "      <td>...</td>\n",
       "    </tr>\n",
       "    <tr>\n",
       "      <th>31349</th>\n",
       "      <td>0</td>\n",
       "      <td>0</td>\n",
       "    </tr>\n",
       "    <tr>\n",
       "      <th>31350</th>\n",
       "      <td>0</td>\n",
       "      <td>0</td>\n",
       "    </tr>\n",
       "    <tr>\n",
       "      <th>31351</th>\n",
       "      <td>0</td>\n",
       "      <td>0</td>\n",
       "    </tr>\n",
       "    <tr>\n",
       "      <th>31352</th>\n",
       "      <td>0</td>\n",
       "      <td>0</td>\n",
       "    </tr>\n",
       "    <tr>\n",
       "      <th>31353</th>\n",
       "      <td>0</td>\n",
       "      <td>0</td>\n",
       "    </tr>\n",
       "  </tbody>\n",
       "</table>\n",
       "<p>31354 rows × 2 columns</p>\n",
       "</div>"
      ],
      "text/plain": [
       "       contest-tmp2m-14d__tmp2m  index\n",
       "0                            20      0\n",
       "1                            20      0\n",
       "2                            20      0\n",
       "3                            20      0\n",
       "4                            20      0\n",
       "...                         ...    ...\n",
       "31349                         0      0\n",
       "31350                         0      0\n",
       "31351                         0      0\n",
       "31352                         0      0\n",
       "31353                         0      0\n",
       "\n",
       "[31354 rows x 2 columns]"
      ]
     },
     "execution_count": 16,
     "metadata": {},
     "output_type": "execute_result"
    }
   ],
   "source": [
    "final"
   ]
  }
 ],
 "metadata": {
  "kernelspec": {
   "display_name": "Python 3",
   "language": "python",
   "name": "python3"
  },
  "language_info": {
   "codemirror_mode": {
    "name": "ipython",
    "version": 3
   },
   "file_extension": ".py",
   "mimetype": "text/x-python",
   "name": "python",
   "nbconvert_exporter": "python",
   "pygments_lexer": "ipython3",
   "version": "3.7.12"
  },
  "papermill": {
   "default_parameters": {},
   "duration": 167.261779,
   "end_time": "2023-02-20T01:13:06.561977",
   "environment_variables": {},
   "exception": null,
   "input_path": "__notebook__.ipynb",
   "output_path": "__notebook__.ipynb",
   "parameters": {},
   "start_time": "2023-02-20T01:10:19.300198",
   "version": "2.3.4"
  }
 },
 "nbformat": 4,
 "nbformat_minor": 5
}
