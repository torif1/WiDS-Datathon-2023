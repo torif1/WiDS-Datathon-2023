{
 "cells": [
  {
   "cell_type": "code",
   "execution_count": 1,
   "id": "65de3931",
   "metadata": {
    "_cell_guid": "b1076dfc-b9ad-4769-8c92-a6c4dae69d19",
    "_uuid": "8f2839f25d086af736a60e9eeb907d3b93b6e0e5",
    "execution": {
     "iopub.execute_input": "2023-02-20T00:36:52.602352Z",
     "iopub.status.busy": "2023-02-20T00:36:52.601986Z",
     "iopub.status.idle": "2023-02-20T00:36:53.611484Z",
     "shell.execute_reply": "2023-02-20T00:36:53.610618Z"
    },
    "papermill": {
     "duration": 1.019431,
     "end_time": "2023-02-20T00:36:53.613348",
     "exception": false,
     "start_time": "2023-02-20T00:36:52.593917",
     "status": "completed"
    },
    "tags": []
   },
   "outputs": [
    {
     "name": "stdout",
     "output_type": "stream",
     "text": [
      "/kaggle/input/widsdatathon2023/train_data.csv\n",
      "/kaggle/input/widsdatathon2023/test_data.csv\n",
      "/kaggle/input/widsdatathon2023/sample_solution.csv\n"
     ]
    }
   ],
   "source": [
    "import numpy as np # linear algebra\n",
    "import pandas as pd # data processing, CSV file I/O (e.g. pd.read_csv)\n",
    "from sklearn import preprocessing #Convert categorical data to neumeric values\n",
    "from sklearn.neural_network import MLPClassifier #Model being used\n",
    "\n",
    "import os\n",
    "for dirname, _, filenames in os.walk('/kaggle/input'):\n",
    "    for filename in filenames:\n",
    "        print(os.path.join(dirname, filename))"
   ]
  },
  {
   "cell_type": "code",
   "execution_count": 2,
   "id": "fdf1bbe1",
   "metadata": {
    "execution": {
     "iopub.execute_input": "2023-02-20T00:36:53.623055Z",
     "iopub.status.busy": "2023-02-20T00:36:53.622542Z",
     "iopub.status.idle": "2023-02-20T00:36:53.626894Z",
     "shell.execute_reply": "2023-02-20T00:36:53.626257Z"
    },
    "papermill": {
     "duration": 0.011383,
     "end_time": "2023-02-20T00:36:53.628807",
     "exception": false,
     "start_time": "2023-02-20T00:36:53.617424",
     "status": "completed"
    },
    "tags": []
   },
   "outputs": [],
   "source": [
    "keep_columns=['lat','month','contest-tmp2m-14d__tmp2m',\n",
    "              'climateregions__climateregion']"
   ]
  },
  {
   "cell_type": "code",
   "execution_count": 3,
   "id": "ba9df49d",
   "metadata": {
    "execution": {
     "iopub.execute_input": "2023-02-20T00:36:53.638028Z",
     "iopub.status.busy": "2023-02-20T00:36:53.637483Z",
     "iopub.status.idle": "2023-02-20T00:36:53.643380Z",
     "shell.execute_reply": "2023-02-20T00:36:53.642042Z"
    },
    "papermill": {
     "duration": 0.012656,
     "end_time": "2023-02-20T00:36:53.645300",
     "exception": false,
     "start_time": "2023-02-20T00:36:53.632644",
     "status": "completed"
    },
    "tags": []
   },
   "outputs": [],
   "source": [
    "def seperate_monthly(df):\n",
    "    df[['month','day','year']]=df.startdate.str.split('/',expand=True)\n",
    "    df=df.drop('day', axis=1)\n",
    "    df=df.drop('startdate',axis=1)\n",
    "    return df"
   ]
  },
  {
   "cell_type": "code",
   "execution_count": 4,
   "id": "cbe93c90",
   "metadata": {
    "execution": {
     "iopub.execute_input": "2023-02-20T00:36:53.654718Z",
     "iopub.status.busy": "2023-02-20T00:36:53.654392Z",
     "iopub.status.idle": "2023-02-20T00:36:53.659492Z",
     "shell.execute_reply": "2023-02-20T00:36:53.658157Z"
    },
    "papermill": {
     "duration": 0.012603,
     "end_time": "2023-02-20T00:36:53.661940",
     "exception": false,
     "start_time": "2023-02-20T00:36:53.649337",
     "status": "completed"
    },
    "tags": []
   },
   "outputs": [],
   "source": [
    "def eliminate_columns(df):\n",
    "    for col in df.columns:\n",
    "        if col in keep_columns:\n",
    "            print(col)\n",
    "        else: \n",
    "            df=df.drop(col, axis=1)\n",
    "    return df"
   ]
  },
  {
   "cell_type": "code",
   "execution_count": 5,
   "id": "b8c940e5",
   "metadata": {
    "execution": {
     "iopub.execute_input": "2023-02-20T00:36:53.672038Z",
     "iopub.status.busy": "2023-02-20T00:36:53.671126Z",
     "iopub.status.idle": "2023-02-20T00:36:53.675693Z",
     "shell.execute_reply": "2023-02-20T00:36:53.675018Z"
    },
    "papermill": {
     "duration": 0.011222,
     "end_time": "2023-02-20T00:36:53.677230",
     "exception": false,
     "start_time": "2023-02-20T00:36:53.666008",
     "status": "completed"
    },
    "tags": []
   },
   "outputs": [],
   "source": [
    "def seperate_y(df):\n",
    "    y_df=df['contest-tmp2m-14d__tmp2m']\n",
    "    X_df=df.drop('contest-tmp2m-14d__tmp2m',axis=1)\n",
    "    return y_df,X_df"
   ]
  },
  {
   "cell_type": "code",
   "execution_count": 6,
   "id": "d608d329",
   "metadata": {
    "execution": {
     "iopub.execute_input": "2023-02-20T00:36:53.686223Z",
     "iopub.status.busy": "2023-02-20T00:36:53.685891Z",
     "iopub.status.idle": "2023-02-20T00:37:13.501964Z",
     "shell.execute_reply": "2023-02-20T00:37:13.500811Z"
    },
    "papermill": {
     "duration": 19.823266,
     "end_time": "2023-02-20T00:37:13.504309",
     "exception": false,
     "start_time": "2023-02-20T00:36:53.681043",
     "status": "completed"
    },
    "tags": []
   },
   "outputs": [],
   "source": [
    "train_df=pd.read_csv('/kaggle/input/widsdatathon2023/train_data.csv')\n",
    "train_df=train_df.dropna(axis=0)\n",
    "test_df=pd.read_csv('/kaggle/input/widsdatathon2023/test_data.csv')\n",
    "test_df=test_df.dropna(axis=0)"
   ]
  },
  {
   "cell_type": "code",
   "execution_count": 7,
   "id": "ab36a52f",
   "metadata": {
    "execution": {
     "iopub.execute_input": "2023-02-20T00:37:13.513384Z",
     "iopub.status.busy": "2023-02-20T00:37:13.513046Z",
     "iopub.status.idle": "2023-02-20T00:37:13.604618Z",
     "shell.execute_reply": "2023-02-20T00:37:13.603318Z"
    },
    "papermill": {
     "duration": 0.09862,
     "end_time": "2023-02-20T00:37:13.606850",
     "exception": false,
     "start_time": "2023-02-20T00:37:13.508230",
     "status": "completed"
    },
    "tags": []
   },
   "outputs": [],
   "source": [
    "le = preprocessing.LabelEncoder()\n",
    "\n",
    "# Converting string labels into numbers.\n",
    "train_df['climateregions__climateregion']=le.fit_transform(train_df['climateregions__climateregion'])\n",
    "test_df['climateregions__climateregion']=le.fit_transform(test_df['climateregions__climateregion'])"
   ]
  },
  {
   "cell_type": "code",
   "execution_count": 8,
   "id": "0fe6c441",
   "metadata": {
    "execution": {
     "iopub.execute_input": "2023-02-20T00:37:13.615620Z",
     "iopub.status.busy": "2023-02-20T00:37:13.615333Z",
     "iopub.status.idle": "2023-02-20T00:37:33.615607Z",
     "shell.execute_reply": "2023-02-20T00:37:33.614561Z"
    },
    "papermill": {
     "duration": 20.007512,
     "end_time": "2023-02-20T00:37:33.618221",
     "exception": false,
     "start_time": "2023-02-20T00:37:13.610709",
     "status": "completed"
    },
    "tags": []
   },
   "outputs": [
    {
     "name": "stdout",
     "output_type": "stream",
     "text": [
      "training set\n",
      "lat\n",
      "contest-tmp2m-14d__tmp2m\n",
      "climateregions__climateregion\n",
      "month\n",
      "test set\n",
      "lat\n",
      "climateregions__climateregion\n",
      "month\n"
     ]
    }
   ],
   "source": [
    "print('training set')\n",
    "train_df=seperate_monthly(train_df)\n",
    "train_df=eliminate_columns(train_df)\n",
    "print('test set')\n",
    "test_df=seperate_monthly(test_df)\n",
    "test_df=eliminate_columns(test_df)"
   ]
  },
  {
   "cell_type": "code",
   "execution_count": 9,
   "id": "337b39ce",
   "metadata": {
    "execution": {
     "iopub.execute_input": "2023-02-20T00:37:33.628694Z",
     "iopub.status.busy": "2023-02-20T00:37:33.628360Z",
     "iopub.status.idle": "2023-02-20T00:37:33.647399Z",
     "shell.execute_reply": "2023-02-20T00:37:33.646532Z"
    },
    "papermill": {
     "duration": 0.027262,
     "end_time": "2023-02-20T00:37:33.649707",
     "exception": false,
     "start_time": "2023-02-20T00:37:33.622445",
     "status": "completed"
    },
    "tags": []
   },
   "outputs": [
    {
     "data": {
      "text/html": [
       "<div>\n",
       "<style scoped>\n",
       "    .dataframe tbody tr th:only-of-type {\n",
       "        vertical-align: middle;\n",
       "    }\n",
       "\n",
       "    .dataframe tbody tr th {\n",
       "        vertical-align: top;\n",
       "    }\n",
       "\n",
       "    .dataframe thead th {\n",
       "        text-align: right;\n",
       "    }\n",
       "</style>\n",
       "<table border=\"1\" class=\"dataframe\">\n",
       "  <thead>\n",
       "    <tr style=\"text-align: right;\">\n",
       "      <th></th>\n",
       "      <th>lat</th>\n",
       "      <th>contest-tmp2m-14d__tmp2m</th>\n",
       "      <th>climateregions__climateregion</th>\n",
       "      <th>month</th>\n",
       "    </tr>\n",
       "  </thead>\n",
       "  <tbody>\n",
       "    <tr>\n",
       "      <th>0</th>\n",
       "      <td>0.0</td>\n",
       "      <td>28.744480</td>\n",
       "      <td>0</td>\n",
       "      <td>9</td>\n",
       "    </tr>\n",
       "    <tr>\n",
       "      <th>1</th>\n",
       "      <td>0.0</td>\n",
       "      <td>28.370585</td>\n",
       "      <td>0</td>\n",
       "      <td>9</td>\n",
       "    </tr>\n",
       "    <tr>\n",
       "      <th>2</th>\n",
       "      <td>0.0</td>\n",
       "      <td>28.133059</td>\n",
       "      <td>0</td>\n",
       "      <td>9</td>\n",
       "    </tr>\n",
       "    <tr>\n",
       "      <th>3</th>\n",
       "      <td>0.0</td>\n",
       "      <td>28.256798</td>\n",
       "      <td>0</td>\n",
       "      <td>9</td>\n",
       "    </tr>\n",
       "    <tr>\n",
       "      <th>4</th>\n",
       "      <td>0.0</td>\n",
       "      <td>28.372353</td>\n",
       "      <td>0</td>\n",
       "      <td>9</td>\n",
       "    </tr>\n",
       "    <tr>\n",
       "      <th>...</th>\n",
       "      <td>...</td>\n",
       "      <td>...</td>\n",
       "      <td>...</td>\n",
       "      <td>...</td>\n",
       "    </tr>\n",
       "    <tr>\n",
       "      <th>375729</th>\n",
       "      <td>1.0</td>\n",
       "      <td>17.150954</td>\n",
       "      <td>9</td>\n",
       "      <td>8</td>\n",
       "    </tr>\n",
       "    <tr>\n",
       "      <th>375730</th>\n",
       "      <td>1.0</td>\n",
       "      <td>16.962051</td>\n",
       "      <td>9</td>\n",
       "      <td>8</td>\n",
       "    </tr>\n",
       "    <tr>\n",
       "      <th>375731</th>\n",
       "      <td>1.0</td>\n",
       "      <td>16.915474</td>\n",
       "      <td>9</td>\n",
       "      <td>8</td>\n",
       "    </tr>\n",
       "    <tr>\n",
       "      <th>375732</th>\n",
       "      <td>1.0</td>\n",
       "      <td>16.536761</td>\n",
       "      <td>9</td>\n",
       "      <td>8</td>\n",
       "    </tr>\n",
       "    <tr>\n",
       "      <th>375733</th>\n",
       "      <td>1.0</td>\n",
       "      <td>15.910995</td>\n",
       "      <td>9</td>\n",
       "      <td>8</td>\n",
       "    </tr>\n",
       "  </tbody>\n",
       "</table>\n",
       "<p>352604 rows × 4 columns</p>\n",
       "</div>"
      ],
      "text/plain": [
       "        lat  contest-tmp2m-14d__tmp2m  climateregions__climateregion month\n",
       "0       0.0                 28.744480                              0     9\n",
       "1       0.0                 28.370585                              0     9\n",
       "2       0.0                 28.133059                              0     9\n",
       "3       0.0                 28.256798                              0     9\n",
       "4       0.0                 28.372353                              0     9\n",
       "...     ...                       ...                            ...   ...\n",
       "375729  1.0                 17.150954                              9     8\n",
       "375730  1.0                 16.962051                              9     8\n",
       "375731  1.0                 16.915474                              9     8\n",
       "375732  1.0                 16.536761                              9     8\n",
       "375733  1.0                 15.910995                              9     8\n",
       "\n",
       "[352604 rows x 4 columns]"
      ]
     },
     "execution_count": 9,
     "metadata": {},
     "output_type": "execute_result"
    }
   ],
   "source": [
    "train_df"
   ]
  },
  {
   "cell_type": "code",
   "execution_count": 10,
   "id": "220fbcdd",
   "metadata": {
    "execution": {
     "iopub.execute_input": "2023-02-20T00:37:33.659991Z",
     "iopub.status.busy": "2023-02-20T00:37:33.659618Z",
     "iopub.status.idle": "2023-02-20T00:37:33.671568Z",
     "shell.execute_reply": "2023-02-20T00:37:33.670608Z"
    },
    "papermill": {
     "duration": 0.018818,
     "end_time": "2023-02-20T00:37:33.673095",
     "exception": false,
     "start_time": "2023-02-20T00:37:33.654277",
     "status": "completed"
    },
    "tags": []
   },
   "outputs": [],
   "source": [
    "y_train_df,X_train_df= seperate_y(train_df)"
   ]
  },
  {
   "cell_type": "code",
   "execution_count": 11,
   "id": "9986a037",
   "metadata": {
    "execution": {
     "iopub.execute_input": "2023-02-20T00:37:33.683911Z",
     "iopub.status.busy": "2023-02-20T00:37:33.682938Z",
     "iopub.status.idle": "2023-02-20T00:37:33.689294Z",
     "shell.execute_reply": "2023-02-20T00:37:33.688629Z"
    },
    "papermill": {
     "duration": 0.013744,
     "end_time": "2023-02-20T00:37:33.691185",
     "exception": false,
     "start_time": "2023-02-20T00:37:33.677441",
     "status": "completed"
    },
    "tags": []
   },
   "outputs": [],
   "source": [
    "y_train_df=y_train_df.astype('int')"
   ]
  },
  {
   "cell_type": "code",
   "execution_count": 12,
   "id": "b2952661",
   "metadata": {
    "execution": {
     "iopub.execute_input": "2023-02-20T00:37:33.702125Z",
     "iopub.status.busy": "2023-02-20T00:37:33.700826Z",
     "iopub.status.idle": "2023-02-20T00:39:27.809870Z",
     "shell.execute_reply": "2023-02-20T00:39:27.809025Z"
    },
    "papermill": {
     "duration": 114.115934,
     "end_time": "2023-02-20T00:39:27.811527",
     "exception": false,
     "start_time": "2023-02-20T00:37:33.695593",
     "status": "completed"
    },
    "tags": []
   },
   "outputs": [
    {
     "name": "stdout",
     "output_type": "stream",
     "text": [
      "Iteration 1, loss = 3.40323358\n",
      "Iteration 2, loss = 3.08303248\n",
      "Iteration 3, loss = 2.78333346\n",
      "Iteration 4, loss = 2.76002665\n",
      "Iteration 5, loss = 2.75446410\n",
      "Iteration 6, loss = 2.75055503\n",
      "Iteration 7, loss = 2.75061419\n",
      "Iteration 8, loss = 2.74840022\n",
      "Iteration 9, loss = 2.74691717\n",
      "Iteration 10, loss = 2.74515032\n",
      "Iteration 11, loss = 2.74255324\n",
      "Iteration 12, loss = 2.74060331\n",
      "Iteration 13, loss = 2.73913645\n",
      "Iteration 14, loss = 2.73845771\n",
      "Iteration 15, loss = 2.73705732\n",
      "Iteration 16, loss = 2.73564482\n",
      "Iteration 17, loss = 2.73595621\n",
      "Iteration 18, loss = 2.73578437\n",
      "Iteration 19, loss = 2.73548534\n",
      "Iteration 20, loss = 2.73494189\n",
      "Iteration 21, loss = 2.73427452\n",
      "Iteration 22, loss = 2.73524559\n",
      "Iteration 23, loss = 2.73475280\n",
      "Iteration 24, loss = 2.73420767\n",
      "Iteration 25, loss = 2.73351069\n",
      "Iteration 26, loss = 2.73392183\n",
      "Iteration 27, loss = 2.73271896\n",
      "Iteration 28, loss = 2.73210968\n",
      "Iteration 29, loss = 2.73236539\n",
      "Iteration 30, loss = 2.73213020\n",
      "Iteration 31, loss = 2.73225223\n",
      "Iteration 32, loss = 2.73100298\n",
      "Iteration 33, loss = 2.73092930\n",
      "Iteration 34, loss = 2.73142023\n",
      "Iteration 35, loss = 2.73169021\n",
      "Iteration 36, loss = 2.72942758\n",
      "Iteration 37, loss = 2.73093266\n",
      "Iteration 38, loss = 2.72959869\n",
      "Iteration 39, loss = 2.73015729\n",
      "Iteration 40, loss = 2.72943897\n",
      "Iteration 41, loss = 2.73148520\n",
      "Iteration 42, loss = 2.72889556\n",
      "Iteration 43, loss = 2.72913175\n",
      "Iteration 44, loss = 2.72800812\n",
      "Iteration 45, loss = 2.72891044\n",
      "Iteration 46, loss = 2.72692123\n",
      "Iteration 47, loss = 2.72667006\n",
      "Iteration 48, loss = 2.72510695\n",
      "Iteration 49, loss = 2.72325164\n",
      "Iteration 50, loss = 2.72163272\n",
      "Iteration 51, loss = 2.72073269\n",
      "Iteration 52, loss = 2.71994570\n",
      "Iteration 53, loss = 2.71910959\n",
      "Iteration 54, loss = 2.71856237\n",
      "Iteration 55, loss = 2.71799319\n",
      "Iteration 56, loss = 2.71770608\n",
      "Iteration 57, loss = 2.71824068\n",
      "Iteration 58, loss = 2.71812451\n",
      "Iteration 59, loss = 2.71767936\n",
      "Iteration 60, loss = 2.71746056\n",
      "Iteration 61, loss = 2.71669896\n",
      "Iteration 62, loss = 2.71632910\n",
      "Iteration 63, loss = 2.71601217\n",
      "Iteration 64, loss = 2.71626104\n",
      "Iteration 65, loss = 2.71631338\n",
      "Iteration 66, loss = 2.71466625\n",
      "Iteration 67, loss = 2.71504250\n",
      "Iteration 68, loss = 2.71481070\n",
      "Iteration 69, loss = 2.71523041\n",
      "Iteration 70, loss = 2.71385225\n",
      "Iteration 71, loss = 2.71381809\n",
      "Iteration 72, loss = 2.71412539\n",
      "Iteration 73, loss = 2.71304741\n",
      "Iteration 74, loss = 2.71358072\n",
      "Iteration 75, loss = 2.71300571\n",
      "Iteration 76, loss = 2.71430426\n",
      "Iteration 77, loss = 2.71265940\n",
      "Iteration 78, loss = 2.71237435\n",
      "Iteration 79, loss = 2.71273567\n",
      "Iteration 80, loss = 2.71303569\n",
      "Iteration 81, loss = 2.71363759\n",
      "Iteration 82, loss = 2.71328646\n",
      "Iteration 83, loss = 2.71322240\n",
      "Iteration 84, loss = 2.71305968\n",
      "Iteration 85, loss = 2.71243156\n",
      "Iteration 86, loss = 2.71271404\n",
      "Iteration 87, loss = 2.71286422\n",
      "Iteration 88, loss = 2.71271363\n",
      "Iteration 89, loss = 2.71231680\n",
      "Training loss did not improve more than tol=0.000100 for 10 consecutive epochs. Stopping.\n"
     ]
    },
    {
     "data": {
      "text/plain": [
       "MLPClassifier(hidden_layer_sizes=(2, 10), learning_rate_init=0.01,\n",
       "              random_state=100, verbose=True)"
      ]
     },
     "execution_count": 12,
     "metadata": {},
     "output_type": "execute_result"
    }
   ],
   "source": [
    "clf = MLPClassifier(hidden_layer_sizes=(2,10),\n",
    "                    random_state=100,\n",
    "                    verbose=True,\n",
    "                    learning_rate_init=0.01)\n",
    "\n",
    "# Fit data onto the model\n",
    "clf.fit(X_train_df,y_train_df)"
   ]
  },
  {
   "cell_type": "code",
   "execution_count": 13,
   "id": "c0ab0db2",
   "metadata": {
    "execution": {
     "iopub.execute_input": "2023-02-20T00:39:27.830739Z",
     "iopub.status.busy": "2023-02-20T00:39:27.830454Z",
     "iopub.status.idle": "2023-02-20T00:39:27.892927Z",
     "shell.execute_reply": "2023-02-20T00:39:27.892043Z"
    },
    "papermill": {
     "duration": 0.075043,
     "end_time": "2023-02-20T00:39:27.895548",
     "exception": false,
     "start_time": "2023-02-20T00:39:27.820505",
     "status": "completed"
    },
    "tags": []
   },
   "outputs": [],
   "source": [
    "ypred=clf.predict(test_df)"
   ]
  },
  {
   "cell_type": "code",
   "execution_count": 14,
   "id": "78db29be",
   "metadata": {
    "execution": {
     "iopub.execute_input": "2023-02-20T00:39:27.921413Z",
     "iopub.status.busy": "2023-02-20T00:39:27.921057Z",
     "iopub.status.idle": "2023-02-20T00:39:33.653539Z",
     "shell.execute_reply": "2023-02-20T00:39:33.652642Z"
    },
    "papermill": {
     "duration": 5.747575,
     "end_time": "2023-02-20T00:39:33.655239",
     "exception": false,
     "start_time": "2023-02-20T00:39:27.907664",
     "status": "completed"
    },
    "tags": []
   },
   "outputs": [
    {
     "data": {
      "text/html": [
       "<div>\n",
       "<style scoped>\n",
       "    .dataframe tbody tr th:only-of-type {\n",
       "        vertical-align: middle;\n",
       "    }\n",
       "\n",
       "    .dataframe tbody tr th {\n",
       "        vertical-align: top;\n",
       "    }\n",
       "\n",
       "    .dataframe thead th {\n",
       "        text-align: right;\n",
       "    }\n",
       "</style>\n",
       "<table border=\"1\" class=\"dataframe\">\n",
       "  <thead>\n",
       "    <tr style=\"text-align: right;\">\n",
       "      <th></th>\n",
       "      <th>contest-tmp2m-14d__tmp2m</th>\n",
       "      <th># index</th>\n",
       "    </tr>\n",
       "  </thead>\n",
       "  <tbody>\n",
       "    <tr>\n",
       "      <th>0</th>\n",
       "      <td>20</td>\n",
       "      <td>352604</td>\n",
       "    </tr>\n",
       "    <tr>\n",
       "      <th>1</th>\n",
       "      <td>20</td>\n",
       "      <td>352605</td>\n",
       "    </tr>\n",
       "    <tr>\n",
       "      <th>2</th>\n",
       "      <td>20</td>\n",
       "      <td>352606</td>\n",
       "    </tr>\n",
       "    <tr>\n",
       "      <th>3</th>\n",
       "      <td>20</td>\n",
       "      <td>352607</td>\n",
       "    </tr>\n",
       "    <tr>\n",
       "      <th>4</th>\n",
       "      <td>20</td>\n",
       "      <td>352608</td>\n",
       "    </tr>\n",
       "    <tr>\n",
       "      <th>...</th>\n",
       "      <td>...</td>\n",
       "      <td>...</td>\n",
       "    </tr>\n",
       "    <tr>\n",
       "      <th>31349</th>\n",
       "      <td>0</td>\n",
       "      <td>383953</td>\n",
       "    </tr>\n",
       "    <tr>\n",
       "      <th>31350</th>\n",
       "      <td>0</td>\n",
       "      <td>383954</td>\n",
       "    </tr>\n",
       "    <tr>\n",
       "      <th>31351</th>\n",
       "      <td>0</td>\n",
       "      <td>383955</td>\n",
       "    </tr>\n",
       "    <tr>\n",
       "      <th>31352</th>\n",
       "      <td>0</td>\n",
       "      <td>383956</td>\n",
       "    </tr>\n",
       "    <tr>\n",
       "      <th>31353</th>\n",
       "      <td>0</td>\n",
       "      <td>383957</td>\n",
       "    </tr>\n",
       "  </tbody>\n",
       "</table>\n",
       "<p>31354 rows × 2 columns</p>\n",
       "</div>"
      ],
      "text/plain": [
       "       contest-tmp2m-14d__tmp2m  # index\n",
       "0                            20   352604\n",
       "1                            20   352605\n",
       "2                            20   352606\n",
       "3                            20   352607\n",
       "4                            20   352608\n",
       "...                         ...      ...\n",
       "31349                         0   383953\n",
       "31350                         0   383954\n",
       "31351                         0   383955\n",
       "31352                         0   383956\n",
       "31353                         0   383957\n",
       "\n",
       "[31354 rows x 2 columns]"
      ]
     },
     "execution_count": 14,
     "metadata": {},
     "output_type": "execute_result"
    }
   ],
   "source": [
    "#Trying to create a final \n",
    "final=pd.DataFrame()\n",
    "final['contest-tmp2m-14d__tmp2m']=ypred\n",
    "final['# index']=0\n",
    "i=len(train_df) #Legnth of train_data.csv\n",
    "while i<len(train_df)+len(test_df):\n",
    "    final['# index'][i-len(train_df)]=i\n",
    "    i+=1\n",
    "final"
   ]
  },
  {
   "cell_type": "code",
   "execution_count": 15,
   "id": "497265b5",
   "metadata": {
    "execution": {
     "iopub.execute_input": "2023-02-20T00:39:33.675905Z",
     "iopub.status.busy": "2023-02-20T00:39:33.675458Z",
     "iopub.status.idle": "2023-02-20T00:39:33.710357Z",
     "shell.execute_reply": "2023-02-20T00:39:33.708995Z"
    },
    "papermill": {
     "duration": 0.047713,
     "end_time": "2023-02-20T00:39:33.712498",
     "exception": false,
     "start_time": "2023-02-20T00:39:33.664785",
     "status": "completed"
    },
    "tags": []
   },
   "outputs": [],
   "source": [
    "final.to_csv('final.csv',index=False)"
   ]
  },
  {
   "cell_type": "code",
   "execution_count": 16,
   "id": "077ed4ad",
   "metadata": {
    "execution": {
     "iopub.execute_input": "2023-02-20T00:39:33.732387Z",
     "iopub.status.busy": "2023-02-20T00:39:33.732099Z",
     "iopub.status.idle": "2023-02-20T00:39:33.743080Z",
     "shell.execute_reply": "2023-02-20T00:39:33.742108Z"
    },
    "papermill": {
     "duration": 0.023745,
     "end_time": "2023-02-20T00:39:33.745555",
     "exception": false,
     "start_time": "2023-02-20T00:39:33.721810",
     "status": "completed"
    },
    "tags": []
   },
   "outputs": [
    {
     "data": {
      "text/html": [
       "<div>\n",
       "<style scoped>\n",
       "    .dataframe tbody tr th:only-of-type {\n",
       "        vertical-align: middle;\n",
       "    }\n",
       "\n",
       "    .dataframe tbody tr th {\n",
       "        vertical-align: top;\n",
       "    }\n",
       "\n",
       "    .dataframe thead th {\n",
       "        text-align: right;\n",
       "    }\n",
       "</style>\n",
       "<table border=\"1\" class=\"dataframe\">\n",
       "  <thead>\n",
       "    <tr style=\"text-align: right;\">\n",
       "      <th></th>\n",
       "      <th>contest-tmp2m-14d__tmp2m</th>\n",
       "      <th># index</th>\n",
       "    </tr>\n",
       "  </thead>\n",
       "  <tbody>\n",
       "    <tr>\n",
       "      <th>0</th>\n",
       "      <td>20</td>\n",
       "      <td>352604</td>\n",
       "    </tr>\n",
       "    <tr>\n",
       "      <th>1</th>\n",
       "      <td>20</td>\n",
       "      <td>352605</td>\n",
       "    </tr>\n",
       "    <tr>\n",
       "      <th>2</th>\n",
       "      <td>20</td>\n",
       "      <td>352606</td>\n",
       "    </tr>\n",
       "    <tr>\n",
       "      <th>3</th>\n",
       "      <td>20</td>\n",
       "      <td>352607</td>\n",
       "    </tr>\n",
       "    <tr>\n",
       "      <th>4</th>\n",
       "      <td>20</td>\n",
       "      <td>352608</td>\n",
       "    </tr>\n",
       "    <tr>\n",
       "      <th>...</th>\n",
       "      <td>...</td>\n",
       "      <td>...</td>\n",
       "    </tr>\n",
       "    <tr>\n",
       "      <th>31349</th>\n",
       "      <td>0</td>\n",
       "      <td>383953</td>\n",
       "    </tr>\n",
       "    <tr>\n",
       "      <th>31350</th>\n",
       "      <td>0</td>\n",
       "      <td>383954</td>\n",
       "    </tr>\n",
       "    <tr>\n",
       "      <th>31351</th>\n",
       "      <td>0</td>\n",
       "      <td>383955</td>\n",
       "    </tr>\n",
       "    <tr>\n",
       "      <th>31352</th>\n",
       "      <td>0</td>\n",
       "      <td>383956</td>\n",
       "    </tr>\n",
       "    <tr>\n",
       "      <th>31353</th>\n",
       "      <td>0</td>\n",
       "      <td>383957</td>\n",
       "    </tr>\n",
       "  </tbody>\n",
       "</table>\n",
       "<p>31354 rows × 2 columns</p>\n",
       "</div>"
      ],
      "text/plain": [
       "       contest-tmp2m-14d__tmp2m  # index\n",
       "0                            20   352604\n",
       "1                            20   352605\n",
       "2                            20   352606\n",
       "3                            20   352607\n",
       "4                            20   352608\n",
       "...                         ...      ...\n",
       "31349                         0   383953\n",
       "31350                         0   383954\n",
       "31351                         0   383955\n",
       "31352                         0   383956\n",
       "31353                         0   383957\n",
       "\n",
       "[31354 rows x 2 columns]"
      ]
     },
     "execution_count": 16,
     "metadata": {},
     "output_type": "execute_result"
    }
   ],
   "source": [
    "final"
   ]
  }
 ],
 "metadata": {
  "kernelspec": {
   "display_name": "Python 3",
   "language": "python",
   "name": "python3"
  },
  "language_info": {
   "codemirror_mode": {
    "name": "ipython",
    "version": 3
   },
   "file_extension": ".py",
   "mimetype": "text/x-python",
   "name": "python",
   "nbconvert_exporter": "python",
   "pygments_lexer": "ipython3",
   "version": "3.7.12"
  },
  "papermill": {
   "default_parameters": {},
   "duration": 169.140807,
   "end_time": "2023-02-20T00:39:34.478066",
   "environment_variables": {},
   "exception": null,
   "input_path": "__notebook__.ipynb",
   "output_path": "__notebook__.ipynb",
   "parameters": {},
   "start_time": "2023-02-20T00:36:45.337259",
   "version": "2.3.4"
  }
 },
 "nbformat": 4,
 "nbformat_minor": 5
}
